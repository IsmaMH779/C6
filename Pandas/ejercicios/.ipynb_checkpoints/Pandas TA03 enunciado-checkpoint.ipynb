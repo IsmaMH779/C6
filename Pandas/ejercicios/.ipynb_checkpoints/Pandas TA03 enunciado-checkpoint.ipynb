{
 "cells": [
  {
   "cell_type": "code",
   "execution_count": 2,
   "id": "55f8ca41",
   "metadata": {},
   "outputs": [
    {
     "name": "stdout",
     "output_type": "stream",
     "text": [
      "Collecting faker\n",
      "  Downloading Faker-19.2.0-py3-none-any.whl (1.7 MB)\n",
      "                                              0.0/1.7 MB ? eta -:--:--\n",
      "     -------                                  0.3/1.7 MB 7.0 MB/s eta 0:00:01\n",
      "     --------------------                     0.9/1.7 MB 8.0 MB/s eta 0:00:01\n",
      "     ---------------------------------        1.4/1.7 MB 9.1 MB/s eta 0:00:01\n",
      "     ---------------------------------------  1.7/1.7 MB 9.9 MB/s eta 0:00:01\n",
      "     ---------------------------------------  1.7/1.7 MB 9.9 MB/s eta 0:00:01\n",
      "     ---------------------------------------- 1.7/1.7 MB 6.4 MB/s eta 0:00:00\n",
      "Requirement already satisfied: python-dateutil>=2.4 in c:\\users\\pc\\appdata\\roaming\\python\\python311\\site-packages (from faker) (2.8.2)\n",
      "Requirement already satisfied: six>=1.5 in c:\\users\\pc\\appdata\\roaming\\python\\python311\\site-packages (from python-dateutil>=2.4->faker) (1.16.0)\n",
      "Installing collected packages: faker\n",
      "Successfully installed faker-19.2.0\n"
     ]
    }
   ],
   "source": [
    "!pip install faker\n"
   ]
  },
  {
   "cell_type": "markdown",
   "id": "7b87e8d6",
   "metadata": {},
   "source": [
    "### Enunciado:\n",
    "Supongamos que tienes un archivo CSV llamado \"ventas.csv\" que contiene información sobre las ventas de productos en una tienda. El archivo tiene las siguientes columnas: \"Producto\", \"Fecha\", \"Cantidad\", \"Precio_unitario\" y \"Total_venta\"."
   ]
  },
  {
   "cell_type": "markdown",
   "id": "9b910cd0",
   "metadata": {},
   "source": [
    "### crear dataset"
   ]
  },
  {
   "cell_type": "code",
   "execution_count": 4,
   "id": "41ecc914",
   "metadata": {},
   "outputs": [
    {
     "name": "stdout",
     "output_type": "stream",
     "text": [
      "Dataset creado y guardado en ventas.csv\n"
     ]
    }
   ],
   "source": [
    "import pandas as pd\n",
    "import random\n",
    "from faker import Faker\n",
    "\n",
    "# Utilizamos Faker para generar datos aleatorios realistas\n",
    "fake = Faker()\n",
    "\n",
    "# Lista de productos de ejemplo\n",
    "productos = ['Camiseta', 'Pantalón', 'Zapatos', 'Gorra', 'Bufanda', 'Bolso', 'Reloj']\n",
    "\n",
    "# Crear una lista para almacenar los datos generados\n",
    "data = []\n",
    "\n",
    "# Generar datos de ejemplo\n",
    "for _ in range(100):\n",
    "    producto = random.choice(productos)\n",
    "    fecha = fake.date_between(start_date='-1y', end_date='today')\n",
    "    cantidad = random.randint(10, 100)\n",
    "    precio_unitario = round(random.uniform(5, 50), 2)\n",
    "    total_venta = round(cantidad * precio_unitario, 2)\n",
    "\n",
    "    data.append([producto, fecha, cantidad, precio_unitario, total_venta])\n",
    "\n",
    "# Crear un DataFrame con los datos generados\n",
    "columns = ['Producto', 'Fecha', 'Cantidad', 'Precio_unitario', 'Total_venta']\n",
    "df_ventas = pd.DataFrame(data, columns=columns)\n",
    "\n",
    "# Guardar el DataFrame en un archivo CSV llamado \"ventas.csv\"\n",
    "df_ventas.to_csv('ventas.csv', index=False)\n",
    "\n",
    "print(\"Dataset creado y guardado en ventas.csv\")\n"
   ]
  },
  {
   "cell_type": "markdown",
   "id": "885dea62",
   "metadata": {},
   "source": [
    "\n",
    "#### Ejercicios"
   ]
  },
  {
   "cell_type": "markdown",
   "id": "063f3f26",
   "metadata": {},
   "source": [
    "- 1 Lee el archivo CSV en un DataFrame de Pandas.\n",
    "- 2 Muestra las primeras 5 filas del DataFrame para revisar los datos.\n",
    "- 3 Calcula el total de ventas por producto y muestra los resultados en orden descendente.\n",
    "- 4 Calcula la cantidad promedio y el precio unitario promedio de los productos vendidos.\n",
    "- 5 Encuentra la fecha en la que se registró la venta más antigua y la venta más reciente.\n",
    "- 6 Crea un nuevo DataFrame que solo contenga las ventas de productos con una cantidad mayor o igual a 50 y un precio unitario mayor a $10.\n",
    "- 7 Guarda el nuevo DataFrame en un archivo CSV llamado \"ventas_filtradas.csv\"."
   ]
  },
  {
   "cell_type": "markdown",
   "id": "adfacc17",
   "metadata": {},
   "source": [
    "#### Ejercicios Parte 2\n"
   ]
  },
  {
   "cell_type": "markdown",
   "id": "d73bd333",
   "metadata": {},
   "source": [
    "Calcular el total de ventas por mes y mostrar los resultados en orden ascendente.\n"
   ]
  },
  {
   "cell_type": "code",
   "execution_count": null,
   "id": "8df5fe5c",
   "metadata": {},
   "outputs": [],
   "source": []
  },
  {
   "cell_type": "markdown",
   "id": "fd97d7be",
   "metadata": {},
   "source": [
    "Encontrar el producto más vendido y la cantidad total vendida.\n"
   ]
  },
  {
   "cell_type": "code",
   "execution_count": null,
   "id": "b6a8bdef",
   "metadata": {},
   "outputs": [],
   "source": []
  },
  {
   "cell_type": "markdown",
   "id": "6e9b851b",
   "metadata": {},
   "source": [
    "Calcular la cantidad y el monto promedio de ventas por día de la semana (lunes a domingo).\n"
   ]
  },
  {
   "cell_type": "code",
   "execution_count": null,
   "id": "32deb558",
   "metadata": {},
   "outputs": [],
   "source": []
  },
  {
   "cell_type": "markdown",
   "id": "c42aca13",
   "metadata": {},
   "source": [
    "Obtener el número total de ventas realizadas en días laborables (lunes a viernes) y en fines de semana (sábado y domingo).\n"
   ]
  },
  {
   "cell_type": "code",
   "execution_count": null,
   "id": "252020e8",
   "metadata": {},
   "outputs": [],
   "source": []
  },
  {
   "cell_type": "markdown",
   "id": "fd3651b9",
   "metadata": {},
   "source": [
    "Calcular el total de ventas para cada rango de precio unitario (por ejemplo, de 0 a 10, de 10 a 20, etc.).\n"
   ]
  },
  {
   "cell_type": "code",
   "execution_count": null,
   "id": "7fa81d42",
   "metadata": {},
   "outputs": [],
   "source": []
  }
 ],
 "metadata": {
  "kernelspec": {
   "display_name": "Python 3 (ipykernel)",
   "language": "python",
   "name": "python3"
  },
  "language_info": {
   "codemirror_mode": {
    "name": "ipython",
    "version": 3
   },
   "file_extension": ".py",
   "mimetype": "text/x-python",
   "name": "python",
   "nbconvert_exporter": "python",
   "pygments_lexer": "ipython3",
   "version": "3.11.3"
  }
 },
 "nbformat": 4,
 "nbformat_minor": 5
}
