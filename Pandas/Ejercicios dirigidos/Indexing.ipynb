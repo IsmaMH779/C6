{
 "cells": [
  {
   "cell_type": "markdown",
   "metadata": {},
   "source": [
    "<a href=\"https://colab.research.google.com/github/institutohumai/cursos-python/blob/master/AnalisisDeDatos/1_Indexing/Indexing.ipynb\"> <img src='https://colab.research.google.com/assets/colab-badge.svg' /> </a>\n",
    "<div align=\"center\"> Recordá abrir en una nueva pestaña </div>"
   ]
  },
  {
   "cell_type": "code",
   "execution_count": 2,
   "metadata": {},
   "outputs": [],
   "source": [
    "# Siempre al principio, importamos las librerías.\n",
    "import pandas as pd\n",
    "import numpy as np"
   ]
  },
  {
   "cell_type": "markdown",
   "metadata": {},
   "source": [
    "# Indexación y Agregación \n",
    "\n",
    "Tabla de Contenidos\n",
    "\n",
    "    I. Análisis de datos con Pandas\n",
    "    II. Los objetos fundamentales de Pandas\n",
    "        I. Series\n",
    "        II. DataFrames\n",
    "        III. Índices\n",
    "    III. Exploración\n",
    "        I. Filtrando un DataFrame (Indexing)\n",
    "            I. Boolean Indexing\n",
    "                I. Máscara booleana\n",
    "                II. Máscara booleana con muchas condiciones\n",
    "            II. Boolean indexing con query()\n",
    "            III. Fancy Indexing\n",
    "        II. Funciones de Agregación\n",
    "    IV. Otros análisis descriptivos\n",
    "        I. Para las variables numéricas\n",
    "        II. Para las variables categóricas\n",
    "        III. Ordenar por columnas y limitar la cantidad de resultados\n",
    "    V. Anexo: volviendo al tema de la vectorización"
   ]
  },
  {
   "cell_type": "markdown",
   "metadata": {},
   "source": [
    "## Exploración\n",
    "\n",
    "Vamos a analizar datos de una fuente real. Los ingresos de los funcionarios son información pública que se libera anualmente en el <a href='https://data.buenosaires.gob.ar/dataset/sueldo-funcionarios'>portal de datos abiertos</a> de GCBA.  \n",
    "\n",
    "En general los 4 primeros pasos para analizar un data set son:\n",
    "1. Leerlo\n",
    "2. Consultar cuáles son las columnas\n",
    "3. Extraer una muestra\n",
    "4. Verificar cuántos registros tiene"
   ]
  },
  {
   "cell_type": "markdown",
   "metadata": {},
   "source": [
    "## 1- Para leer el data set usamos la función de pandas read_csv\n",
    "\n",
    "Con esta función podemos leer archivos que estén en una url pública o en una ubicación del disco accesible desde la Jupyter Notebook. "
   ]
  },
  {
   "cell_type": "code",
   "execution_count": 3,
   "metadata": {},
   "outputs": [],
   "source": [
    "df = pd.read_csv('http://cdn.buenosaires.gob.ar/datosabiertos/datasets/sueldo-funcionarios/sueldo_funcionarios_2019.csv')"
   ]
  },
  {
   "cell_type": "code",
   "execution_count": 6,
   "metadata": {},
   "outputs": [
    {
     "data": {
      "text/html": [
       "<div>\n",
       "<style scoped>\n",
       "    .dataframe tbody tr th:only-of-type {\n",
       "        vertical-align: middle;\n",
       "    }\n",
       "\n",
       "    .dataframe tbody tr th {\n",
       "        vertical-align: top;\n",
       "    }\n",
       "\n",
       "    .dataframe thead th {\n",
       "        text-align: right;\n",
       "    }\n",
       "</style>\n",
       "<table border=\"1\" class=\"dataframe\">\n",
       "  <thead>\n",
       "    <tr style=\"text-align: right;\">\n",
       "      <th></th>\n",
       "      <th>cuil</th>\n",
       "      <th>anio</th>\n",
       "      <th>mes</th>\n",
       "      <th>funcionario_apellido</th>\n",
       "      <th>funcionario_nombre</th>\n",
       "      <th>reparticion</th>\n",
       "      <th>asignacion_por_cargo_i</th>\n",
       "      <th>aguinaldo_ii</th>\n",
       "      <th>total_salario_bruto_i_+_ii</th>\n",
       "      <th>observaciones</th>\n",
       "    </tr>\n",
       "  </thead>\n",
       "  <tbody>\n",
       "    <tr>\n",
       "      <th>0</th>\n",
       "      <td>20-17692128-6</td>\n",
       "      <td>2019</td>\n",
       "      <td>1</td>\n",
       "      <td>RODRIGUEZ LARRETA</td>\n",
       "      <td>HORACIO ANTONIO</td>\n",
       "      <td>Jefe de Gobierno</td>\n",
       "      <td>197745.80</td>\n",
       "      <td>0.00</td>\n",
       "      <td>197745.80</td>\n",
       "      <td>NaN</td>\n",
       "    </tr>\n",
       "    <tr>\n",
       "      <th>1</th>\n",
       "      <td>20-17735449-0</td>\n",
       "      <td>2019</td>\n",
       "      <td>1</td>\n",
       "      <td>SANTILLI</td>\n",
       "      <td>DIEGO CESAR</td>\n",
       "      <td>Vicejefatura de Gobierno</td>\n",
       "      <td>197745.80</td>\n",
       "      <td>0.00</td>\n",
       "      <td>197745.80</td>\n",
       "      <td>NaN</td>\n",
       "    </tr>\n",
       "    <tr>\n",
       "      <th>2</th>\n",
       "      <td>27-24483014-0</td>\n",
       "      <td>2019</td>\n",
       "      <td>1</td>\n",
       "      <td>ACUÑA</td>\n",
       "      <td>MARIA SOLEDAD</td>\n",
       "      <td>Ministerio de Educación e Innovación</td>\n",
       "      <td>224516.62</td>\n",
       "      <td>0.00</td>\n",
       "      <td>224516.62</td>\n",
       "      <td>NaN</td>\n",
       "    </tr>\n",
       "    <tr>\n",
       "      <th>3</th>\n",
       "      <td>20-13872301-2</td>\n",
       "      <td>2019</td>\n",
       "      <td>1</td>\n",
       "      <td>ASTARLOA</td>\n",
       "      <td>GABRIEL MARIA</td>\n",
       "      <td>Procuración General de la Ciudad de Buenos Aires</td>\n",
       "      <td>224516.62</td>\n",
       "      <td>0.00</td>\n",
       "      <td>224516.62</td>\n",
       "      <td>NaN</td>\n",
       "    </tr>\n",
       "    <tr>\n",
       "      <th>4</th>\n",
       "      <td>20-25641207-2</td>\n",
       "      <td>2019</td>\n",
       "      <td>1</td>\n",
       "      <td>AVOGADRO</td>\n",
       "      <td>ENRIQUE LUIS</td>\n",
       "      <td>Ministerio de Cultura</td>\n",
       "      <td>224516.62</td>\n",
       "      <td>0.00</td>\n",
       "      <td>224516.62</td>\n",
       "      <td>NaN</td>\n",
       "    </tr>\n",
       "    <tr>\n",
       "      <th>...</th>\n",
       "      <td>...</td>\n",
       "      <td>...</td>\n",
       "      <td>...</td>\n",
       "      <td>...</td>\n",
       "      <td>...</td>\n",
       "      <td>...</td>\n",
       "      <td>...</td>\n",
       "      <td>...</td>\n",
       "      <td>...</td>\n",
       "      <td>...</td>\n",
       "    </tr>\n",
       "    <tr>\n",
       "      <th>380</th>\n",
       "      <td>20-26735689-1</td>\n",
       "      <td>2019</td>\n",
       "      <td>12</td>\n",
       "      <td>MENDEZ</td>\n",
       "      <td>JUAN JOSE</td>\n",
       "      <td>SECR Transporte y Obras Públicas</td>\n",
       "      <td>249972.86</td>\n",
       "      <td>124986.43</td>\n",
       "      <td>374959.29</td>\n",
       "      <td>NaN</td>\n",
       "    </tr>\n",
       "    <tr>\n",
       "      <th>381</th>\n",
       "      <td>20-23864572-8</td>\n",
       "      <td>2019</td>\n",
       "      <td>12</td>\n",
       "      <td>STRAFACE</td>\n",
       "      <td>FERNANDO DIEGO</td>\n",
       "      <td>SECR General y Relaciones Internacionales</td>\n",
       "      <td>275089.75</td>\n",
       "      <td>137544.87</td>\n",
       "      <td>412634.62</td>\n",
       "      <td>NaN</td>\n",
       "    </tr>\n",
       "    <tr>\n",
       "      <th>382</th>\n",
       "      <td>20-21981279-6</td>\n",
       "      <td>2019</td>\n",
       "      <td>12</td>\n",
       "      <td>SCRENCI SILVA</td>\n",
       "      <td>BRUNO GUIDO</td>\n",
       "      <td>Ministerio de Gobierno</td>\n",
       "      <td>275089.75</td>\n",
       "      <td>137544.87</td>\n",
       "      <td>412634.62</td>\n",
       "      <td>NaN</td>\n",
       "    </tr>\n",
       "    <tr>\n",
       "      <th>383</th>\n",
       "      <td>20-30593774-7</td>\n",
       "      <td>2019</td>\n",
       "      <td>12</td>\n",
       "      <td>AVELLANEDA</td>\n",
       "      <td>PATRICIO IGNACIO</td>\n",
       "      <td>SECR Planificación, Evaluación y Coordinación ...</td>\n",
       "      <td>249972.86</td>\n",
       "      <td>124986.43</td>\n",
       "      <td>374959.29</td>\n",
       "      <td>NaN</td>\n",
       "    </tr>\n",
       "    <tr>\n",
       "      <th>384</th>\n",
       "      <td>27-27011181-0</td>\n",
       "      <td>2019</td>\n",
       "      <td>12</td>\n",
       "      <td>FERNANDEZ</td>\n",
       "      <td>KARINA BEATRIZ</td>\n",
       "      <td>SECR Asuntos Estratégicos</td>\n",
       "      <td>187539.45</td>\n",
       "      <td>15628.29</td>\n",
       "      <td>203167.74</td>\n",
       "      <td>alta desde el 10/12</td>\n",
       "    </tr>\n",
       "  </tbody>\n",
       "</table>\n",
       "<p>385 rows × 10 columns</p>\n",
       "</div>"
      ],
      "text/plain": [
       "              cuil  anio  mes funcionario_apellido funcionario_nombre  \\\n",
       "0    20-17692128-6  2019    1    RODRIGUEZ LARRETA    HORACIO ANTONIO   \n",
       "1    20-17735449-0  2019    1             SANTILLI        DIEGO CESAR   \n",
       "2    27-24483014-0  2019    1                ACUÑA      MARIA SOLEDAD   \n",
       "3    20-13872301-2  2019    1             ASTARLOA      GABRIEL MARIA   \n",
       "4    20-25641207-2  2019    1             AVOGADRO       ENRIQUE LUIS   \n",
       "..             ...   ...  ...                  ...                ...   \n",
       "380  20-26735689-1  2019   12               MENDEZ          JUAN JOSE   \n",
       "381  20-23864572-8  2019   12             STRAFACE     FERNANDO DIEGO   \n",
       "382  20-21981279-6  2019   12        SCRENCI SILVA        BRUNO GUIDO   \n",
       "383  20-30593774-7  2019   12           AVELLANEDA   PATRICIO IGNACIO   \n",
       "384  27-27011181-0  2019   12            FERNANDEZ     KARINA BEATRIZ   \n",
       "\n",
       "                                           reparticion  \\\n",
       "0                                     Jefe de Gobierno   \n",
       "1                             Vicejefatura de Gobierno   \n",
       "2                 Ministerio de Educación e Innovación   \n",
       "3     Procuración General de la Ciudad de Buenos Aires   \n",
       "4                                Ministerio de Cultura   \n",
       "..                                                 ...   \n",
       "380                   SECR Transporte y Obras Públicas   \n",
       "381          SECR General y Relaciones Internacionales   \n",
       "382                             Ministerio de Gobierno   \n",
       "383  SECR Planificación, Evaluación y Coordinación ...   \n",
       "384                          SECR Asuntos Estratégicos   \n",
       "\n",
       "     asignacion_por_cargo_i  aguinaldo_ii  total_salario_bruto_i_+_ii  \\\n",
       "0                 197745.80          0.00                   197745.80   \n",
       "1                 197745.80          0.00                   197745.80   \n",
       "2                 224516.62          0.00                   224516.62   \n",
       "3                 224516.62          0.00                   224516.62   \n",
       "4                 224516.62          0.00                   224516.62   \n",
       "..                      ...           ...                         ...   \n",
       "380               249972.86     124986.43                   374959.29   \n",
       "381               275089.75     137544.87                   412634.62   \n",
       "382               275089.75     137544.87                   412634.62   \n",
       "383               249972.86     124986.43                   374959.29   \n",
       "384               187539.45      15628.29                   203167.74   \n",
       "\n",
       "           observaciones  \n",
       "0                    NaN  \n",
       "1                    NaN  \n",
       "2                    NaN  \n",
       "3                    NaN  \n",
       "4                    NaN  \n",
       "..                   ...  \n",
       "380                  NaN  \n",
       "381                  NaN  \n",
       "382                  NaN  \n",
       "383                  NaN  \n",
       "384  alta desde el 10/12  \n",
       "\n",
       "[385 rows x 10 columns]"
      ]
     },
     "execution_count": 6,
     "metadata": {},
     "output_type": "execute_result"
    }
   ],
   "source": [
    "df"
   ]
  },
  {
   "cell_type": "code",
   "execution_count": 8,
   "metadata": {},
   "outputs": [
    {
     "name": "stdout",
     "output_type": "stream",
     "text": [
      "<class 'pandas.core.frame.DataFrame'>\n",
      "RangeIndex: 385 entries, 0 to 384\n",
      "Data columns (total 10 columns):\n",
      " #   Column                      Non-Null Count  Dtype  \n",
      "---  ------                      --------------  -----  \n",
      " 0   cuil                        385 non-null    object \n",
      " 1   anio                        385 non-null    int64  \n",
      " 2   mes                         385 non-null    int64  \n",
      " 3   funcionario_apellido        385 non-null    object \n",
      " 4   funcionario_nombre          385 non-null    object \n",
      " 5   reparticion                 385 non-null    object \n",
      " 6   asignacion_por_cargo_i      385 non-null    float64\n",
      " 7   aguinaldo_ii                385 non-null    float64\n",
      " 8   total_salario_bruto_i_+_ii  385 non-null    float64\n",
      " 9   observaciones               24 non-null     object \n",
      "dtypes: float64(3), int64(2), object(5)\n",
      "memory usage: 30.2+ KB\n"
     ]
    }
   ],
   "source": [
    "df.info()"
   ]
  },
  {
   "cell_type": "markdown",
   "metadata": {},
   "source": [
    "## 2- Consultamos las columnas\n"
   ]
  },
  {
   "cell_type": "code",
   "execution_count": 4,
   "metadata": {},
   "outputs": [
    {
     "data": {
      "text/plain": [
       "Index(['cuil', 'anio', 'mes', 'funcionario_apellido', 'funcionario_nombre',\n",
       "       'reparticion', 'asignacion_por_cargo_i', 'aguinaldo_ii',\n",
       "       'total_salario_bruto_i_+_ii', 'observaciones'],\n",
       "      dtype='object')"
      ]
     },
     "execution_count": 4,
     "metadata": {},
     "output_type": "execute_result"
    }
   ],
   "source": [
    "df.columns"
   ]
  },
  {
   "cell_type": "markdown",
   "metadata": {},
   "source": [
    "## 3- Extraemos una muestra"
   ]
  },
  {
   "cell_type": "code",
   "execution_count": 5,
   "metadata": {},
   "outputs": [
    {
     "data": {
      "text/html": [
       "<div>\n",
       "<style scoped>\n",
       "    .dataframe tbody tr th:only-of-type {\n",
       "        vertical-align: middle;\n",
       "    }\n",
       "\n",
       "    .dataframe tbody tr th {\n",
       "        vertical-align: top;\n",
       "    }\n",
       "\n",
       "    .dataframe thead th {\n",
       "        text-align: right;\n",
       "    }\n",
       "</style>\n",
       "<table border=\"1\" class=\"dataframe\">\n",
       "  <thead>\n",
       "    <tr style=\"text-align: right;\">\n",
       "      <th></th>\n",
       "      <th>cuil</th>\n",
       "      <th>anio</th>\n",
       "      <th>mes</th>\n",
       "      <th>funcionario_apellido</th>\n",
       "      <th>funcionario_nombre</th>\n",
       "      <th>reparticion</th>\n",
       "      <th>asignacion_por_cargo_i</th>\n",
       "      <th>aguinaldo_ii</th>\n",
       "      <th>total_salario_bruto_i_+_ii</th>\n",
       "      <th>observaciones</th>\n",
       "    </tr>\n",
       "  </thead>\n",
       "  <tbody>\n",
       "    <tr>\n",
       "      <th>240</th>\n",
       "      <td>27-30744939-6</td>\n",
       "      <td>2019</td>\n",
       "      <td>8</td>\n",
       "      <td>FERRERO</td>\n",
       "      <td>GENOVEVA</td>\n",
       "      <td>SECR Administración de Seguridad y Emergencias</td>\n",
       "      <td>239470.36</td>\n",
       "      <td>0.0</td>\n",
       "      <td>239470.36</td>\n",
       "      <td>NaN</td>\n",
       "    </tr>\n",
       "    <tr>\n",
       "      <th>90</th>\n",
       "      <td>20-16891539-0</td>\n",
       "      <td>2019</td>\n",
       "      <td>3</td>\n",
       "      <td>ROBREDO</td>\n",
       "      <td>GONZALO</td>\n",
       "      <td>Ente de Turismo Ley Nº 2627</td>\n",
       "      <td>210061.14</td>\n",
       "      <td>0.0</td>\n",
       "      <td>210061.14</td>\n",
       "      <td>NaN</td>\n",
       "    </tr>\n",
       "    <tr>\n",
       "      <th>110</th>\n",
       "      <td>20-16891528-5</td>\n",
       "      <td>2019</td>\n",
       "      <td>4</td>\n",
       "      <td>NACHON</td>\n",
       "      <td>MARCELO JORGE</td>\n",
       "      <td>SECR de Medios</td>\n",
       "      <td>243148.69</td>\n",
       "      <td>0.0</td>\n",
       "      <td>243148.69</td>\n",
       "      <td>NaN</td>\n",
       "    </tr>\n",
       "    <tr>\n",
       "      <th>167</th>\n",
       "      <td>20-24941711-5</td>\n",
       "      <td>2019</td>\n",
       "      <td>6</td>\n",
       "      <td>MURA</td>\n",
       "      <td>MARTIN</td>\n",
       "      <td>Ministerio de Economía y Finanzas</td>\n",
       "      <td>249661.60</td>\n",
       "      <td>124830.8</td>\n",
       "      <td>374492.40</td>\n",
       "      <td>NaN</td>\n",
       "    </tr>\n",
       "    <tr>\n",
       "      <th>295</th>\n",
       "      <td>27-17593512-1</td>\n",
       "      <td>2019</td>\n",
       "      <td>10</td>\n",
       "      <td>MONTIEL</td>\n",
       "      <td>MARIA LETICIA</td>\n",
       "      <td>SECR Legal y Técnica</td>\n",
       "      <td>267913.50</td>\n",
       "      <td>0.0</td>\n",
       "      <td>267913.50</td>\n",
       "      <td>NaN</td>\n",
       "    </tr>\n",
       "  </tbody>\n",
       "</table>\n",
       "</div>"
      ],
      "text/plain": [
       "              cuil  anio  mes funcionario_apellido funcionario_nombre  \\\n",
       "240  27-30744939-6  2019    8              FERRERO           GENOVEVA   \n",
       "90   20-16891539-0  2019    3              ROBREDO            GONZALO   \n",
       "110  20-16891528-5  2019    4               NACHON      MARCELO JORGE   \n",
       "167  20-24941711-5  2019    6                 MURA             MARTIN   \n",
       "295  27-17593512-1  2019   10              MONTIEL      MARIA LETICIA   \n",
       "\n",
       "                                        reparticion  asignacion_por_cargo_i  \\\n",
       "240  SECR Administración de Seguridad y Emergencias               239470.36   \n",
       "90                      Ente de Turismo Ley Nº 2627               210061.14   \n",
       "110                                  SECR de Medios               243148.69   \n",
       "167               Ministerio de Economía y Finanzas               249661.60   \n",
       "295                            SECR Legal y Técnica               267913.50   \n",
       "\n",
       "     aguinaldo_ii  total_salario_bruto_i_+_ii observaciones  \n",
       "240           0.0                   239470.36           NaN  \n",
       "90            0.0                   210061.14           NaN  \n",
       "110           0.0                   243148.69           NaN  \n",
       "167      124830.8                   374492.40           NaN  \n",
       "295           0.0                   267913.50           NaN  "
      ]
     },
     "execution_count": 5,
     "metadata": {},
     "output_type": "execute_result"
    }
   ],
   "source": [
    "df.sample(5)"
   ]
  },
  {
   "cell_type": "markdown",
   "metadata": {},
   "source": [
    "## 4- Consultamos la cantidad de filas y de columnas"
   ]
  },
  {
   "cell_type": "code",
   "execution_count": 9,
   "metadata": {},
   "outputs": [
    {
     "data": {
      "text/plain": [
       "(385, 10)"
      ]
     },
     "execution_count": 9,
     "metadata": {},
     "output_type": "execute_result"
    }
   ],
   "source": [
    "# La propiedad shape nos devuelve una tupla (filas,columnas)\n",
    "df.shape"
   ]
  },
  {
   "cell_type": "markdown",
   "metadata": {},
   "source": [
    "## Vectorización con Pandas\n",
    "\n",
    "Pandas es una de las librerías de Python más usadas para análisis de datos. El nombre pandas viene de \"Panel Data Analysis\" y su funcionalidad permite hacer operaciones sobre datos que se encuentran en memoria de manera eficiente. \n",
    "\n",
    "Pandas es útil para trabajar sobre datos tabulares, con dos condiciones importantes:\n",
    "\n",
    "I. Los datos se encuentran enteramente en la memoria RAM. Con lo cual, el tamaño de los datos que podemos manipular está limitado por el hardware. Como regla de pulgar, es una buena práctica no ocupar más de 1/3 de la memoria RAM de nuestro dispositivo con el dataset. Así, si estamos trabajando localmente en una notebook con 8GB de memoria RAM no es recomendable procesar datasets de más de 2.33GB.\n",
    "\n",
    "II. En pandas, las operaciones sobre filas y columnas son, en general, eficientes porque se hacen de forma \"vectorizada\". En realidad esta optimización, se hace desde numpy, una librería para realizar operaciones matemáticas que se utilizó a su vez para escribir pandas. \n",
    "\n",
    "Las operaciones vectorizadas son las que se realizan en bloque en vez de caso por caso. Las computadoras de hoy tienen la capacidad de recibir muchas instrucciones juntas y procesar varias de ellas a la vez. Por ejemplo, si nuestro hardware tiene la capacidad de procesar 4 operaciones juntas, el resultado de vectorizar una operación matemática es el siguiente:\n",
    "\n",
    "<img src = 'https://datasets-humai.s3.amazonaws.com/images/vectorizacion.png' /> \n",
    "\n",
    "\n",
    "En el primer caso hay que hacer 5 operaciones y en el segundo caso sólo dos.\n",
    "\n",
    "Es importante entender, entonces, que Pandas trabaja de esta manera y que por eso es una de las herramientas más elegidas para manipular datos en memoria.\n"
   ]
  },
  {
   "cell_type": "markdown",
   "metadata": {},
   "source": [
    "## Los objetos fundamentales de Pandas\n",
    "\n",
    "### Series\n",
    "\n",
    "Las series son \"columnas\" que de una tabla que están asociadas a un índice y a un nombre. Igual que una lista común de Python es una secuencia de elementos ordenados, pero a diferencia de la lista está asociada a más información."
   ]
  },
  {
   "cell_type": "code",
   "execution_count": 10,
   "metadata": {},
   "outputs": [],
   "source": [
    "# Las series se pueden crear a partir de una lista\n",
    "serie = pd.Series(['a','b','c'])"
   ]
  },
  {
   "cell_type": "code",
   "execution_count": null,
   "metadata": {},
   "outputs": [],
   "source": [
    "# Propiedades importantes de las series\n",
    "print('Tipo de objetos que tiene ', serie.dtype)\n",
    "print('Nombre ', serie.name)\n",
    "print('Index ',serie.index)\n",
    "print('Valores ',serie.values)\n"
   ]
  },
  {
   "cell_type": "markdown",
   "metadata": {},
   "source": [
    "## DataFrames\n",
    "\n",
    "Los DataFrames son \"tablas\", compuestas por varias \"columnas\" o series que comparten todas un mismo índice. En general los DataFrames se crean a partir de leer tablas de archivos (pueden ser en formato json o csv) pero a veces también se crean a partir de listas de diccionarios o de otras maneras. \n",
    "\n",
    "Los DataFrames tienen un objeto Index que describe los nombres de columnas y otro objeto Index que describen los nombres de las filas."
   ]
  },
  {
   "cell_type": "code",
   "execution_count": 11,
   "metadata": {},
   "outputs": [],
   "source": [
    "# Leemos un dataset público\n",
    "df = pd.read_csv('http://cdn.buenosaires.gob.ar/datosabiertos/datasets/sueldo-funcionarios/sueldo_funcionarios_2019.csv')"
   ]
  },
  {
   "cell_type": "code",
   "execution_count": 12,
   "metadata": {},
   "outputs": [
    {
     "name": "stdout",
     "output_type": "stream",
     "text": [
      "Columnas  Index(['cuil', 'anio', 'mes', 'funcionario_apellido', 'funcionario_nombre',\n",
      "       'reparticion', 'asignacion_por_cargo_i', 'aguinaldo_ii',\n",
      "       'total_salario_bruto_i_+_ii', 'observaciones'],\n",
      "      dtype='object')\n",
      "Index  RangeIndex(start=0, stop=385, step=1)\n",
      "Dimensiones  (385, 10)\n"
     ]
    }
   ],
   "source": [
    "# Propiedades importantes de los dataframes\n",
    "print('Columnas ', df.columns)\n",
    "print('Index ', df.index)\n",
    "print('Dimensiones ',df.shape)\n"
   ]
  },
  {
   "cell_type": "code",
   "execution_count": 13,
   "metadata": {},
   "outputs": [
    {
     "data": {
      "text/html": [
       "<div>\n",
       "<style scoped>\n",
       "    .dataframe tbody tr th:only-of-type {\n",
       "        vertical-align: middle;\n",
       "    }\n",
       "\n",
       "    .dataframe tbody tr th {\n",
       "        vertical-align: top;\n",
       "    }\n",
       "\n",
       "    .dataframe thead th {\n",
       "        text-align: right;\n",
       "    }\n",
       "</style>\n",
       "<table border=\"1\" class=\"dataframe\">\n",
       "  <thead>\n",
       "    <tr style=\"text-align: right;\">\n",
       "      <th></th>\n",
       "      <th>cuil</th>\n",
       "      <th>anio</th>\n",
       "      <th>mes</th>\n",
       "      <th>funcionario_apellido</th>\n",
       "      <th>funcionario_nombre</th>\n",
       "      <th>reparticion</th>\n",
       "      <th>asignacion_por_cargo_i</th>\n",
       "      <th>aguinaldo_ii</th>\n",
       "      <th>total_salario_bruto_i_+_ii</th>\n",
       "      <th>observaciones</th>\n",
       "    </tr>\n",
       "  </thead>\n",
       "  <tbody>\n",
       "    <tr>\n",
       "      <th>0</th>\n",
       "      <td>20-17692128-6</td>\n",
       "      <td>2019</td>\n",
       "      <td>1</td>\n",
       "      <td>RODRIGUEZ LARRETA</td>\n",
       "      <td>HORACIO ANTONIO</td>\n",
       "      <td>Jefe de Gobierno</td>\n",
       "      <td>197745.80</td>\n",
       "      <td>0.0</td>\n",
       "      <td>197745.80</td>\n",
       "      <td>NaN</td>\n",
       "    </tr>\n",
       "    <tr>\n",
       "      <th>1</th>\n",
       "      <td>20-17735449-0</td>\n",
       "      <td>2019</td>\n",
       "      <td>1</td>\n",
       "      <td>SANTILLI</td>\n",
       "      <td>DIEGO CESAR</td>\n",
       "      <td>Vicejefatura de Gobierno</td>\n",
       "      <td>197745.80</td>\n",
       "      <td>0.0</td>\n",
       "      <td>197745.80</td>\n",
       "      <td>NaN</td>\n",
       "    </tr>\n",
       "    <tr>\n",
       "      <th>2</th>\n",
       "      <td>27-24483014-0</td>\n",
       "      <td>2019</td>\n",
       "      <td>1</td>\n",
       "      <td>ACUÑA</td>\n",
       "      <td>MARIA SOLEDAD</td>\n",
       "      <td>Ministerio de Educación e Innovación</td>\n",
       "      <td>224516.62</td>\n",
       "      <td>0.0</td>\n",
       "      <td>224516.62</td>\n",
       "      <td>NaN</td>\n",
       "    </tr>\n",
       "    <tr>\n",
       "      <th>3</th>\n",
       "      <td>20-13872301-2</td>\n",
       "      <td>2019</td>\n",
       "      <td>1</td>\n",
       "      <td>ASTARLOA</td>\n",
       "      <td>GABRIEL MARIA</td>\n",
       "      <td>Procuración General de la Ciudad de Buenos Aires</td>\n",
       "      <td>224516.62</td>\n",
       "      <td>0.0</td>\n",
       "      <td>224516.62</td>\n",
       "      <td>NaN</td>\n",
       "    </tr>\n",
       "    <tr>\n",
       "      <th>4</th>\n",
       "      <td>20-25641207-2</td>\n",
       "      <td>2019</td>\n",
       "      <td>1</td>\n",
       "      <td>AVOGADRO</td>\n",
       "      <td>ENRIQUE LUIS</td>\n",
       "      <td>Ministerio de Cultura</td>\n",
       "      <td>224516.62</td>\n",
       "      <td>0.0</td>\n",
       "      <td>224516.62</td>\n",
       "      <td>NaN</td>\n",
       "    </tr>\n",
       "  </tbody>\n",
       "</table>\n",
       "</div>"
      ],
      "text/plain": [
       "            cuil  anio  mes funcionario_apellido funcionario_nombre  \\\n",
       "0  20-17692128-6  2019    1    RODRIGUEZ LARRETA    HORACIO ANTONIO   \n",
       "1  20-17735449-0  2019    1             SANTILLI        DIEGO CESAR   \n",
       "2  27-24483014-0  2019    1                ACUÑA      MARIA SOLEDAD   \n",
       "3  20-13872301-2  2019    1             ASTARLOA      GABRIEL MARIA   \n",
       "4  20-25641207-2  2019    1             AVOGADRO       ENRIQUE LUIS   \n",
       "\n",
       "                                        reparticion  asignacion_por_cargo_i  \\\n",
       "0                                  Jefe de Gobierno               197745.80   \n",
       "1                          Vicejefatura de Gobierno               197745.80   \n",
       "2              Ministerio de Educación e Innovación               224516.62   \n",
       "3  Procuración General de la Ciudad de Buenos Aires               224516.62   \n",
       "4                             Ministerio de Cultura               224516.62   \n",
       "\n",
       "   aguinaldo_ii  total_salario_bruto_i_+_ii observaciones  \n",
       "0           0.0                   197745.80           NaN  \n",
       "1           0.0                   197745.80           NaN  \n",
       "2           0.0                   224516.62           NaN  \n",
       "3           0.0                   224516.62           NaN  \n",
       "4           0.0                   224516.62           NaN  "
      ]
     },
     "execution_count": 13,
     "metadata": {},
     "output_type": "execute_result"
    }
   ],
   "source": [
    "# Consultar las primeras filas\n",
    "df.head()"
   ]
  },
  {
   "cell_type": "markdown",
   "metadata": {},
   "source": [
    "Si queremos extraer una serie del DataFrame, podemos hacerlo de la misma forma en que extraemos un valor de un diccionario.\n",
    "\n"
   ]
  },
  {
   "cell_type": "code",
   "execution_count": 14,
   "metadata": {},
   "outputs": [],
   "source": [
    "serie_mes = df['mes']"
   ]
  },
  {
   "cell_type": "code",
   "execution_count": 15,
   "metadata": {},
   "outputs": [
    {
     "data": {
      "text/plain": [
       "pandas.core.series.Series"
      ]
     },
     "execution_count": 15,
     "metadata": {},
     "output_type": "execute_result"
    }
   ],
   "source": [
    "type(serie_mes)"
   ]
  },
  {
   "cell_type": "markdown",
   "metadata": {},
   "source": [
    "## Índices\n",
    "\n",
    "Los índices acompañan a las series y a los Data Frames. Son conjuntos ordenados e inmutables de elementos"
   ]
  },
  {
   "cell_type": "code",
   "execution_count": 16,
   "metadata": {},
   "outputs": [
    {
     "data": {
      "text/plain": [
       "RangeIndex(start=0, stop=385, step=1)"
      ]
     },
     "execution_count": 16,
     "metadata": {},
     "output_type": "execute_result"
    }
   ],
   "source": [
    "df.index"
   ]
  },
  {
   "cell_type": "code",
   "execution_count": 17,
   "metadata": {},
   "outputs": [
    {
     "data": {
      "text/plain": [
       "Index(['cuil', 'anio', 'mes', 'funcionario_apellido', 'funcionario_nombre',\n",
       "       'reparticion', 'asignacion_por_cargo_i', 'aguinaldo_ii',\n",
       "       'total_salario_bruto_i_+_ii', 'observaciones'],\n",
       "      dtype='object')"
      ]
     },
     "execution_count": 17,
     "metadata": {},
     "output_type": "execute_result"
    }
   ],
   "source": [
    "df.columns"
   ]
  },
  {
   "cell_type": "code",
   "execution_count": 18,
   "metadata": {},
   "outputs": [
    {
     "data": {
      "text/plain": [
       "Int64Index([2, 3, 5, 7, 11], dtype='int64')"
      ]
     },
     "execution_count": 18,
     "metadata": {},
     "output_type": "execute_result"
    }
   ],
   "source": [
    "ind = pd.Index([2, 3, 5, 7, 11])\n",
    "ind"
   ]
  },
  {
   "cell_type": "code",
   "execution_count": 19,
   "metadata": {},
   "outputs": [
    {
     "ename": "TypeError",
     "evalue": "Index does not support mutable operations",
     "output_type": "error",
     "traceback": [
      "\u001b[1;31m---------------------------------------------------------------------------\u001b[0m",
      "\u001b[1;31mTypeError\u001b[0m                                 Traceback (most recent call last)",
      "Cell \u001b[1;32mIn[19], line 1\u001b[0m\n\u001b[1;32m----> 1\u001b[0m ind[\u001b[38;5;241m1\u001b[39m] \u001b[38;5;241m=\u001b[39m \u001b[38;5;241m0\u001b[39m\n",
      "File \u001b[1;32mC:\\ProgramData\\anaconda3\\Lib\\site-packages\\pandas\\core\\indexes\\base.py:5302\u001b[0m, in \u001b[0;36mIndex.__setitem__\u001b[1;34m(self, key, value)\u001b[0m\n\u001b[0;32m   5300\u001b[0m \u001b[38;5;129m@final\u001b[39m\n\u001b[0;32m   5301\u001b[0m \u001b[38;5;28;01mdef\u001b[39;00m \u001b[38;5;21m__setitem__\u001b[39m(\u001b[38;5;28mself\u001b[39m, key, value):\n\u001b[1;32m-> 5302\u001b[0m     \u001b[38;5;28;01mraise\u001b[39;00m \u001b[38;5;167;01mTypeError\u001b[39;00m(\u001b[38;5;124m\"\u001b[39m\u001b[38;5;124mIndex does not support mutable operations\u001b[39m\u001b[38;5;124m\"\u001b[39m)\n",
      "\u001b[1;31mTypeError\u001b[0m: Index does not support mutable operations"
     ]
    }
   ],
   "source": [
    "ind[1] = 0"
   ]
  },
  {
   "cell_type": "markdown",
   "metadata": {},
   "source": [
    "### Ejercicio\n",
    "Exploren el dataset público que se encuentra en la siguiente url: https://datasets-humai.s3.amazonaws.com/datasets/titanic.csv ¿De qué se trata? ¿Cuántas filas tiene? ¿Cuántas columnas? Al leerlo, pueden almacenarlo en la variable df_titanic. "
   ]
  },
  {
   "cell_type": "code",
   "execution_count": null,
   "metadata": {},
   "outputs": [],
   "source": []
  },
  {
   "cell_type": "code",
   "execution_count": null,
   "metadata": {},
   "outputs": [],
   "source": []
  },
  {
   "cell_type": "code",
   "execution_count": null,
   "metadata": {},
   "outputs": [],
   "source": []
  },
  {
   "cell_type": "markdown",
   "metadata": {},
   "source": [
    "## Filtrando un DataFrame (Indexing)\n",
    "\n",
    "Hay muchas técnicas para filtrar un DataFrame. Podemos querer filtrar por columnas o por filas, por posición o por nombre. También podemos querer filtrar por condiciones que se cumplen o no. Cuando no queremos filtrar sobre una dimensión (filas o columnas) usamos \":\" para seleccionar todo.\n",
    "\n",
    "\n",
    "<img src='img/indexing.png' style='height:350px' />\n",
    "\n"
   ]
  },
  {
   "cell_type": "markdown",
   "metadata": {},
   "source": [
    "### Boolean Indexing\n",
    "\n",
    "Supongamos que queremos tomar el dataset de funcionarios y quedarnos únicamente con los que pertenecen al Ministerio de Cultura.\n",
    "Para eso lo que hacemos es indexar al DataFrame por una condición booleana. Eso implica que debemos crear una serie compuesta por valores True y False para aplicarla como índice a las filas.\n",
    "\n",
    "Los operadores que sirven para evaluar condiciones sobre las series son:\n",
    "\n",
    "\n",
    "| S  | Descripción   | S  | Descripción   |   |\n",
    "|----|---------------|----|---------------|---|\n",
    "| >= | Mayor o Igual | <= | Menor o Igual |   |\n",
    "| == | Igual         | != | Distinto      |   |\n",
    "| >  | Mayor         | <  | Menor         |   |"
   ]
  },
  {
   "cell_type": "markdown",
   "metadata": {},
   "source": [
    "#### Máscara booleana\n",
    "\n",
    "Veamos lo que pasa cuando le aplicamos a una serie una condición que devuelve un booleano"
   ]
  },
  {
   "cell_type": "code",
   "execution_count": 20,
   "metadata": {},
   "outputs": [
    {
     "data": {
      "text/plain": [
       "0      False\n",
       "1      False\n",
       "2      False\n",
       "3      False\n",
       "4      False\n",
       "       ...  \n",
       "380    False\n",
       "381    False\n",
       "382    False\n",
       "383    False\n",
       "384    False\n",
       "Name: anio, Length: 385, dtype: bool"
      ]
     },
     "execution_count": 20,
     "metadata": {},
     "output_type": "execute_result"
    }
   ],
   "source": [
    "df['anio'] != 2019"
   ]
  },
  {
   "cell_type": "code",
   "execution_count": 21,
   "metadata": {},
   "outputs": [],
   "source": [
    "mascara_booleana = df['anio'] != 2019"
   ]
  },
  {
   "cell_type": "markdown",
   "metadata": {},
   "source": [
    "Nos devuelve una serie de la misma longitud que la original y que contiene sólo valores True o False. "
   ]
  },
  {
   "cell_type": "code",
   "execution_count": 22,
   "metadata": {},
   "outputs": [
    {
     "data": {
      "text/plain": [
       "pandas.core.series.Series"
      ]
     },
     "execution_count": 22,
     "metadata": {},
     "output_type": "execute_result"
    }
   ],
   "source": [
    "type(mascara_booleana)"
   ]
  },
  {
   "cell_type": "code",
   "execution_count": 23,
   "metadata": {},
   "outputs": [
    {
     "data": {
      "text/plain": [
       "(385,)"
      ]
     },
     "execution_count": 23,
     "metadata": {},
     "output_type": "execute_result"
    }
   ],
   "source": [
    "mascara_booleana.shape"
   ]
  },
  {
   "cell_type": "code",
   "execution_count": 24,
   "metadata": {},
   "outputs": [
    {
     "data": {
      "text/plain": [
       "dtype('bool')"
      ]
     },
     "execution_count": 24,
     "metadata": {},
     "output_type": "execute_result"
    }
   ],
   "source": [
    "mascara_booleana.dtype"
   ]
  },
  {
   "cell_type": "markdown",
   "metadata": {},
   "source": [
    "Ahora seleccionemos entonces, los registros que corresponden al Ministerio de Cultura."
   ]
  },
  {
   "cell_type": "code",
   "execution_count": 25,
   "metadata": {},
   "outputs": [],
   "source": [
    "df_min_cul = df.loc[df['reparticion'] == 'Ministerio de Cultura',:]"
   ]
  },
  {
   "cell_type": "code",
   "execution_count": 26,
   "metadata": {},
   "outputs": [
    {
     "data": {
      "text/plain": [
       "(12, 10)"
      ]
     },
     "execution_count": 26,
     "metadata": {},
     "output_type": "execute_result"
    }
   ],
   "source": [
    "# Veamos la cantidad de casos\n",
    "df_min_cul.shape"
   ]
  },
  {
   "cell_type": "markdown",
   "metadata": {},
   "source": [
    "Algo que puede llegar a confundir sobre el Indexing en Pandas es que en algunos casos se puede ser menos explícito a la hora de filtrar. Por ejemplo si ponemos una condición Booleana, pandas asume que el tipo de indexing es loc y que el filtro es sobre las filas y no sobre las columnas:\n"
   ]
  },
  {
   "cell_type": "code",
   "execution_count": 27,
   "metadata": {},
   "outputs": [],
   "source": [
    "df_min_cul = df[df['reparticion'] == 'Ministerio de Cultura']"
   ]
  },
  {
   "cell_type": "code",
   "execution_count": 28,
   "metadata": {},
   "outputs": [
    {
     "data": {
      "text/plain": [
       "(12, 10)"
      ]
     },
     "execution_count": 28,
     "metadata": {},
     "output_type": "execute_result"
    }
   ],
   "source": [
    "df_min_cul.shape"
   ]
  },
  {
   "cell_type": "markdown",
   "metadata": {},
   "source": [
    "Probemos con otra condición.\n",
    "\n",
    "### Ejercicio\n",
    "\n",
    "Traer todos los sueldos de la segunda mitad del año..."
   ]
  },
  {
   "cell_type": "code",
   "execution_count": null,
   "metadata": {},
   "outputs": [],
   "source": []
  },
  {
   "cell_type": "markdown",
   "metadata": {},
   "source": [
    "### Ejercicio\n",
    "Volviendo al DataFrame del Titanic ¿Cuántos pasajeros sobrevivieron y cuántos no? ¿Cuántos pagaron una tarifa menor a 25?"
   ]
  },
  {
   "cell_type": "code",
   "execution_count": null,
   "metadata": {},
   "outputs": [],
   "source": []
  },
  {
   "cell_type": "code",
   "execution_count": null,
   "metadata": {},
   "outputs": [],
   "source": []
  },
  {
   "cell_type": "code",
   "execution_count": null,
   "metadata": {},
   "outputs": [],
   "source": []
  },
  {
   "cell_type": "code",
   "execution_count": null,
   "metadata": {},
   "outputs": [],
   "source": []
  },
  {
   "cell_type": "markdown",
   "metadata": {},
   "source": [
    "#### Máscara booleana con muchas condiciones\n",
    "\n",
    "Ahora tratemos de filtrar el dataset por dos condiciones: por ejemplo tomar los sueldos de abril de la secretaria de innovación. \n",
    "Para eso tenemos que combinar dos máscaras booleanas con una condición.\n",
    "\n",
    "| S | Descripcion        | S  | Descripcion |   |\n",
    "|---|--------------------|----|-------------|---|\n",
    "| & | AND (y)            | \\| | OR (o)      |   |\n",
    "| ^ | XOR (o exclusivo)  | ~  | NOT (no)    |   |\n",
    "\n",
    "\n",
    "\n",
    "Por ejemplo: seleccionemos los casos donde o bien se haya cobrado aguinaldo o bien el salario total haya sido mayor que 240.000, pero no las dos cosas. \n"
   ]
  },
  {
   "cell_type": "code",
   "execution_count": null,
   "metadata": {},
   "outputs": [],
   "source": [
    "df[(df['total_salario_bruto_i_+_ii'] > 240000) ^ (df['aguinaldo_ii'] > 0)]"
   ]
  },
  {
   "cell_type": "markdown",
   "metadata": {},
   "source": [
    "Ahora veamos los sueldos de febrero de la SECR Ciencia, Tecnologia e Innovacion."
   ]
  },
  {
   "cell_type": "code",
   "execution_count": null,
   "metadata": {},
   "outputs": [],
   "source": [
    "df[(df['mes'] == 2) & (df['reparticion'] == 'SECR Ciencia, Tecnologia e Innovacion')]"
   ]
  },
  {
   "cell_type": "markdown",
   "metadata": {},
   "source": [
    "### Boolean indexing con query()\n",
    "\n",
    "La sintaxis que se utiliza para hacer Boolean indexing es un poco repetitiva. Noten que filtrar (aún en su expresión más corta sin loc ni especificar filas o columnas) implica ESCRIBIR DOS VECES el nombre del dataset. Para crear un shortcut, Pandas ofrece la función .query() \n",
    "\n"
   ]
  },
  {
   "cell_type": "code",
   "execution_count": null,
   "metadata": {},
   "outputs": [],
   "source": [
    "df_cult = df.query('reparticion == \"Ministerio de Cultura\"')"
   ]
  },
  {
   "cell_type": "markdown",
   "metadata": {},
   "source": [
    "También se puede hacer query sobre múltiples condiciones."
   ]
  },
  {
   "cell_type": "code",
   "execution_count": null,
   "metadata": {},
   "outputs": [],
   "source": [
    "df2 = df.query('asignacion_por_cargo_i > 240000 & aguinaldo_ii > 0')"
   ]
  },
  {
   "cell_type": "code",
   "execution_count": null,
   "metadata": {},
   "outputs": [],
   "source": [
    "df2.shape"
   ]
  },
  {
   "cell_type": "markdown",
   "metadata": {},
   "source": [
    "### Ejercicio: Piensen cómo traducir a la sintaxis de query, estas consultas que ya hicimos:"
   ]
  },
  {
   "cell_type": "code",
   "execution_count": null,
   "metadata": {},
   "outputs": [],
   "source": [
    "# df_sem2 = df[df['mes'] > 6]\n"
   ]
  },
  {
   "cell_type": "code",
   "execution_count": null,
   "metadata": {},
   "outputs": [],
   "source": [
    "# df[(df['mes'] == 2) & (df['reparticion'] == 'SECR Ciencia, Tecnologia e Innovacion')]\n"
   ]
  },
  {
   "cell_type": "markdown",
   "metadata": {},
   "source": [
    "### Fancy Indexing\n",
    "\n",
    "Ahora vamos a quedarnos con un subconjunto de columnas del DataFrame."
   ]
  },
  {
   "cell_type": "code",
   "execution_count": null,
   "metadata": {},
   "outputs": [],
   "source": [
    "df_view = df.loc[:,['anio','mes']]"
   ]
  },
  {
   "cell_type": "code",
   "execution_count": null,
   "metadata": {},
   "outputs": [],
   "source": [
    "df_view.shape"
   ]
  },
  {
   "cell_type": "markdown",
   "metadata": {},
   "source": [
    "Existe una forma menos explícita de hacer esta misma operación. Si pasamos una lista al indexing, pandas asume que el tipo de indexing es loc y que el filtro es sobre las columnas y no las filas:"
   ]
  },
  {
   "cell_type": "code",
   "execution_count": null,
   "metadata": {},
   "outputs": [],
   "source": [
    "df_view = df[['anio','mes']]"
   ]
  },
  {
   "cell_type": "code",
   "execution_count": null,
   "metadata": {},
   "outputs": [],
   "source": [
    "df_view.shape"
   ]
  },
  {
   "cell_type": "markdown",
   "metadata": {},
   "source": [
    "Fíjense lo que pasa si tratamos de acceder a filas utilizando una lista de nombres, en este caso [0,1]. "
   ]
  },
  {
   "cell_type": "code",
   "execution_count": null,
   "metadata": {},
   "outputs": [],
   "source": [
    "# Incorrecto\n",
    "df_view = df[[3,8]]"
   ]
  },
  {
   "cell_type": "markdown",
   "metadata": {},
   "source": [
    "Nos da un error porque cuando pasamos únicamente una lista al indexing, pandas asume que queremos un set de columnas y si los nombres no existen, da error. La forma correcta de hacerlo es pasar una lista de índices y explicitar que vamos a indizar con loc y que seleccionamos todas las columnas."
   ]
  },
  {
   "cell_type": "code",
   "execution_count": null,
   "metadata": {},
   "outputs": [],
   "source": [
    "# Correcto\n",
    "df_view = df.loc[[3,8],:]"
   ]
  },
  {
   "cell_type": "code",
   "execution_count": null,
   "metadata": {},
   "outputs": [],
   "source": [
    "df_view"
   ]
  },
  {
   "cell_type": "markdown",
   "metadata": {},
   "source": []
  },
  {
   "cell_type": "markdown",
   "metadata": {},
   "source": [
    "### Ejercicio. Volviendo al ejemplo del titanic...\n",
    "\n",
    "1) ¿Cuántos hombres y mujeres sobrevivieron? \n",
    "\n",
    "2) ¿Cuántos menores de 18 años había? ¿Cuántos sobrevivieron?\n",
    "\n",
    "3) Seleccionen únicamente las columnas Sex y Survived y almacenenlas en un nuevo DataFrame que se llame df_titanic_subset.\n"
   ]
  },
  {
   "cell_type": "code",
   "execution_count": null,
   "metadata": {},
   "outputs": [],
   "source": []
  },
  {
   "cell_type": "code",
   "execution_count": null,
   "metadata": {},
   "outputs": [],
   "source": []
  },
  {
   "cell_type": "code",
   "execution_count": null,
   "metadata": {},
   "outputs": [],
   "source": []
  },
  {
   "cell_type": "code",
   "execution_count": null,
   "metadata": {},
   "outputs": [],
   "source": []
  },
  {
   "cell_type": "code",
   "execution_count": null,
   "metadata": {},
   "outputs": [],
   "source": []
  },
  {
   "cell_type": "code",
   "execution_count": null,
   "metadata": {},
   "outputs": [],
   "source": [
    "#df_titanic_subset.head()"
   ]
  },
  {
   "cell_type": "markdown",
   "metadata": {},
   "source": [
    "## Funciones de Agregación\n",
    "\n",
    "Utilizando Pandas podemos aplicar funciones a nivel de columna. Algunas funciones predefinidas son la media, el desvío estándar y la sumatoria, el valor máximo y el mínimo.\n",
    "\n",
    "Algunas de las funciones de agregación más comunes son:\n",
    "\n",
    "<ul>\n",
    "    <li>min</li>\n",
    "    <li>max</li>\n",
    "    <li>count</li>\n",
    "    <li>sum</li>\n",
    "    <li>prod</li>\n",
    "    <li>mean</li>\n",
    "    <li>median</li>\n",
    "    <li>mode</li>\n",
    "    <li>std</li>\n",
    "    <li>var</li>\n",
    "</ul>\n",
    "\n",
    "\n"
   ]
  },
  {
   "cell_type": "code",
   "execution_count": null,
   "metadata": {},
   "outputs": [],
   "source": [
    "df['mes'].max()"
   ]
  },
  {
   "cell_type": "code",
   "execution_count": null,
   "metadata": {},
   "outputs": [],
   "source": [
    "df['asignacion_por_cargo_i'].mean()"
   ]
  },
  {
   "cell_type": "code",
   "execution_count": null,
   "metadata": {},
   "outputs": [],
   "source": [
    "df['asignacion_por_cargo_i'].std()"
   ]
  },
  {
   "cell_type": "code",
   "execution_count": null,
   "metadata": {},
   "outputs": [],
   "source": [
    "df['total_salario_bruto_i_+_ii'].sum()"
   ]
  },
  {
   "cell_type": "markdown",
   "metadata": {},
   "source": [
    "Podemos combinar los filtros que vimos antes con las funciones de agregación para responder preguntas cómo ¿Cuál fue en gasto en asignaciones de funcionarios para la Secretaría de Medios 2019? ¿Y para la de Justicia y Seguridad?"
   ]
  },
  {
   "cell_type": "code",
   "execution_count": null,
   "metadata": {},
   "outputs": [],
   "source": [
    "df[df['reparticion'] == 'SECR de Medios']['total_salario_bruto_i_+_ii'].sum()"
   ]
  },
  {
   "cell_type": "code",
   "execution_count": null,
   "metadata": {},
   "outputs": [],
   "source": [
    "df[df['reparticion'] == 'SECR Justicia y Seguridad']['total_salario_bruto_i_+_ii'].sum()"
   ]
  },
  {
   "cell_type": "markdown",
   "metadata": {},
   "source": [
    "Ahora respondamos algunas preguntas: ¿Quién o quiénes del dataset cobran el salario más alto? ¿Y el más bajo?"
   ]
  },
  {
   "cell_type": "code",
   "execution_count": null,
   "metadata": {
    "scrolled": true
   },
   "outputs": [],
   "source": [
    "df[df['total_salario_bruto_i_+_ii'] == df['total_salario_bruto_i_+_ii'].max()]"
   ]
  },
  {
   "cell_type": "code",
   "execution_count": null,
   "metadata": {
    "scrolled": true
   },
   "outputs": [],
   "source": [
    "df[df['total_salario_bruto_i_+_ii'] == df['total_salario_bruto_i_+_ii'].min()]"
   ]
  },
  {
   "cell_type": "markdown",
   "metadata": {},
   "source": [
    "## Otros análisis descriptivos\n",
    "\n",
    "Pandas viene con algunas funciones built-in para ayudar al análisis descriptivo.\n",
    "\n",
    "## Para las variables numéricas"
   ]
  },
  {
   "cell_type": "code",
   "execution_count": null,
   "metadata": {},
   "outputs": [],
   "source": [
    "df.describe()"
   ]
  },
  {
   "cell_type": "markdown",
   "metadata": {},
   "source": [
    "## Para las variables categóricas\n"
   ]
  },
  {
   "cell_type": "code",
   "execution_count": null,
   "metadata": {},
   "outputs": [],
   "source": [
    "df['reparticion'].value_counts()"
   ]
  },
  {
   "cell_type": "markdown",
   "metadata": {},
   "source": [
    "### Ejercicio: Volviendo al ejemplo del Titanic.\n",
    "\n",
    "1) ¿Cuál era la edad promedio de los pasajeros de cada clase (Pclass)?\n",
    "\n",
    "2) ¿Cuál fue la tarifa que pagaron en promedio los hombres? ¿Y las mujeres?\n",
    "\n",
    "3) ¿Cuánto pagaron en total los pasajeros de primera clase para subir al Titanic? ¿Y los de tercera?\n",
    "\n",
    "4) ¿Cuántos pasajeros había en cada tipo de clase?"
   ]
  },
  {
   "cell_type": "code",
   "execution_count": null,
   "metadata": {},
   "outputs": [],
   "source": [
    "df_titanic.head()"
   ]
  },
  {
   "cell_type": "code",
   "execution_count": null,
   "metadata": {},
   "outputs": [],
   "source": []
  },
  {
   "cell_type": "code",
   "execution_count": null,
   "metadata": {},
   "outputs": [],
   "source": []
  },
  {
   "cell_type": "code",
   "execution_count": null,
   "metadata": {},
   "outputs": [],
   "source": []
  },
  {
   "cell_type": "code",
   "execution_count": null,
   "metadata": {},
   "outputs": [],
   "source": []
  },
  {
   "cell_type": "code",
   "execution_count": null,
   "metadata": {},
   "outputs": [],
   "source": []
  },
  {
   "cell_type": "code",
   "execution_count": null,
   "metadata": {},
   "outputs": [],
   "source": []
  },
  {
   "cell_type": "code",
   "execution_count": null,
   "metadata": {},
   "outputs": [],
   "source": []
  },
  {
   "cell_type": "code",
   "execution_count": null,
   "metadata": {},
   "outputs": [],
   "source": []
  },
  {
   "cell_type": "markdown",
   "metadata": {},
   "source": [
    "## Ordenar por columnas y limitar la cantidad de resultados"
   ]
  },
  {
   "cell_type": "markdown",
   "metadata": {},
   "source": [
    "Otra forma de resolver el problema de encontrar el mayor y el menos es con el método sort_values. Este método puede recibir un valor único (nombre de columna) o una lista (con varias columnas) y un orden asc o desc. Por default el orden es asc.\n",
    "\n",
    "Si combinamos el ordenamiento con el método head() para limitar la cantidad de resultados, podemos encontrar los N primeros. "
   ]
  },
  {
   "cell_type": "code",
   "execution_count": null,
   "metadata": {},
   "outputs": [],
   "source": [
    "# Recordemos cómo abrir la documentación de un método\n",
    "df.sort_values?"
   ]
  },
  {
   "cell_type": "code",
   "execution_count": null,
   "metadata": {},
   "outputs": [],
   "source": [
    "# Calculamos el máximo\n",
    "df.sort_values('total_salario_bruto_i_+_ii',ascending=False).head(1)"
   ]
  },
  {
   "cell_type": "code",
   "execution_count": null,
   "metadata": {},
   "outputs": [],
   "source": [
    "# Calculamos el mínimo\n",
    "df.sort_values('total_salario_bruto_i_+_ii').head(1)"
   ]
  },
  {
   "cell_type": "markdown",
   "metadata": {},
   "source": [
    "## Anexo: volviendo al tema de la vectorización\n",
    "\n",
    "¿Por qué es tan importante trabajar con Pandas y no con funciones escritas por nosotros en Python nativo y que procesen los datos dentro de un for loop?\n",
    "\n",
    "Por un lado está la comodidad. Hay mucha funcionalidad que ya está desarrollada en Pandas. Existen funciones que resuelven muchos de los problemas clásicos de manipular datos: agrupar, sumarizar, sacar estadísticas, filtrar, etc. Pero además hay una razón de performance. \n",
    "\n",
    "Veamos una demostración de que vectorizar es más eficiente. Vamos a crear dos listas de 1.000.000 de números aleatorios cada una y vamos a tratar de multiplicar elemento por elemento con pandas y sin pandas:\n",
    "\n"
   ]
  },
  {
   "cell_type": "code",
   "execution_count": null,
   "metadata": {},
   "outputs": [],
   "source": [
    "lista1 = list(np.random.randint(1, 100, 1000000))\n",
    "lista2 = list(np.random.randint(1, 100, 1000000))"
   ]
  },
  {
   "cell_type": "code",
   "execution_count": null,
   "metadata": {},
   "outputs": [],
   "source": [
    "%%timeit \n",
    "for x,y in zip(lista1,lista2):\n",
    "    x * y"
   ]
  },
  {
   "cell_type": "markdown",
   "metadata": {},
   "source": [
    "Ahora probemos hacer lo mismo con dos series de Pandas"
   ]
  },
  {
   "cell_type": "code",
   "execution_count": null,
   "metadata": {},
   "outputs": [],
   "source": [
    "serie1 = pd.Series(lista1)\n",
    "serie2 = pd.Series(lista2)"
   ]
  },
  {
   "cell_type": "code",
   "execution_count": null,
   "metadata": {},
   "outputs": [],
   "source": [
    "%%timeit \n",
    "resultado = serie1 * serie2"
   ]
  },
  {
   "cell_type": "markdown",
   "metadata": {},
   "source": [
    "Conclusión: la operación vectorizada es <strong> más de 70 veces más rápida.</strong>"
   ]
  },
  {
   "cell_type": "code",
   "execution_count": null,
   "metadata": {},
   "outputs": [],
   "source": []
  }
 ],
 "metadata": {
  "kernelspec": {
   "display_name": "Python 3 (ipykernel)",
   "language": "python",
   "name": "python3"
  },
  "language_info": {
   "codemirror_mode": {
    "name": "ipython",
    "version": 3
   },
   "file_extension": ".py",
   "mimetype": "text/x-python",
   "name": "python",
   "nbconvert_exporter": "python",
   "pygments_lexer": "ipython3",
   "version": "3.11.3"
  }
 },
 "nbformat": 4,
 "nbformat_minor": 4
}
