{
 "cells": [
  {
   "cell_type": "markdown",
   "metadata": {},
   "source": [
    "# Agrupación\n"
   ]
  },
  {
   "cell_type": "markdown",
   "metadata": {},
   "source": [
    "## Tabla de Contenidos\n",
    "\n",
    "    I. Agrupación y agregación\n",
    "        I. Introducción\n",
    "            I. Crear columnas\n",
    "    III. Funciones de Agregación simple\n",
    "    IV. GroupBy: Trabajando sobre grupos\n",
    "        I. Clases que se encargan de la Agregación en Pandas\n",
    "        II. DataSetGroupBy\n",
    "            I. Lazy Evaluation\n",
    "            II. Iterar sobre los grupos\n",
    "        III. SeriesGroupBy\n",
    "        IV. Agregaciones múltiples\n",
    "        V. MultiIndex\n",
    "        VI. Ejercicios"
   ]
  },
  {
   "cell_type": "markdown",
   "metadata": {},
   "source": [
    "## Introducción\n",
    "\n",
    "En esta clase vamos a ver cómo agrupar datos a partir de una clave para trabajar sobre distintos grupos. \n",
    "El primer dataset que vamos a utilizar es del portal de datos abiertos de España.  Los datos se pueden encontrar <a href='http://opendata.esri.es/datasets/paro-por-municipio-espa%C3%B1a/geoservice'> aquí</a> y la única modificación que se les hizo fue reemplazar el código de provincia por la descripción de la misma"
   ]
  },
  {
   "cell_type": "code",
   "execution_count": 1,
   "metadata": {},
   "outputs": [
    {
     "name": "stdout",
     "output_type": "stream",
     "text": [
      "Defaulting to user installation because normal site-packages is not writeable\n",
      "Requirement already satisfied: plotly in c:\\programdata\\anaconda3\\lib\\site-packages (5.9.0)\n",
      "Requirement already satisfied: tenacity>=6.2.0 in c:\\programdata\\anaconda3\\lib\\site-packages (from plotly) (8.2.2)\n"
     ]
    }
   ],
   "source": [
    "! pip install plotly"
   ]
  },
  {
   "cell_type": "code",
   "execution_count": 2,
   "metadata": {},
   "outputs": [],
   "source": [
    "import pandas as pd\n",
    "import plotly.express as px"
   ]
  },
  {
   "cell_type": "code",
   "execution_count": 3,
   "metadata": {},
   "outputs": [],
   "source": [
    "df = pd.read_csv('https://datasets-humai.s3.amazonaws.com/datasets/parodesprov.csv')"
   ]
  },
  {
   "cell_type": "code",
   "execution_count": 4,
   "metadata": {},
   "outputs": [
    {
     "data": {
      "text/html": [
       "<div>\n",
       "<style scoped>\n",
       "    .dataframe tbody tr th:only-of-type {\n",
       "        vertical-align: middle;\n",
       "    }\n",
       "\n",
       "    .dataframe tbody tr th {\n",
       "        vertical-align: top;\n",
       "    }\n",
       "\n",
       "    .dataframe thead th {\n",
       "        text-align: right;\n",
       "    }\n",
       "</style>\n",
       "<table border=\"1\" class=\"dataframe\">\n",
       "  <thead>\n",
       "    <tr style=\"text-align: right;\">\n",
       "      <th></th>\n",
       "      <th>OBJECTID</th>\n",
       "      <th>Codigo</th>\n",
       "      <th>Texto</th>\n",
       "      <th>Cod_Prov</th>\n",
       "      <th>Cod_CCAA</th>\n",
       "      <th>TotalParoRegistrado</th>\n",
       "      <th>PAD_1C02</th>\n",
       "      <th>PAD_1_COD_PROV</th>\n",
       "      <th>PAD_1_COD_CCAA</th>\n",
       "      <th>Shape__Area</th>\n",
       "      <th>Shape__Length</th>\n",
       "      <th>Codigop</th>\n",
       "    </tr>\n",
       "  </thead>\n",
       "  <tbody>\n",
       "    <tr>\n",
       "      <th>0</th>\n",
       "      <td>1</td>\n",
       "      <td>1001</td>\n",
       "      <td>Alegría-Dulantzi</td>\n",
       "      <td>1</td>\n",
       "      <td>16</td>\n",
       "      <td>184.0</td>\n",
       "      <td>2856.0</td>\n",
       "      <td>Araba/Álava</td>\n",
       "      <td>16.0</td>\n",
       "      <td>3.709269e+07</td>\n",
       "      <td>48191.568537</td>\n",
       "      <td>1.0</td>\n",
       "    </tr>\n",
       "    <tr>\n",
       "      <th>8170</th>\n",
       "      <td>8171</td>\n",
       "      <td>1001</td>\n",
       "      <td>Alegría-Dulantzi</td>\n",
       "      <td>1</td>\n",
       "      <td>16</td>\n",
       "      <td>185.0</td>\n",
       "      <td>2913.0</td>\n",
       "      <td>NaN</td>\n",
       "      <td>NaN</td>\n",
       "      <td>3.709269e+07</td>\n",
       "      <td>48191.568751</td>\n",
       "      <td>NaN</td>\n",
       "    </tr>\n",
       "    <tr>\n",
       "      <th>1</th>\n",
       "      <td>2</td>\n",
       "      <td>1002</td>\n",
       "      <td>Amurrio</td>\n",
       "      <td>1</td>\n",
       "      <td>16</td>\n",
       "      <td>766.0</td>\n",
       "      <td>10260.0</td>\n",
       "      <td>Araba/Álava</td>\n",
       "      <td>16.0</td>\n",
       "      <td>1.799114e+08</td>\n",
       "      <td>90623.621986</td>\n",
       "      <td>1.0</td>\n",
       "    </tr>\n",
       "    <tr>\n",
       "      <th>8171</th>\n",
       "      <td>8172</td>\n",
       "      <td>1002</td>\n",
       "      <td>Amurrio</td>\n",
       "      <td>1</td>\n",
       "      <td>16</td>\n",
       "      <td>766.0</td>\n",
       "      <td>10291.0</td>\n",
       "      <td>NaN</td>\n",
       "      <td>NaN</td>\n",
       "      <td>1.799114e+08</td>\n",
       "      <td>90623.621773</td>\n",
       "      <td>NaN</td>\n",
       "    </tr>\n",
       "    <tr>\n",
       "      <th>2</th>\n",
       "      <td>3</td>\n",
       "      <td>1003</td>\n",
       "      <td>Aramaio</td>\n",
       "      <td>1</td>\n",
       "      <td>16</td>\n",
       "      <td>18.0</td>\n",
       "      <td>1502.0</td>\n",
       "      <td>Araba/Álava</td>\n",
       "      <td>16.0</td>\n",
       "      <td>1.377066e+08</td>\n",
       "      <td>58592.914048</td>\n",
       "      <td>1.0</td>\n",
       "    </tr>\n",
       "    <tr>\n",
       "      <th>8172</th>\n",
       "      <td>8173</td>\n",
       "      <td>1003</td>\n",
       "      <td>Aramaio</td>\n",
       "      <td>1</td>\n",
       "      <td>16</td>\n",
       "      <td>18.0</td>\n",
       "      <td>1496.0</td>\n",
       "      <td>NaN</td>\n",
       "      <td>NaN</td>\n",
       "      <td>1.377066e+08</td>\n",
       "      <td>58592.915252</td>\n",
       "      <td>NaN</td>\n",
       "    </tr>\n",
       "  </tbody>\n",
       "</table>\n",
       "</div>"
      ],
      "text/plain": [
       "      OBJECTID  Codigo             Texto  Cod_Prov  Cod_CCAA  \\\n",
       "0            1    1001  Alegría-Dulantzi         1        16   \n",
       "8170      8171    1001  Alegría-Dulantzi         1        16   \n",
       "1            2    1002           Amurrio         1        16   \n",
       "8171      8172    1002           Amurrio         1        16   \n",
       "2            3    1003           Aramaio         1        16   \n",
       "8172      8173    1003           Aramaio         1        16   \n",
       "\n",
       "      TotalParoRegistrado  PAD_1C02 PAD_1_COD_PROV  PAD_1_COD_CCAA  \\\n",
       "0                   184.0    2856.0    Araba/Álava            16.0   \n",
       "8170                185.0    2913.0            NaN             NaN   \n",
       "1                   766.0   10260.0    Araba/Álava            16.0   \n",
       "8171                766.0   10291.0            NaN             NaN   \n",
       "2                    18.0    1502.0    Araba/Álava            16.0   \n",
       "8172                 18.0    1496.0            NaN             NaN   \n",
       "\n",
       "       Shape__Area  Shape__Length  Codigop  \n",
       "0     3.709269e+07   48191.568537      1.0  \n",
       "8170  3.709269e+07   48191.568751      NaN  \n",
       "1     1.799114e+08   90623.621986      1.0  \n",
       "8171  1.799114e+08   90623.621773      NaN  \n",
       "2     1.377066e+08   58592.914048      1.0  \n",
       "8172  1.377066e+08   58592.915252      NaN  "
      ]
     },
     "execution_count": 4,
     "metadata": {},
     "output_type": "execute_result"
    }
   ],
   "source": [
    "df.sort_values('Codigo').head(6)"
   ]
  },
  {
   "cell_type": "markdown",
   "metadata": {},
   "source": [
    "Noten que en este conjunto de datos, al parecer la base está duplicada. Los municipios figuran dos veces, una vez con el código de provincia en NaN y otra vez con el código de provincia informado. Los valores de paro y población son muy cercanos en todos los casos, así que podemos considerarlas cercanas en el tiempo."
   ]
  },
  {
   "cell_type": "code",
   "execution_count": 5,
   "metadata": {},
   "outputs": [],
   "source": [
    "df = df[df['PAD_1_COD_PROV'].notnull()].copy()"
   ]
  },
  {
   "cell_type": "markdown",
   "metadata": {},
   "source": [
    "## Niveles de Agregación\n",
    "\n",
    "Además de los municipios (identificados por la variable Código), tenemos dos niveles de agregación geográfica, la provincia (Cod_Prov) y la comunidad autónoma (Cod_CAA).\n",
    "\n",
    "Veamos qué valores toman y cómo se combinan.\n"
   ]
  },
  {
   "cell_type": "code",
   "execution_count": 6,
   "metadata": {},
   "outputs": [
    {
     "data": {
      "text/plain": [
       "7     2248\n",
       "9      947\n",
       "8      919\n",
       "1      778\n",
       "2      731\n",
       "10     542\n",
       "11     388\n",
       "12     314\n",
       "15     272\n",
       "16     251\n",
       "13     179\n",
       "17     174\n",
       "6      102\n",
       "5       88\n",
       "3       78\n",
       "4       67\n",
       "14      45\n",
       "18       1\n",
       "19       1\n",
       "Name: Cod_CCAA, dtype: int64"
      ]
     },
     "execution_count": 6,
     "metadata": {},
     "output_type": "execute_result"
    }
   ],
   "source": [
    "# ¿Cuántos municipios tiene cada comunidad? ¿Hay alguno que no tenga CCAA asociada?\n",
    "df['Cod_CCAA'].value_counts(dropna=False)"
   ]
  },
  {
   "cell_type": "code",
   "execution_count": 7,
   "metadata": {},
   "outputs": [
    {
     "data": {
      "text/plain": [
       "19"
      ]
     },
     "execution_count": 7,
     "metadata": {},
     "output_type": "execute_result"
    }
   ],
   "source": [
    "# ¿Cuántas CCAA hay?\n",
    "len(df['Cod_CCAA'].unique())"
   ]
  },
  {
   "cell_type": "code",
   "execution_count": 8,
   "metadata": {},
   "outputs": [
    {
     "data": {
      "text/plain": [
       "9     371\n",
       "37    362\n",
       "8     311\n",
       "50    293\n",
       "19    288\n",
       "31    272\n",
       "46    266\n",
       "5     248\n",
       "49    248\n",
       "16    238\n",
       "44    236\n",
       "25    231\n",
       "47    225\n",
       "10    223\n",
       "17    221\n",
       "24    211\n",
       "40    209\n",
       "45    204\n",
       "22    202\n",
       "34    191\n",
       "43    184\n",
       "42    183\n",
       "28    179\n",
       "26    174\n",
       "18    172\n",
       "6     165\n",
       "3     141\n",
       "12    135\n",
       "48    112\n",
       "41    105\n",
       "4     103\n",
       "29    103\n",
       "39    102\n",
       "13    102\n",
       "23     97\n",
       "15     93\n",
       "32     92\n",
       "20     88\n",
       "2      87\n",
       "21     79\n",
       "33     78\n",
       "14     75\n",
       "7      67\n",
       "27     67\n",
       "36     62\n",
       "38     54\n",
       "1      51\n",
       "30     45\n",
       "11     44\n",
       "35     34\n",
       "51      1\n",
       "52      1\n",
       "Name: Cod_Prov, dtype: int64"
      ]
     },
     "execution_count": 8,
     "metadata": {},
     "output_type": "execute_result"
    }
   ],
   "source": [
    "# ¿Cuántos municipios tiene cada provincia? ¿Hay alguno que no tenga provincia asociada?\n",
    "df['Cod_Prov'].value_counts(dropna=False)"
   ]
  },
  {
   "cell_type": "code",
   "execution_count": 9,
   "metadata": {},
   "outputs": [
    {
     "data": {
      "text/plain": [
       "52"
      ]
     },
     "execution_count": 9,
     "metadata": {},
     "output_type": "execute_result"
    }
   ],
   "source": [
    "# ¿Cuántas provincias hay?\n",
    "len(df['Cod_Prov'].unique())"
   ]
  },
  {
   "cell_type": "code",
   "execution_count": 10,
   "metadata": {},
   "outputs": [
    {
     "data": {
      "text/html": [
       "<div>\n",
       "<style scoped>\n",
       "    .dataframe tbody tr th:only-of-type {\n",
       "        vertical-align: middle;\n",
       "    }\n",
       "\n",
       "    .dataframe tbody tr th {\n",
       "        vertical-align: top;\n",
       "    }\n",
       "\n",
       "    .dataframe thead th {\n",
       "        text-align: right;\n",
       "    }\n",
       "</style>\n",
       "<table border=\"1\" class=\"dataframe\">\n",
       "  <thead>\n",
       "    <tr style=\"text-align: right;\">\n",
       "      <th></th>\n",
       "      <th>Cod_CCAA</th>\n",
       "      <th>Cod_Prov</th>\n",
       "    </tr>\n",
       "  </thead>\n",
       "  <tbody>\n",
       "    <tr>\n",
       "      <th>0</th>\n",
       "      <td>16</td>\n",
       "      <td>1</td>\n",
       "    </tr>\n",
       "    <tr>\n",
       "      <th>51</th>\n",
       "      <td>8</td>\n",
       "      <td>2</td>\n",
       "    </tr>\n",
       "    <tr>\n",
       "      <th>138</th>\n",
       "      <td>10</td>\n",
       "      <td>3</td>\n",
       "    </tr>\n",
       "    <tr>\n",
       "      <th>279</th>\n",
       "      <td>1</td>\n",
       "      <td>4</td>\n",
       "    </tr>\n",
       "    <tr>\n",
       "      <th>382</th>\n",
       "      <td>7</td>\n",
       "      <td>5</td>\n",
       "    </tr>\n",
       "    <tr>\n",
       "      <th>630</th>\n",
       "      <td>11</td>\n",
       "      <td>6</td>\n",
       "    </tr>\n",
       "    <tr>\n",
       "      <th>795</th>\n",
       "      <td>4</td>\n",
       "      <td>7</td>\n",
       "    </tr>\n",
       "    <tr>\n",
       "      <th>862</th>\n",
       "      <td>9</td>\n",
       "      <td>8</td>\n",
       "    </tr>\n",
       "    <tr>\n",
       "      <th>1173</th>\n",
       "      <td>7</td>\n",
       "      <td>9</td>\n",
       "    </tr>\n",
       "    <tr>\n",
       "      <th>1544</th>\n",
       "      <td>11</td>\n",
       "      <td>10</td>\n",
       "    </tr>\n",
       "    <tr>\n",
       "      <th>1767</th>\n",
       "      <td>1</td>\n",
       "      <td>11</td>\n",
       "    </tr>\n",
       "    <tr>\n",
       "      <th>1811</th>\n",
       "      <td>10</td>\n",
       "      <td>12</td>\n",
       "    </tr>\n",
       "    <tr>\n",
       "      <th>1946</th>\n",
       "      <td>8</td>\n",
       "      <td>13</td>\n",
       "    </tr>\n",
       "    <tr>\n",
       "      <th>2048</th>\n",
       "      <td>1</td>\n",
       "      <td>14</td>\n",
       "    </tr>\n",
       "    <tr>\n",
       "      <th>2123</th>\n",
       "      <td>12</td>\n",
       "      <td>15</td>\n",
       "    </tr>\n",
       "    <tr>\n",
       "      <th>2216</th>\n",
       "      <td>8</td>\n",
       "      <td>16</td>\n",
       "    </tr>\n",
       "    <tr>\n",
       "      <th>2454</th>\n",
       "      <td>9</td>\n",
       "      <td>17</td>\n",
       "    </tr>\n",
       "    <tr>\n",
       "      <th>2675</th>\n",
       "      <td>1</td>\n",
       "      <td>18</td>\n",
       "    </tr>\n",
       "    <tr>\n",
       "      <th>2847</th>\n",
       "      <td>8</td>\n",
       "      <td>19</td>\n",
       "    </tr>\n",
       "    <tr>\n",
       "      <th>3135</th>\n",
       "      <td>16</td>\n",
       "      <td>20</td>\n",
       "    </tr>\n",
       "    <tr>\n",
       "      <th>3223</th>\n",
       "      <td>1</td>\n",
       "      <td>21</td>\n",
       "    </tr>\n",
       "    <tr>\n",
       "      <th>3302</th>\n",
       "      <td>2</td>\n",
       "      <td>22</td>\n",
       "    </tr>\n",
       "    <tr>\n",
       "      <th>3504</th>\n",
       "      <td>1</td>\n",
       "      <td>23</td>\n",
       "    </tr>\n",
       "    <tr>\n",
       "      <th>3601</th>\n",
       "      <td>7</td>\n",
       "      <td>24</td>\n",
       "    </tr>\n",
       "    <tr>\n",
       "      <th>3812</th>\n",
       "      <td>9</td>\n",
       "      <td>25</td>\n",
       "    </tr>\n",
       "    <tr>\n",
       "      <th>4043</th>\n",
       "      <td>17</td>\n",
       "      <td>26</td>\n",
       "    </tr>\n",
       "    <tr>\n",
       "      <th>4217</th>\n",
       "      <td>12</td>\n",
       "      <td>27</td>\n",
       "    </tr>\n",
       "    <tr>\n",
       "      <th>4284</th>\n",
       "      <td>13</td>\n",
       "      <td>28</td>\n",
       "    </tr>\n",
       "    <tr>\n",
       "      <th>4463</th>\n",
       "      <td>1</td>\n",
       "      <td>29</td>\n",
       "    </tr>\n",
       "    <tr>\n",
       "      <th>4566</th>\n",
       "      <td>14</td>\n",
       "      <td>30</td>\n",
       "    </tr>\n",
       "    <tr>\n",
       "      <th>4611</th>\n",
       "      <td>15</td>\n",
       "      <td>31</td>\n",
       "    </tr>\n",
       "    <tr>\n",
       "      <th>4928</th>\n",
       "      <td>12</td>\n",
       "      <td>32</td>\n",
       "    </tr>\n",
       "    <tr>\n",
       "      <th>5020</th>\n",
       "      <td>3</td>\n",
       "      <td>33</td>\n",
       "    </tr>\n",
       "    <tr>\n",
       "      <th>5098</th>\n",
       "      <td>7</td>\n",
       "      <td>34</td>\n",
       "    </tr>\n",
       "    <tr>\n",
       "      <th>5289</th>\n",
       "      <td>5</td>\n",
       "      <td>35</td>\n",
       "    </tr>\n",
       "    <tr>\n",
       "      <th>5323</th>\n",
       "      <td>12</td>\n",
       "      <td>36</td>\n",
       "    </tr>\n",
       "    <tr>\n",
       "      <th>5385</th>\n",
       "      <td>7</td>\n",
       "      <td>37</td>\n",
       "    </tr>\n",
       "    <tr>\n",
       "      <th>5747</th>\n",
       "      <td>5</td>\n",
       "      <td>38</td>\n",
       "    </tr>\n",
       "    <tr>\n",
       "      <th>5801</th>\n",
       "      <td>6</td>\n",
       "      <td>39</td>\n",
       "    </tr>\n",
       "    <tr>\n",
       "      <th>5903</th>\n",
       "      <td>7</td>\n",
       "      <td>40</td>\n",
       "    </tr>\n",
       "    <tr>\n",
       "      <th>6112</th>\n",
       "      <td>1</td>\n",
       "      <td>41</td>\n",
       "    </tr>\n",
       "    <tr>\n",
       "      <th>6217</th>\n",
       "      <td>7</td>\n",
       "      <td>42</td>\n",
       "    </tr>\n",
       "    <tr>\n",
       "      <th>6400</th>\n",
       "      <td>9</td>\n",
       "      <td>43</td>\n",
       "    </tr>\n",
       "    <tr>\n",
       "      <th>6584</th>\n",
       "      <td>2</td>\n",
       "      <td>44</td>\n",
       "    </tr>\n",
       "    <tr>\n",
       "      <th>6820</th>\n",
       "      <td>8</td>\n",
       "      <td>45</td>\n",
       "    </tr>\n",
       "    <tr>\n",
       "      <th>7024</th>\n",
       "      <td>10</td>\n",
       "      <td>46</td>\n",
       "    </tr>\n",
       "    <tr>\n",
       "      <th>7290</th>\n",
       "      <td>7</td>\n",
       "      <td>47</td>\n",
       "    </tr>\n",
       "    <tr>\n",
       "      <th>7515</th>\n",
       "      <td>16</td>\n",
       "      <td>48</td>\n",
       "    </tr>\n",
       "    <tr>\n",
       "      <th>7627</th>\n",
       "      <td>7</td>\n",
       "      <td>49</td>\n",
       "    </tr>\n",
       "    <tr>\n",
       "      <th>7875</th>\n",
       "      <td>2</td>\n",
       "      <td>50</td>\n",
       "    </tr>\n",
       "    <tr>\n",
       "      <th>8168</th>\n",
       "      <td>18</td>\n",
       "      <td>51</td>\n",
       "    </tr>\n",
       "    <tr>\n",
       "      <th>8169</th>\n",
       "      <td>19</td>\n",
       "      <td>52</td>\n",
       "    </tr>\n",
       "  </tbody>\n",
       "</table>\n",
       "</div>"
      ],
      "text/plain": [
       "      Cod_CCAA  Cod_Prov\n",
       "0           16         1\n",
       "51           8         2\n",
       "138         10         3\n",
       "279          1         4\n",
       "382          7         5\n",
       "630         11         6\n",
       "795          4         7\n",
       "862          9         8\n",
       "1173         7         9\n",
       "1544        11        10\n",
       "1767         1        11\n",
       "1811        10        12\n",
       "1946         8        13\n",
       "2048         1        14\n",
       "2123        12        15\n",
       "2216         8        16\n",
       "2454         9        17\n",
       "2675         1        18\n",
       "2847         8        19\n",
       "3135        16        20\n",
       "3223         1        21\n",
       "3302         2        22\n",
       "3504         1        23\n",
       "3601         7        24\n",
       "3812         9        25\n",
       "4043        17        26\n",
       "4217        12        27\n",
       "4284        13        28\n",
       "4463         1        29\n",
       "4566        14        30\n",
       "4611        15        31\n",
       "4928        12        32\n",
       "5020         3        33\n",
       "5098         7        34\n",
       "5289         5        35\n",
       "5323        12        36\n",
       "5385         7        37\n",
       "5747         5        38\n",
       "5801         6        39\n",
       "5903         7        40\n",
       "6112         1        41\n",
       "6217         7        42\n",
       "6400         9        43\n",
       "6584         2        44\n",
       "6820         8        45\n",
       "7024        10        46\n",
       "7290         7        47\n",
       "7515        16        48\n",
       "7627         7        49\n",
       "7875         2        50\n",
       "8168        18        51\n",
       "8169        19        52"
      ]
     },
     "execution_count": 10,
     "metadata": {},
     "output_type": "execute_result"
    }
   ],
   "source": [
    "# ¿Hay alguna provincia que tenga más de una CCAA asociada?\n",
    "df[['Cod_CCAA','Cod_Prov']].drop_duplicates().sort_values('Cod_Prov')"
   ]
  },
  {
   "cell_type": "markdown",
   "metadata": {},
   "source": [
    "## Buscando valores nulos\n",
    "\n",
    "Ahora queremos filtrar todas las filas del DataFrame que contengan algún valor nulo, para analizar en detalle por qué existe ese valor faltante y si vamos a querer completarlo o descartarlo.\n",
    "\n",
    "El método df.isnull() devuelve un DataFrame del mismo tamaño que el original, pero en lugar de los valores devuelve True si había un NaN y False si no lo había. "
   ]
  },
  {
   "cell_type": "code",
   "execution_count": 11,
   "metadata": {},
   "outputs": [
    {
     "data": {
      "text/html": [
       "<div>\n",
       "<style scoped>\n",
       "    .dataframe tbody tr th:only-of-type {\n",
       "        vertical-align: middle;\n",
       "    }\n",
       "\n",
       "    .dataframe tbody tr th {\n",
       "        vertical-align: top;\n",
       "    }\n",
       "\n",
       "    .dataframe thead th {\n",
       "        text-align: right;\n",
       "    }\n",
       "</style>\n",
       "<table border=\"1\" class=\"dataframe\">\n",
       "  <thead>\n",
       "    <tr style=\"text-align: right;\">\n",
       "      <th></th>\n",
       "      <th>OBJECTID</th>\n",
       "      <th>Codigo</th>\n",
       "      <th>Texto</th>\n",
       "      <th>Cod_Prov</th>\n",
       "      <th>Cod_CCAA</th>\n",
       "      <th>TotalParoRegistrado</th>\n",
       "      <th>PAD_1C02</th>\n",
       "      <th>PAD_1_COD_PROV</th>\n",
       "      <th>PAD_1_COD_CCAA</th>\n",
       "      <th>Shape__Area</th>\n",
       "      <th>Shape__Length</th>\n",
       "      <th>Codigop</th>\n",
       "    </tr>\n",
       "  </thead>\n",
       "  <tbody>\n",
       "    <tr>\n",
       "      <th>0</th>\n",
       "      <td>False</td>\n",
       "      <td>False</td>\n",
       "      <td>False</td>\n",
       "      <td>False</td>\n",
       "      <td>False</td>\n",
       "      <td>False</td>\n",
       "      <td>False</td>\n",
       "      <td>False</td>\n",
       "      <td>False</td>\n",
       "      <td>False</td>\n",
       "      <td>False</td>\n",
       "      <td>False</td>\n",
       "    </tr>\n",
       "    <tr>\n",
       "      <th>1</th>\n",
       "      <td>False</td>\n",
       "      <td>False</td>\n",
       "      <td>False</td>\n",
       "      <td>False</td>\n",
       "      <td>False</td>\n",
       "      <td>False</td>\n",
       "      <td>False</td>\n",
       "      <td>False</td>\n",
       "      <td>False</td>\n",
       "      <td>False</td>\n",
       "      <td>False</td>\n",
       "      <td>False</td>\n",
       "    </tr>\n",
       "    <tr>\n",
       "      <th>2</th>\n",
       "      <td>False</td>\n",
       "      <td>False</td>\n",
       "      <td>False</td>\n",
       "      <td>False</td>\n",
       "      <td>False</td>\n",
       "      <td>False</td>\n",
       "      <td>False</td>\n",
       "      <td>False</td>\n",
       "      <td>False</td>\n",
       "      <td>False</td>\n",
       "      <td>False</td>\n",
       "      <td>False</td>\n",
       "    </tr>\n",
       "  </tbody>\n",
       "</table>\n",
       "</div>"
      ],
      "text/plain": [
       "   OBJECTID  Codigo  Texto  Cod_Prov  Cod_CCAA  TotalParoRegistrado  PAD_1C02  \\\n",
       "0     False   False  False     False     False                False     False   \n",
       "1     False   False  False     False     False                False     False   \n",
       "2     False   False  False     False     False                False     False   \n",
       "\n",
       "   PAD_1_COD_PROV  PAD_1_COD_CCAA  Shape__Area  Shape__Length  Codigop  \n",
       "0           False           False        False          False    False  \n",
       "1           False           False        False          False    False  \n",
       "2           False           False        False          False    False  "
      ]
     },
     "execution_count": 11,
     "metadata": {},
     "output_type": "execute_result"
    }
   ],
   "source": [
    "df.isnull().head(3)"
   ]
  },
  {
   "cell_type": "markdown",
   "metadata": {},
   "source": [
    "#### Entendiendo el parámetro axis\n",
    "A continuación vamos a reducir el DataFrame de más arriba a una serie, compuesta por Booleans que indican True si hay algún valor nulo en la fila y False si no hay ninguno. La forma de reducir una serie de Booleanos es any() y el parámetro axis = 1 indica que queremos reducir el DataFrame aplicando la función de manera horizontal, probando todos los valores del eje y. \n",
    " \n"
   ]
  },
  {
   "cell_type": "code",
   "execution_count": 12,
   "metadata": {},
   "outputs": [
    {
     "data": {
      "text/html": [
       "<div>\n",
       "<style scoped>\n",
       "    .dataframe tbody tr th:only-of-type {\n",
       "        vertical-align: middle;\n",
       "    }\n",
       "\n",
       "    .dataframe tbody tr th {\n",
       "        vertical-align: top;\n",
       "    }\n",
       "\n",
       "    .dataframe thead th {\n",
       "        text-align: right;\n",
       "    }\n",
       "</style>\n",
       "<table border=\"1\" class=\"dataframe\">\n",
       "  <thead>\n",
       "    <tr style=\"text-align: right;\">\n",
       "      <th></th>\n",
       "      <th>OBJECTID</th>\n",
       "      <th>Codigo</th>\n",
       "      <th>Texto</th>\n",
       "      <th>Cod_Prov</th>\n",
       "      <th>Cod_CCAA</th>\n",
       "      <th>TotalParoRegistrado</th>\n",
       "      <th>PAD_1C02</th>\n",
       "      <th>PAD_1_COD_PROV</th>\n",
       "      <th>PAD_1_COD_CCAA</th>\n",
       "      <th>Shape__Area</th>\n",
       "      <th>Shape__Length</th>\n",
       "      <th>Codigop</th>\n",
       "    </tr>\n",
       "  </thead>\n",
       "  <tbody>\n",
       "    <tr>\n",
       "      <th>1766</th>\n",
       "      <td>1767</td>\n",
       "      <td>10905</td>\n",
       "      <td>Pueblonuevo de Miramontes</td>\n",
       "      <td>10</td>\n",
       "      <td>11</td>\n",
       "      <td>NaN</td>\n",
       "      <td>830.0</td>\n",
       "      <td>Cáceres</td>\n",
       "      <td>11.0</td>\n",
       "      <td>3.979055e+07</td>\n",
       "      <td>34532.621933</td>\n",
       "      <td>10.0</td>\n",
       "    </tr>\n",
       "  </tbody>\n",
       "</table>\n",
       "</div>"
      ],
      "text/plain": [
       "      OBJECTID  Codigo                      Texto  Cod_Prov  Cod_CCAA  \\\n",
       "1766      1767   10905  Pueblonuevo de Miramontes        10        11   \n",
       "\n",
       "      TotalParoRegistrado  PAD_1C02 PAD_1_COD_PROV  PAD_1_COD_CCAA  \\\n",
       "1766                  NaN     830.0        Cáceres            11.0   \n",
       "\n",
       "       Shape__Area  Shape__Length  Codigop  \n",
       "1766  3.979055e+07   34532.621933     10.0  "
      ]
     },
     "execution_count": 12,
     "metadata": {},
     "output_type": "execute_result"
    }
   ],
   "source": [
    "df[df.isnull().any(axis=1)]\n"
   ]
  },
  {
   "cell_type": "markdown",
   "metadata": {},
   "source": [
    "Otro posible método para reucir es all así que una forma equivalente de lograr lo mismo es:"
   ]
  },
  {
   "cell_type": "code",
   "execution_count": 13,
   "metadata": {},
   "outputs": [
    {
     "data": {
      "text/html": [
       "<div>\n",
       "<style scoped>\n",
       "    .dataframe tbody tr th:only-of-type {\n",
       "        vertical-align: middle;\n",
       "    }\n",
       "\n",
       "    .dataframe tbody tr th {\n",
       "        vertical-align: top;\n",
       "    }\n",
       "\n",
       "    .dataframe thead th {\n",
       "        text-align: right;\n",
       "    }\n",
       "</style>\n",
       "<table border=\"1\" class=\"dataframe\">\n",
       "  <thead>\n",
       "    <tr style=\"text-align: right;\">\n",
       "      <th></th>\n",
       "      <th>OBJECTID</th>\n",
       "      <th>Codigo</th>\n",
       "      <th>Texto</th>\n",
       "      <th>Cod_Prov</th>\n",
       "      <th>Cod_CCAA</th>\n",
       "      <th>TotalParoRegistrado</th>\n",
       "      <th>PAD_1C02</th>\n",
       "      <th>PAD_1_COD_PROV</th>\n",
       "      <th>PAD_1_COD_CCAA</th>\n",
       "      <th>Shape__Area</th>\n",
       "      <th>Shape__Length</th>\n",
       "      <th>Codigop</th>\n",
       "    </tr>\n",
       "  </thead>\n",
       "  <tbody>\n",
       "    <tr>\n",
       "      <th>1766</th>\n",
       "      <td>1767</td>\n",
       "      <td>10905</td>\n",
       "      <td>Pueblonuevo de Miramontes</td>\n",
       "      <td>10</td>\n",
       "      <td>11</td>\n",
       "      <td>NaN</td>\n",
       "      <td>830.0</td>\n",
       "      <td>Cáceres</td>\n",
       "      <td>11.0</td>\n",
       "      <td>3.979055e+07</td>\n",
       "      <td>34532.621933</td>\n",
       "      <td>10.0</td>\n",
       "    </tr>\n",
       "  </tbody>\n",
       "</table>\n",
       "</div>"
      ],
      "text/plain": [
       "      OBJECTID  Codigo                      Texto  Cod_Prov  Cod_CCAA  \\\n",
       "1766      1767   10905  Pueblonuevo de Miramontes        10        11   \n",
       "\n",
       "      TotalParoRegistrado  PAD_1C02 PAD_1_COD_PROV  PAD_1_COD_CCAA  \\\n",
       "1766                  NaN     830.0        Cáceres            11.0   \n",
       "\n",
       "       Shape__Area  Shape__Length  Codigop  \n",
       "1766  3.979055e+07   34532.621933     10.0  "
      ]
     },
     "execution_count": 13,
     "metadata": {},
     "output_type": "execute_result"
    }
   ],
   "source": [
    "df[~(df.notnull().all(axis=1))]\n"
   ]
  },
  {
   "cell_type": "markdown",
   "metadata": {},
   "source": [
    "¿Qué significará un TotalParoRegistrado nulo? :thinking: ¿Será equivalente a un paro de 0, algo que es posible que se de?"
   ]
  },
  {
   "cell_type": "code",
   "execution_count": 14,
   "metadata": {},
   "outputs": [
    {
     "data": {
      "text/html": [
       "<div>\n",
       "<style scoped>\n",
       "    .dataframe tbody tr th:only-of-type {\n",
       "        vertical-align: middle;\n",
       "    }\n",
       "\n",
       "    .dataframe tbody tr th {\n",
       "        vertical-align: top;\n",
       "    }\n",
       "\n",
       "    .dataframe thead th {\n",
       "        text-align: right;\n",
       "    }\n",
       "</style>\n",
       "<table border=\"1\" class=\"dataframe\">\n",
       "  <thead>\n",
       "    <tr style=\"text-align: right;\">\n",
       "      <th></th>\n",
       "      <th>OBJECTID</th>\n",
       "      <th>Codigo</th>\n",
       "      <th>Texto</th>\n",
       "      <th>Cod_Prov</th>\n",
       "      <th>Cod_CCAA</th>\n",
       "      <th>TotalParoRegistrado</th>\n",
       "      <th>PAD_1C02</th>\n",
       "      <th>PAD_1_COD_PROV</th>\n",
       "      <th>PAD_1_COD_CCAA</th>\n",
       "      <th>Shape__Area</th>\n",
       "      <th>Shape__Length</th>\n",
       "      <th>Codigop</th>\n",
       "    </tr>\n",
       "  </thead>\n",
       "  <tbody>\n",
       "    <tr>\n",
       "      <th>4188</th>\n",
       "      <td>4189</td>\n",
       "      <td>26152</td>\n",
       "      <td>Torrecilla sobre Alesanco</td>\n",
       "      <td>26</td>\n",
       "      <td>17</td>\n",
       "      <td>0.0</td>\n",
       "      <td>36.0</td>\n",
       "      <td>Rioja, La</td>\n",
       "      <td>17.0</td>\n",
       "      <td>8.002493e+06</td>\n",
       "      <td>16594.921322</td>\n",
       "      <td>26.0</td>\n",
       "    </tr>\n",
       "    <tr>\n",
       "      <th>7777</th>\n",
       "      <td>7778</td>\n",
       "      <td>49165</td>\n",
       "      <td>Prado</td>\n",
       "      <td>49</td>\n",
       "      <td>7</td>\n",
       "      <td>0.0</td>\n",
       "      <td>59.0</td>\n",
       "      <td>Zamora</td>\n",
       "      <td>7.0</td>\n",
       "      <td>1.970734e+07</td>\n",
       "      <td>19363.175695</td>\n",
       "      <td>49.0</td>\n",
       "    </tr>\n",
       "    <tr>\n",
       "      <th>5904</th>\n",
       "      <td>5905</td>\n",
       "      <td>40002</td>\n",
       "      <td>Adrada de Pirón</td>\n",
       "      <td>40</td>\n",
       "      <td>7</td>\n",
       "      <td>0.0</td>\n",
       "      <td>39.0</td>\n",
       "      <td>Segovia</td>\n",
       "      <td>7.0</td>\n",
       "      <td>1.887269e+07</td>\n",
       "      <td>20697.994877</td>\n",
       "      <td>40.0</td>\n",
       "    </tr>\n",
       "  </tbody>\n",
       "</table>\n",
       "</div>"
      ],
      "text/plain": [
       "      OBJECTID  Codigo                      Texto  Cod_Prov  Cod_CCAA  \\\n",
       "4188      4189   26152  Torrecilla sobre Alesanco        26        17   \n",
       "7777      7778   49165                      Prado        49         7   \n",
       "5904      5905   40002            Adrada de Pirón        40         7   \n",
       "\n",
       "      TotalParoRegistrado  PAD_1C02 PAD_1_COD_PROV  PAD_1_COD_CCAA  \\\n",
       "4188                  0.0      36.0      Rioja, La            17.0   \n",
       "7777                  0.0      59.0         Zamora             7.0   \n",
       "5904                  0.0      39.0        Segovia             7.0   \n",
       "\n",
       "       Shape__Area  Shape__Length  Codigop  \n",
       "4188  8.002493e+06   16594.921322     26.0  \n",
       "7777  1.970734e+07   19363.175695     49.0  \n",
       "5904  1.887269e+07   20697.994877     40.0  "
      ]
     },
     "execution_count": 14,
     "metadata": {},
     "output_type": "execute_result"
    }
   ],
   "source": [
    "df[df['TotalParoRegistrado'] == 0].sample(3)"
   ]
  },
  {
   "cell_type": "markdown",
   "metadata": {},
   "source": [
    "Podríamos concluir que no, porque los municipios con paro igual a 0, informan 0. Entonces deberíamos descartar el dato. \n",
    "\n",
    "#### Entendiendo el parámetro inplace\n",
    "\n",
    "Noten que la mayor parte de los métodos que trabajan sobre DataFrames devuelven objetos nuevos que si no los almacenamos en una variable se pierden. Cuando queremos que el DataFrame cambie a partir de una determinada acción usamos el parámetro inplace=True. "
   ]
  },
  {
   "cell_type": "code",
   "execution_count": 16,
   "metadata": {},
   "outputs": [],
   "source": [
    "df.dropna(inplace=True)"
   ]
  },
  {
   "cell_type": "code",
   "execution_count": 17,
   "metadata": {},
   "outputs": [
    {
     "data": {
      "text/html": [
       "<div>\n",
       "<style scoped>\n",
       "    .dataframe tbody tr th:only-of-type {\n",
       "        vertical-align: middle;\n",
       "    }\n",
       "\n",
       "    .dataframe tbody tr th {\n",
       "        vertical-align: top;\n",
       "    }\n",
       "\n",
       "    .dataframe thead th {\n",
       "        text-align: right;\n",
       "    }\n",
       "</style>\n",
       "<table border=\"1\" class=\"dataframe\">\n",
       "  <thead>\n",
       "    <tr style=\"text-align: right;\">\n",
       "      <th></th>\n",
       "      <th>OBJECTID</th>\n",
       "      <th>Codigo</th>\n",
       "      <th>Texto</th>\n",
       "      <th>Cod_Prov</th>\n",
       "      <th>Cod_CCAA</th>\n",
       "      <th>TotalParoRegistrado</th>\n",
       "      <th>PAD_1C02</th>\n",
       "      <th>PAD_1_COD_PROV</th>\n",
       "      <th>PAD_1_COD_CCAA</th>\n",
       "      <th>Shape__Area</th>\n",
       "      <th>Shape__Length</th>\n",
       "      <th>Codigop</th>\n",
       "    </tr>\n",
       "  </thead>\n",
       "  <tbody>\n",
       "  </tbody>\n",
       "</table>\n",
       "</div>"
      ],
      "text/plain": [
       "Empty DataFrame\n",
       "Columns: [OBJECTID, Codigo, Texto, Cod_Prov, Cod_CCAA, TotalParoRegistrado, PAD_1C02, PAD_1_COD_PROV, PAD_1_COD_CCAA, Shape__Area, Shape__Length, Codigop]\n",
       "Index: []"
      ]
     },
     "execution_count": 17,
     "metadata": {},
     "output_type": "execute_result"
    }
   ],
   "source": [
    "df[~(df.notnull().all(axis=1))]"
   ]
  },
  {
   "cell_type": "markdown",
   "metadata": {},
   "source": [
    "### Crear columnas\n",
    "\n",
    "Contamos con los cambios de población de cada municipio ('PAD_1C02') y también con el área ('Shape__Area'). Con estas columnas podemos formar la densidad."
   ]
  },
  {
   "cell_type": "code",
   "execution_count": 18,
   "metadata": {},
   "outputs": [],
   "source": [
    "# ¡Operación vectorizada! \n",
    "df['Densidad'] = df['PAD_1C02'] / df['Shape__Area']"
   ]
  },
  {
   "cell_type": "markdown",
   "metadata": {},
   "source": [
    "También sabemos la cantidad de personas desempleadas y con eso podemos formar la proporción de paro."
   ]
  },
  {
   "cell_type": "code",
   "execution_count": 19,
   "metadata": {},
   "outputs": [],
   "source": [
    "df['Proporcion_Paro'] =  df['TotalParoRegistrado'] / df['PAD_1C02'] "
   ]
  },
  {
   "cell_type": "markdown",
   "metadata": {},
   "source": [
    "## Funciones de Agregación simple\n",
    "\n",
    "\n",
    "| Nombre             | Versión que descarta NaN | Descripción                            |\n",
    "|--------------------|--------------------------|----------------------------------------|\n",
    "| serie.sum()        | serie.sum(skipna=True)   | Suma todos los elementos               |\n",
    "| serie.prod()       | serie.prod(skipna=True)  | Multiplica                             |\n",
    "| serie.mean()       | serie.mean(skipna=True)  | Promedia                               |\n",
    "| serie.std()        | serie.std(skipna=True)   | Calcula el desvío estándar             |\n",
    "| serie.var()        | serie.var(skipna=True)   | Calcula la varianza                    |\n",
    "| serie.min()        | serie.min(skipna=True)   | Calcula el valor mínimo                |\n",
    "| serie.max()        | serie.max(skipna=True)   | Calcula el valor máximo                |\n",
    "| serie.argmin()     | serie.argmin(skipna=True)| Calcula el índice del valor mínimo     |\n",
    "| serie.argmax()     | serie.argmax(skipna=True)| Calcula el índice del valor máximo     |\n",
    "| serie.median()     | serie.median(skipna=True)| Calcula la mediana                     |\n",
    "| X                  | serie.quantile()         | Calcula los percentiles                |\n",
    "| serie.any()        | X                        | Evalúa si algún elemento es TRUE       |\n",
    "| serie.all()        | X                        | Evalúa si todos los elementos son TRUE |"
   ]
  },
  {
   "cell_type": "markdown",
   "metadata": {},
   "source": [
    "Vamos a comprobar que la población total coincida (aproxiamadamente) con la <a href='https://www.google.com/search?client=firefox-b-e&q=poblacion+espana'>población de España.  <a/>"
   ]
  },
  {
   "cell_type": "code",
   "execution_count": 20,
   "metadata": {},
   "outputs": [
    {
     "data": {
      "text/plain": [
       "46556178.0"
      ]
     },
     "execution_count": 20,
     "metadata": {},
     "output_type": "execute_result"
    }
   ],
   "source": [
    "df['PAD_1C02'].sum()"
   ]
  },
  {
   "cell_type": "markdown",
   "metadata": {},
   "source": [
    "¿Cuál es el promedio de proporción de paro en las autonomías de España?"
   ]
  },
  {
   "cell_type": "code",
   "execution_count": 21,
   "metadata": {},
   "outputs": [
    {
     "data": {
      "text/plain": [
       "0.06017574475360859"
      ]
     },
     "execution_count": 21,
     "metadata": {},
     "output_type": "execute_result"
    }
   ],
   "source": [
    "df['Proporcion_Paro'].mean()"
   ]
  },
  {
   "cell_type": "markdown",
   "metadata": {},
   "source": [
    "Ejercicio: ¿Cuántas autonomías están por encima de la media y cuántas están por debajo?"
   ]
  },
  {
   "cell_type": "code",
   "execution_count": null,
   "metadata": {},
   "outputs": [],
   "source": []
  },
  {
   "cell_type": "code",
   "execution_count": null,
   "metadata": {},
   "outputs": [],
   "source": []
  },
  {
   "cell_type": "markdown",
   "metadata": {},
   "source": [
    "¿Cuál es la mediana?"
   ]
  },
  {
   "cell_type": "code",
   "execution_count": null,
   "metadata": {},
   "outputs": [],
   "source": []
  },
  {
   "cell_type": "markdown",
   "metadata": {},
   "source": [
    "Que la mediana sea menor a la media, significa que hay algunos valores llamativamente altos. Veamos un gráfico para ver la distribución de esta variable. "
   ]
  },
  {
   "cell_type": "code",
   "execution_count": null,
   "metadata": {},
   "outputs": [],
   "source": [
    "fig = px.histogram(df, x=\"Proporcion_Paro\")\n",
    "fig.show()"
   ]
  },
  {
   "cell_type": "markdown",
   "metadata": {},
   "source": [
    "Y en cuanto al tamaño, ¿cuál es la mediana de tamaño en las autonomías? "
   ]
  },
  {
   "cell_type": "code",
   "execution_count": null,
   "metadata": {},
   "outputs": [],
   "source": [
    "mediana_area = df['Shape__Area'].median()"
   ]
  },
  {
   "cell_type": "code",
   "execution_count": null,
   "metadata": {},
   "outputs": [],
   "source": [
    "mediana_area"
   ]
  },
  {
   "cell_type": "markdown",
   "metadata": {},
   "source": [
    "Si dividimos a las autonomías entre \"grandes\" (con un área mayor que la mediana) y \"chicas\" (con un área menor), ¿cuál grupo tiene mayor proporción de paro?"
   ]
  },
  {
   "cell_type": "code",
   "execution_count": null,
   "metadata": {},
   "outputs": [],
   "source": [
    "df.query('Shape__Area > @mediana_area')['Proporcion_Paro'].mean()"
   ]
  },
  {
   "cell_type": "code",
   "execution_count": null,
   "metadata": {},
   "outputs": [],
   "source": [
    "df.query('Shape__Area < @mediana_area')['Proporcion_Paro'].mean()"
   ]
  },
  {
   "cell_type": "markdown",
   "metadata": {},
   "source": [
    "Entonces, mientras que en autonomías más grandes la proporción de paro es 6.5%, en las más chicas es de 5.4%.\n",
    "\n",
    "Ejercicio: calculen cómo es esta relación con respecto a la densidad."
   ]
  },
  {
   "cell_type": "code",
   "execution_count": null,
   "metadata": {},
   "outputs": [],
   "source": []
  },
  {
   "cell_type": "markdown",
   "metadata": {},
   "source": [
    "## GroupBy: Trabajando sobre grupos\n",
    "\n",
    "Muchas veces necesitamos analizar métricas, pero sobre agrupamientos de los datos. Por ejemplo, las autonomías se agrupan en provincias y podemos querer ver el desempeño de cada provinicia. O en lugar de analizar la densidad separando únicamente por la mediana, podemos querer ver qué pasa en cada percentil. \n",
    "\n",
    "En Pandas las operaciones sobre grupos se pueden ver como una combinación de las operaciones Split Apply Combine.\n",
    "\n",
    "<img src='https://datasets-humai.s3.amazonaws.com/images/splitapplycombine.png'></img>\n",
    "\n",
    "En algunos casos la operación que aplicamos sobre el dataframe original reduce el tamaño del mismo, por ejemplo cuando devolvemos la media de cada grupo y otras veces no, por ejemplo cuando comparamos cada elemento del grupo contra un benchmark del mismo, por ejemplo si quisiéramos hacer un ranking por juego para grupos de jugadores. \n",
    "\n",
    "## Clases que se encargan de la Agregación en Pandas\n",
    "\n",
    "## DataSetGroupBy\n",
    "\n",
    "Veamos qué devuelve pandas cuando agrupamos un dataset por una columna:"
   ]
  },
  {
   "cell_type": "code",
   "execution_count": 22,
   "metadata": {},
   "outputs": [
    {
     "data": {
      "text/plain": [
       "<pandas.core.groupby.generic.DataFrameGroupBy object at 0x000001BD32DD4210>"
      ]
     },
     "execution_count": 22,
     "metadata": {},
     "output_type": "execute_result"
    }
   ],
   "source": [
    "df.groupby('PAD_1_COD_PROV')"
   ]
  },
  {
   "cell_type": "code",
   "execution_count": 23,
   "metadata": {},
   "outputs": [
    {
     "data": {
      "text/plain": [
       "<pandas.core.groupby.generic.SeriesGroupBy object at 0x000001BD32DC3090>"
      ]
     },
     "execution_count": 23,
     "metadata": {},
     "output_type": "execute_result"
    }
   ],
   "source": [
    "df.groupby('PAD_1_COD_PROV')['Shape__Area']"
   ]
  },
  {
   "cell_type": "markdown",
   "metadata": {},
   "source": [
    "En lugar de recibir una lista o numpy array de grupos, recibimos un objeto del tipo DataFrameGroupBy. Ahora veamos cuánto tarda en ejecutarse este método.\n",
    "\n",
    "### Lazy Evaluation"
   ]
  },
  {
   "cell_type": "code",
   "execution_count": null,
   "metadata": {},
   "outputs": [],
   "source": [
    "%%timeit\n",
    "df.groupby('PAD_1_COD_PROV')"
   ]
  },
  {
   "cell_type": "code",
   "execution_count": null,
   "metadata": {},
   "outputs": [],
   "source": [
    "%%timeit\n",
    "a = list(df.groupby('PAD_1_COD_PROV'))"
   ]
  },
  {
   "cell_type": "markdown",
   "metadata": {},
   "source": [
    "Hacer únicamente la agrupación por código de provincia lleva 50 microsegundos pero si convertimos el resultado a una lista, forzamos a que efectivamente se separen los grupos y eso tarda 10.9 ms.  \n",
    "\n",
    "Este comportamiento se llama \"lazy evaluation\" y es muy importante en todos los motores de procesamiento de datos. Ejecutar las operaciones computacionalmente pesadas, sólo cuando se necesita permite hacer los procesos más eficientes. "
   ]
  },
  {
   "cell_type": "code",
   "execution_count": 24,
   "metadata": {},
   "outputs": [
    {
     "data": {
      "text/plain": [
       "tuple"
      ]
     },
     "execution_count": 24,
     "metadata": {},
     "output_type": "execute_result"
    }
   ],
   "source": [
    "a = list(df.groupby('PAD_1_COD_PROV'))\n",
    "type(a[0])"
   ]
  },
  {
   "cell_type": "code",
   "execution_count": 25,
   "metadata": {},
   "outputs": [
    {
     "data": {
      "text/plain": [
       "str"
      ]
     },
     "execution_count": 25,
     "metadata": {},
     "output_type": "execute_result"
    }
   ],
   "source": [
    "type(a[0][0])"
   ]
  },
  {
   "cell_type": "code",
   "execution_count": 26,
   "metadata": {},
   "outputs": [
    {
     "data": {
      "text/plain": [
       "pandas.core.frame.DataFrame"
      ]
     },
     "execution_count": 26,
     "metadata": {},
     "output_type": "execute_result"
    }
   ],
   "source": [
    "type(a[0][1])"
   ]
  },
  {
   "cell_type": "markdown",
   "metadata": {},
   "source": [
    "### Iterar sobre los grupos\n",
    "\n",
    "Podemos recorrer los grupos en un loop for, desempaquetando la tupla que contine el nombre del grupo y el DataFrame correspondiente.\n",
    "\n",
    "Veamos a ver cuántas autonomías tiene cada provincia."
   ]
  },
  {
   "cell_type": "code",
   "execution_count": 27,
   "metadata": {},
   "outputs": [
    {
     "name": "stdout",
     "output_type": "stream",
     "text": [
      "provincia=Albacete, tamaño=87\n",
      "provincia=Alicante/Alacant, tamaño=141\n",
      "provincia=Almería, tamaño=103\n",
      "provincia=Araba/Álava, tamaño=51\n",
      "provincia=Asturias, tamaño=78\n",
      "provincia=Badajoz, tamaño=165\n",
      "provincia=Balears, Illes, tamaño=67\n",
      "provincia=Barcelona, tamaño=311\n",
      "provincia=Bizkaia, tamaño=112\n",
      "provincia=Burgos, tamaño=371\n",
      "provincia=Cantabria, tamaño=102\n",
      "provincia=Castellón/Castelló, tamaño=135\n",
      "provincia=Ceuta, tamaño=1\n",
      "provincia=Ciudad Real, tamaño=102\n",
      "provincia=Coruña, A, tamaño=93\n",
      "provincia=Cuenca, tamaño=238\n",
      "provincia=Cáceres, tamaño=222\n",
      "provincia=Cádiz, tamaño=44\n",
      "provincia=Córdoba, tamaño=75\n",
      "provincia=Gipuzkoa, tamaño=88\n",
      "provincia=Girona, tamaño=221\n",
      "provincia=Granada, tamaño=172\n",
      "provincia=Guadalajara, tamaño=288\n",
      "provincia=Huelva, tamaño=79\n",
      "provincia=Huesca, tamaño=202\n",
      "provincia=Jaén, tamaño=97\n",
      "provincia=León, tamaño=211\n",
      "provincia=Lleida, tamaño=231\n",
      "provincia=Lugo, tamaño=67\n",
      "provincia=Madrid, tamaño=179\n",
      "provincia=Melilla, tamaño=1\n",
      "provincia=Murcia, tamaño=45\n",
      "provincia=Málaga, tamaño=103\n",
      "provincia=Navarra, tamaño=272\n",
      "provincia=Ourense, tamaño=92\n",
      "provincia=Palencia, tamaño=191\n",
      "provincia=Palmas, Las, tamaño=34\n",
      "provincia=Pontevedra, tamaño=62\n",
      "provincia=Rioja, La, tamaño=174\n",
      "provincia=Salamanca, tamaño=362\n",
      "provincia=Santa Cruz de Tenerife, tamaño=54\n",
      "provincia=Segovia, tamaño=209\n",
      "provincia=Sevilla, tamaño=105\n",
      "provincia=Soria, tamaño=183\n",
      "provincia=Tarragona, tamaño=184\n",
      "provincia=Teruel, tamaño=236\n",
      "provincia=Toledo, tamaño=204\n",
      "provincia=Valencia/València, tamaño=266\n",
      "provincia=Valladolid, tamaño=225\n",
      "provincia=Zamora, tamaño=248\n",
      "provincia=Zaragoza, tamaño=293\n",
      "provincia=Ávila, tamaño=248\n"
     ]
    }
   ],
   "source": [
    "for (cod_prov, group) in df.groupby('PAD_1_COD_PROV'):\n",
    "    print(\"provincia={0}, tamaño={1}\".format(cod_prov, group.shape[0]))"
   ]
  },
  {
   "cell_type": "markdown",
   "metadata": {},
   "source": [
    "Ejercicio: Calculen la media para cada provincia de la proporción de paro. Midan el tiempo que tarda en ejecutarse esa consulta. "
   ]
  },
  {
   "cell_type": "code",
   "execution_count": null,
   "metadata": {},
   "outputs": [],
   "source": []
  },
  {
   "cell_type": "markdown",
   "metadata": {},
   "source": [
    "## SeriesGroupBy\n",
    "\n",
    "Veamos el tipo de objeto que se forma cuando tomamos una serie del DataFrame. "
   ]
  },
  {
   "cell_type": "code",
   "execution_count": 28,
   "metadata": {},
   "outputs": [
    {
     "data": {
      "text/plain": [
       "pandas.core.groupby.generic.SeriesGroupBy"
      ]
     },
     "execution_count": 28,
     "metadata": {},
     "output_type": "execute_result"
    }
   ],
   "source": [
    "type(df.groupby('PAD_1_COD_PROV')['Proporcion_Paro'])"
   ]
  },
  {
   "cell_type": "markdown",
   "metadata": {},
   "source": [
    "Es un objeto de tipo SeriesGroupBy. A estos objetos, podemos aplicarles cualquier función de agregación. "
   ]
  },
  {
   "cell_type": "code",
   "execution_count": null,
   "metadata": {},
   "outputs": [],
   "source": [
    "%%time\n",
    "df.groupby('PAD_1_COD_PROV')['Proporcion_Paro'].mean()"
   ]
  },
  {
   "cell_type": "markdown",
   "metadata": {},
   "source": [
    "Noten que en este caso, la operación sobre el objeto SeriesGroupBy tarda (en este caso, va a depender del hardware) casi 15 veces que el loop for sobre el GroupBy. Esto es gracias a la vectorización que vimos en la clase 1."
   ]
  },
  {
   "cell_type": "code",
   "execution_count": null,
   "metadata": {},
   "outputs": [],
   "source": [
    "a = df.groupby('PAD_1_COD_PROV')['Proporcion_Paro'].mean()"
   ]
  },
  {
   "cell_type": "code",
   "execution_count": null,
   "metadata": {},
   "outputs": [],
   "source": [
    "# El resultado de una función de agregación sobre una SeriesGroupBy, es otra serie\n",
    "type(a)"
   ]
  },
  {
   "cell_type": "code",
   "execution_count": null,
   "metadata": {},
   "outputs": [],
   "source": [
    "# El índice de la serie son todas las provincias. \n",
    "a.index"
   ]
  },
  {
   "cell_type": "markdown",
   "metadata": {},
   "source": [
    "Ahora podemos probar otras funciones de agregación, por ejemplo calculemos el área por provincia:"
   ]
  },
  {
   "cell_type": "code",
   "execution_count": null,
   "metadata": {},
   "outputs": [],
   "source": [
    "df.groupby('PAD_1_COD_PROV')['Shape__Area'].sum()"
   ]
  },
  {
   "cell_type": "markdown",
   "metadata": {},
   "source": [
    "## Agregaciones múltiples\n",
    "\n",
    "Veamos ahora quiero combinar para cada provincia, cuál es el área, cuál es la población, cuál es la media y la mediana de paro y cuántas autonomías la componen. Para esto existe la función aggregate. Aplicada sobre un DataFrameGroupBy recibe como parámetro un diccionario con las nombres de columnas como claves y el tipo de agregación a realizar como valores. Pueden ser valores únicos o listas con varios valores.\n"
   ]
  },
  {
   "cell_type": "code",
   "execution_count": null,
   "metadata": {},
   "outputs": [],
   "source": [
    "df.groupby('PAD_1_COD_PROV').aggregate({'Shape__Area':'sum',\n",
    "                                        'PAD_1C02':'sum',\n",
    "                                        'Proporcion_Paro':['mean','median','size']}).head()"
   ]
  },
  {
   "cell_type": "markdown",
   "metadata": {},
   "source": [
    "## MultiIndex\n",
    "\n",
    "Cuando agregamos por varias columnas distintas, nos queda un MultiIndex en las columnas\n"
   ]
  },
  {
   "cell_type": "code",
   "execution_count": null,
   "metadata": {},
   "outputs": [],
   "source": [
    "df_agregado = df.groupby('PAD_1_COD_PROV').aggregate({'Shape__Area':'sum',\n",
    "                                        'PAD_1C02':'sum',\n",
    "                                        'Proporcion_Paro':['mean','median','size']})"
   ]
  },
  {
   "cell_type": "code",
   "execution_count": null,
   "metadata": {},
   "outputs": [],
   "source": [
    "df_agregado.columns"
   ]
  },
  {
   "cell_type": "markdown",
   "metadata": {},
   "source": [
    "#### Entendiendo la función pd.qcut\n",
    "\n",
    "También podemos agrupar por más de una columna, usando una lista en lugar de un único valor como parámetro del groupby.\n",
    "\n",
    "Calculemos los deciles de paro regitrado en los distintos municipios. \n",
    "Para eso vamos a construir una columna que contenga el decil que ocupa el municipio en el ranking de proporción de paro. El decil 1 va a representar las autonomías que mejor se desempeñan y el decil 10 las que peor lo hacen."
   ]
  },
  {
   "cell_type": "code",
   "execution_count": null,
   "metadata": {},
   "outputs": [],
   "source": [
    "df['Decil_Paro'] = pd.qcut(df['Proporcion_Paro'], 10, labels=range(1,11))\n"
   ]
  },
  {
   "cell_type": "markdown",
   "metadata": {},
   "source": [
    "Ahora podemos agrupar por provincia y decil para ver cuántos municipios de cada decil hay en cada provincia. "
   ]
  },
  {
   "cell_type": "code",
   "execution_count": null,
   "metadata": {},
   "outputs": [],
   "source": [
    "serie_prov_decil = df.groupby(['PAD_1_COD_PROV','Decil_Paro']).size()"
   ]
  },
  {
   "cell_type": "code",
   "execution_count": null,
   "metadata": {},
   "outputs": [],
   "source": [
    "type(serie_prov_decil)"
   ]
  },
  {
   "cell_type": "code",
   "execution_count": null,
   "metadata": {},
   "outputs": [],
   "source": [
    "serie_prov_decil.index"
   ]
  },
  {
   "cell_type": "code",
   "execution_count": null,
   "metadata": {},
   "outputs": [],
   "source": [
    "serie_prov_decil.head(10)"
   ]
  },
  {
   "cell_type": "markdown",
   "metadata": {},
   "source": [
    "El objeto MultiIndex puede ser complicado para trabajar. Por eso conviene utilizar el método reset_index() para volver a un DataFrame común."
   ]
  },
  {
   "cell_type": "code",
   "execution_count": null,
   "metadata": {},
   "outputs": [],
   "source": [
    "df_prov = serie_prov_decil.reset_index()"
   ]
  },
  {
   "cell_type": "code",
   "execution_count": null,
   "metadata": {},
   "outputs": [],
   "source": [
    "df_prov.head()"
   ]
  },
  {
   "cell_type": "markdown",
   "metadata": {},
   "source": [
    "## Ejercicios\n",
    "\n",
    "Ahora vamos a querer trabajar a nivel de provincia. Calculen la densidad, la proporción de paro y la cantidad de municipios para cada provincia ¿Cuál es la provincia con mayor proporción de paro? ¿Cuál es la que tiene menos?"
   ]
  },
  {
   "cell_type": "code",
   "execution_count": null,
   "metadata": {},
   "outputs": [],
   "source": []
  },
  {
   "cell_type": "code",
   "execution_count": null,
   "metadata": {},
   "outputs": [],
   "source": []
  },
  {
   "cell_type": "code",
   "execution_count": null,
   "metadata": {},
   "outputs": [],
   "source": []
  },
  {
   "cell_type": "code",
   "execution_count": null,
   "metadata": {},
   "outputs": [],
   "source": []
  },
  {
   "cell_type": "code",
   "execution_count": null,
   "metadata": {},
   "outputs": [],
   "source": []
  },
  {
   "cell_type": "code",
   "execution_count": null,
   "metadata": {},
   "outputs": [],
   "source": []
  },
  {
   "cell_type": "code",
   "execution_count": null,
   "metadata": {},
   "outputs": [],
   "source": []
  },
  {
   "cell_type": "code",
   "execution_count": null,
   "metadata": {},
   "outputs": [],
   "source": []
  },
  {
   "cell_type": "code",
   "execution_count": null,
   "metadata": {},
   "outputs": [],
   "source": []
  },
  {
   "cell_type": "code",
   "execution_count": null,
   "metadata": {},
   "outputs": [],
   "source": []
  },
  {
   "cell_type": "code",
   "execution_count": null,
   "metadata": {},
   "outputs": [],
   "source": []
  }
 ],
 "metadata": {
  "kernelspec": {
   "display_name": "Python 3 (ipykernel)",
   "language": "python",
   "name": "python3"
  },
  "language_info": {
   "codemirror_mode": {
    "name": "ipython",
    "version": 3
   },
   "file_extension": ".py",
   "mimetype": "text/x-python",
   "name": "python",
   "nbconvert_exporter": "python",
   "pygments_lexer": "ipython3",
   "version": "3.11.3"
  }
 },
 "nbformat": 4,
 "nbformat_minor": 4
}
