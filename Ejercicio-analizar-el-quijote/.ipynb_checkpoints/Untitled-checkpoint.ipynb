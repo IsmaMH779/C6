{
 "cells": [
  {
   "cell_type": "code",
   "execution_count": 21,
   "id": "558dda90",
   "metadata": {},
   "outputs": [
    {
     "name": "stdout",
     "output_type": "stream",
     "text": [
      "[]\n"
     ]
    }
   ],
   "source": [
    "with open('el_quijote.txt', encoding = \"utf-8\") as f:\n",
    "    for linea in f:\n",
    "        contenido = f.read()\n",
    "        npalabras = f\"El Quijote tiene {len(contenido.split())} palabras\"\n",
    "        print(contlineas.)"
   ]
  },
  {
   "cell_type": "code",
   "execution_count": 27,
   "id": "d0cdf509",
   "metadata": {},
   "outputs": [
    {
     "name": "stdout",
     "output_type": "stream",
     "text": [
      "El Quijote tiene 2185 palabras\n"
     ]
    }
   ],
   "source": [
    "with open('el_quijote.txt', encoding = \"utf-8\") as f:\n",
    "    for linea in f:\n",
    "        contlineas = f.readlines()\n",
    "        nlineas = f\"El Quijote tiene {len(contlineas)} lineas\"\n",
    "        print(nlineas)"
   ]
  },
  {
   "cell_type": "code",
   "execution_count": 6,
   "id": "8d173afd",
   "metadata": {},
   "outputs": [
    {
     "ename": "TypeError",
     "evalue": "can't multiply sequence by non-int of type 'str'",
     "output_type": "error",
     "traceback": [
      "\u001b[1;31m---------------------------------------------------------------------------\u001b[0m",
      "\u001b[1;31mTypeError\u001b[0m                                 Traceback (most recent call last)",
      "Cell \u001b[1;32mIn[6], line 3\u001b[0m\n\u001b[0;32m      1\u001b[0m \u001b[38;5;28;01mimport\u001b[39;00m \u001b[38;5;21;01mstring\u001b[39;00m \n\u001b[1;32m----> 3\u001b[0m tabla_puntuacion \u001b[38;5;241m=\u001b[39m \u001b[38;5;28mstr\u001b[39m\u001b[38;5;241m.\u001b[39mmaketrans(string\u001b[38;5;241m.\u001b[39mpunctuation, \u001b[38;5;124m'\u001b[39m\u001b[38;5;124m \u001b[39m\u001b[38;5;124m'\u001b[39m \u001b[38;5;241m*\u001b[39m(string\u001b[38;5;241m.\u001b[39mpunctuation))\n\u001b[0;32m      4\u001b[0m \u001b[38;5;28;01mwith\u001b[39;00m \u001b[38;5;28mopen\u001b[39m(\u001b[38;5;124m'\u001b[39m\u001b[38;5;124mel_quijote.txt\u001b[39m\u001b[38;5;124m'\u001b[39m, encoding \u001b[38;5;241m=\u001b[39m \u001b[38;5;124m\"\u001b[39m\u001b[38;5;124mutf-8\u001b[39m\u001b[38;5;124m\"\u001b[39m) \u001b[38;5;28;01mas\u001b[39;00m f:\n\u001b[0;32m      5\u001b[0m     \u001b[38;5;28;01mfor\u001b[39;00m linea \u001b[38;5;129;01min\u001b[39;00m f:\n",
      "\u001b[1;31mTypeError\u001b[0m: can't multiply sequence by non-int of type 'str'"
     ]
    }
   ],
   "source": [
    "import string \n",
    "\n",
    "tabla_puntuacion = str.maketrans(string.punctuation, ' ' * (string.punctuation))\n",
    "with open('el_quijote.txt', encoding = \"utf-8\") as f:\n",
    "    for linea in f:\n",
    "        contenido = f.read()\n",
    "        contenidofiltrado = contenido.translate(tabla_puntuacion)\n",
    "        palabras = contenidofiltrado.split()\n",
    "        palabras_unicas = set(palabras)\n",
    "        difpalabras = f\"El Quijote tiene {len(palabras_unicas)} palabras diferentes\"\n",
    "        print(difpalabras)\n",
    "        "
   ]
  },
  {
   "cell_type": "code",
   "execution_count": 22,
   "id": "fd1df075",
   "metadata": {},
   "outputs": [
    {
     "name": "stdout",
     "output_type": "stream",
     "text": [
      "91\n"
     ]
    }
   ],
   "source": [
    "palabra_1 = 'Sancho'\n",
    "palabra_2 = 'Rocinante'\n",
    "\n",
    "with open('el_quijote.txt', encoding = \"utf-8\") as f:\n",
    "  res1 = [linea.strip() for linea in f if palabra_1 in linea]\n",
    "with open('el_quijote.txt', encoding = \"utf-8\") as f:\n",
    "  res2 = [linea.strip() for linea in f if palabra_2 in linea]\n",
    "\n",
    "sancho = len(res1)\n",
    "rocinante = len(res2)"
   ]
  },
  {
   "cell_type": "code",
   "execution_count": 25,
   "id": "ef942e75",
   "metadata": {},
   "outputs": [
    {
     "name": "stdout",
     "output_type": "stream",
     "text": [
      "que\n",
      "de\n",
      "y\n",
      "la\n",
      "a\n",
      "en\n",
      "el\n",
      "no\n",
      "se\n",
      "los\n",
      "con\n",
      "por\n",
      "su\n",
      "le\n",
      "lo\n",
      "las\n",
      "me\n",
      "como\n",
      "del\n",
      "es\n",
      "si\n",
      "un\n",
      "más\n",
      "mi\n",
      "yo\n"
     ]
    }
   ],
   "source": [
    "#palabras mas frecuentes\n",
    "letras = [\"que\",\"de\",\"y\",\"la\",\"a\",\"en\",\"el\",\"no\",\"se\",\"los\",\"con\",\"por\",\"su\",\"le\",\"lo\",\"las\",\"me\",\"como\",\"del\",\"es\",\"si\",\"un\",\"más\",\"mi\",\"yo\"]\n",
    "\n",
    "with open('el_quijote.txt', encoding = \"utf-8\") as f:\n",
    "    for i in letras:\n",
    "        ite = [linea.strip() for linea in f if i in linea]\n",
    "        print(ite)"
   ]
  },
  {
   "cell_type": "code",
   "execution_count": null,
   "id": "95842031",
   "metadata": {},
   "outputs": [],
   "source": []
  }
 ],
 "metadata": {
  "kernelspec": {
   "display_name": "Python 3 (ipykernel)",
   "language": "python",
   "name": "python3"
  },
  "language_info": {
   "codemirror_mode": {
    "name": "ipython",
    "version": 3
   },
   "file_extension": ".py",
   "mimetype": "text/x-python",
   "name": "python",
   "nbconvert_exporter": "python",
   "pygments_lexer": "ipython3",
   "version": "3.11.3"
  }
 },
 "nbformat": 4,
 "nbformat_minor": 5
}
