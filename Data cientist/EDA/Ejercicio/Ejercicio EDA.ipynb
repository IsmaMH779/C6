{
 "cells": [
  {
   "cell_type": "code",
   "execution_count": 1,
   "id": "c04cb5ed",
   "metadata": {},
   "outputs": [],
   "source": [
    "import pandas as pd\n",
    "import numpy as np\n",
    "import matplotlib.pyplot as plt\n",
    "\n",
    "#ignorar warnings\n",
    "\n",
    "import warnings\n",
    "warnings.filterwarnings('ignore')"
   ]
  },
  {
   "cell_type": "code",
   "execution_count": 91,
   "id": "f912b446",
   "metadata": {},
   "outputs": [],
   "source": [
    "data = pd.read_csv(\"data2.csv\")"
   ]
  },
  {
   "cell_type": "code",
   "execution_count": 92,
   "id": "b285b528",
   "metadata": {},
   "outputs": [
    {
     "data": {
      "text/plain": [
       "(2200, 9)"
      ]
     },
     "execution_count": 92,
     "metadata": {},
     "output_type": "execute_result"
    }
   ],
   "source": [
    "data.shape"
   ]
  },
  {
   "cell_type": "code",
   "execution_count": 93,
   "id": "022c5546",
   "metadata": {},
   "outputs": [
    {
     "data": {
      "text/html": [
       "<div>\n",
       "<style scoped>\n",
       "    .dataframe tbody tr th:only-of-type {\n",
       "        vertical-align: middle;\n",
       "    }\n",
       "\n",
       "    .dataframe tbody tr th {\n",
       "        vertical-align: top;\n",
       "    }\n",
       "\n",
       "    .dataframe thead th {\n",
       "        text-align: right;\n",
       "    }\n",
       "</style>\n",
       "<table border=\"1\" class=\"dataframe\">\n",
       "  <thead>\n",
       "    <tr style=\"text-align: right;\">\n",
       "      <th></th>\n",
       "      <th>ID</th>\n",
       "      <th>Nombre</th>\n",
       "      <th>Edad</th>\n",
       "      <th>Puntaje</th>\n",
       "      <th>Ciudad</th>\n",
       "      <th>Genero</th>\n",
       "      <th>Altura</th>\n",
       "      <th>Peso</th>\n",
       "      <th>Ingresos</th>\n",
       "    </tr>\n",
       "  </thead>\n",
       "  <tbody>\n",
       "    <tr>\n",
       "      <th>0</th>\n",
       "      <td>514</td>\n",
       "      <td>Juan</td>\n",
       "      <td>63.0</td>\n",
       "      <td>77</td>\n",
       "      <td>Ciudad D</td>\n",
       "      <td>M</td>\n",
       "      <td>196.0</td>\n",
       "      <td>168.0</td>\n",
       "      <td>150.0</td>\n",
       "    </tr>\n",
       "    <tr>\n",
       "      <th>1</th>\n",
       "      <td>76</td>\n",
       "      <td>Juan</td>\n",
       "      <td>63.0</td>\n",
       "      <td>71</td>\n",
       "      <td>Ciudad A</td>\n",
       "      <td>F</td>\n",
       "      <td>187.0</td>\n",
       "      <td>150.0</td>\n",
       "      <td>186.0</td>\n",
       "    </tr>\n",
       "    <tr>\n",
       "      <th>2</th>\n",
       "      <td>548</td>\n",
       "      <td>Ana</td>\n",
       "      <td>19.0</td>\n",
       "      <td>99</td>\n",
       "      <td>Ciudad A</td>\n",
       "      <td>F</td>\n",
       "      <td>199.0</td>\n",
       "      <td>163.0</td>\n",
       "      <td>158.0</td>\n",
       "    </tr>\n",
       "    <tr>\n",
       "      <th>3</th>\n",
       "      <td>48</td>\n",
       "      <td>María</td>\n",
       "      <td>27.0</td>\n",
       "      <td>93</td>\n",
       "      <td>Ciudad A</td>\n",
       "      <td>F</td>\n",
       "      <td>164.0</td>\n",
       "      <td>177.0</td>\n",
       "      <td>151.0</td>\n",
       "    </tr>\n",
       "    <tr>\n",
       "      <th>4</th>\n",
       "      <td>681</td>\n",
       "      <td>Luis</td>\n",
       "      <td>NaN</td>\n",
       "      <td>86</td>\n",
       "      <td>Ciudad C</td>\n",
       "      <td>M</td>\n",
       "      <td>164.0</td>\n",
       "      <td>NaN</td>\n",
       "      <td>NaN</td>\n",
       "    </tr>\n",
       "  </tbody>\n",
       "</table>\n",
       "</div>"
      ],
      "text/plain": [
       "    ID Nombre  Edad  Puntaje    Ciudad Genero  Altura   Peso  Ingresos\n",
       "0  514   Juan  63.0       77  Ciudad D      M   196.0  168.0     150.0\n",
       "1   76   Juan  63.0       71  Ciudad A      F   187.0  150.0     186.0\n",
       "2  548    Ana  19.0       99  Ciudad A      F   199.0  163.0     158.0\n",
       "3   48  María  27.0       93  Ciudad A      F   164.0  177.0     151.0\n",
       "4  681   Luis   NaN       86  Ciudad C      M   164.0    NaN       NaN"
      ]
     },
     "execution_count": 93,
     "metadata": {},
     "output_type": "execute_result"
    }
   ],
   "source": [
    "data.head()"
   ]
  },
  {
   "cell_type": "code",
   "execution_count": 94,
   "id": "b945ad36",
   "metadata": {},
   "outputs": [
    {
     "data": {
      "text/html": [
       "<div>\n",
       "<style scoped>\n",
       "    .dataframe tbody tr th:only-of-type {\n",
       "        vertical-align: middle;\n",
       "    }\n",
       "\n",
       "    .dataframe tbody tr th {\n",
       "        vertical-align: top;\n",
       "    }\n",
       "\n",
       "    .dataframe thead th {\n",
       "        text-align: right;\n",
       "    }\n",
       "</style>\n",
       "<table border=\"1\" class=\"dataframe\">\n",
       "  <thead>\n",
       "    <tr style=\"text-align: right;\">\n",
       "      <th></th>\n",
       "      <th>ID</th>\n",
       "      <th>Nombre</th>\n",
       "      <th>Edad</th>\n",
       "      <th>Puntaje</th>\n",
       "      <th>Ciudad</th>\n",
       "      <th>Genero</th>\n",
       "      <th>Altura</th>\n",
       "      <th>Peso</th>\n",
       "      <th>Ingresos</th>\n",
       "    </tr>\n",
       "  </thead>\n",
       "  <tbody>\n",
       "    <tr>\n",
       "      <th>2195</th>\n",
       "      <td>888</td>\n",
       "      <td>María</td>\n",
       "      <td>64.0</td>\n",
       "      <td>59</td>\n",
       "      <td>Ciudad A</td>\n",
       "      <td>M</td>\n",
       "      <td>171.0</td>\n",
       "      <td>NaN</td>\n",
       "      <td>183.0</td>\n",
       "    </tr>\n",
       "    <tr>\n",
       "      <th>2196</th>\n",
       "      <td>68</td>\n",
       "      <td>Luis</td>\n",
       "      <td>56.0</td>\n",
       "      <td>72</td>\n",
       "      <td>Ciudad A</td>\n",
       "      <td>F</td>\n",
       "      <td>187.0</td>\n",
       "      <td>NaN</td>\n",
       "      <td>193.0</td>\n",
       "    </tr>\n",
       "    <tr>\n",
       "      <th>2197</th>\n",
       "      <td>559</td>\n",
       "      <td>Juan</td>\n",
       "      <td>40.0</td>\n",
       "      <td>83</td>\n",
       "      <td>Ciudad B</td>\n",
       "      <td>F</td>\n",
       "      <td>153.0</td>\n",
       "      <td>165.0</td>\n",
       "      <td>162.0</td>\n",
       "    </tr>\n",
       "    <tr>\n",
       "      <th>2198</th>\n",
       "      <td>816</td>\n",
       "      <td>Luis</td>\n",
       "      <td>41.0</td>\n",
       "      <td>82</td>\n",
       "      <td>Ciudad E</td>\n",
       "      <td>M</td>\n",
       "      <td>NaN</td>\n",
       "      <td>153.0</td>\n",
       "      <td>NaN</td>\n",
       "    </tr>\n",
       "    <tr>\n",
       "      <th>2199</th>\n",
       "      <td>983</td>\n",
       "      <td>Luis</td>\n",
       "      <td>49.0</td>\n",
       "      <td>67</td>\n",
       "      <td>Ciudad D</td>\n",
       "      <td>F</td>\n",
       "      <td>NaN</td>\n",
       "      <td>155.0</td>\n",
       "      <td>161.0</td>\n",
       "    </tr>\n",
       "  </tbody>\n",
       "</table>\n",
       "</div>"
      ],
      "text/plain": [
       "       ID Nombre  Edad  Puntaje    Ciudad Genero  Altura   Peso  Ingresos\n",
       "2195  888  María  64.0       59  Ciudad A      M   171.0    NaN     183.0\n",
       "2196   68   Luis  56.0       72  Ciudad A      F   187.0    NaN     193.0\n",
       "2197  559   Juan  40.0       83  Ciudad B      F   153.0  165.0     162.0\n",
       "2198  816   Luis  41.0       82  Ciudad E      M     NaN  153.0       NaN\n",
       "2199  983   Luis  49.0       67  Ciudad D      F     NaN  155.0     161.0"
      ]
     },
     "execution_count": 94,
     "metadata": {},
     "output_type": "execute_result"
    }
   ],
   "source": [
    "data.tail()"
   ]
  },
  {
   "cell_type": "code",
   "execution_count": 95,
   "id": "8667c180",
   "metadata": {},
   "outputs": [
    {
     "name": "stdout",
     "output_type": "stream",
     "text": [
      "<class 'pandas.core.frame.DataFrame'>\n",
      "RangeIndex: 2200 entries, 0 to 2199\n",
      "Data columns (total 9 columns):\n",
      " #   Column    Non-Null Count  Dtype  \n",
      "---  ------    --------------  -----  \n",
      " 0   ID        2200 non-null   int64  \n",
      " 1   Nombre    2200 non-null   object \n",
      " 2   Edad      1753 non-null   float64\n",
      " 3   Puntaje   2200 non-null   int64  \n",
      " 4   Ciudad    2200 non-null   object \n",
      " 5   Genero    2200 non-null   object \n",
      " 6   Altura    1751 non-null   float64\n",
      " 7   Peso      1740 non-null   float64\n",
      " 8   Ingresos  1747 non-null   float64\n",
      "dtypes: float64(4), int64(2), object(3)\n",
      "memory usage: 154.8+ KB\n"
     ]
    }
   ],
   "source": [
    "data.info()"
   ]
  },
  {
   "cell_type": "code",
   "execution_count": 96,
   "id": "2202bcd3",
   "metadata": {},
   "outputs": [
    {
     "data": {
      "text/plain": [
       "200"
      ]
     },
     "execution_count": 96,
     "metadata": {},
     "output_type": "execute_result"
    }
   ],
   "source": [
    "data.duplicated().sum()"
   ]
  },
  {
   "cell_type": "code",
   "execution_count": 97,
   "id": "4b141057",
   "metadata": {},
   "outputs": [],
   "source": [
    "data.drop_duplicates(inplace=True)"
   ]
  },
  {
   "cell_type": "code",
   "execution_count": 98,
   "id": "e02d6193",
   "metadata": {},
   "outputs": [
    {
     "data": {
      "text/plain": [
       "0"
      ]
     },
     "execution_count": 98,
     "metadata": {},
     "output_type": "execute_result"
    }
   ],
   "source": [
    "data.duplicated().sum()"
   ]
  },
  {
   "cell_type": "code",
   "execution_count": 99,
   "id": "e3c954cc",
   "metadata": {},
   "outputs": [
    {
     "data": {
      "text/plain": [
       "ID          1000\n",
       "Nombre         5\n",
       "Edad          48\n",
       "Puntaje       51\n",
       "Ciudad         5\n",
       "Genero         2\n",
       "Altura        51\n",
       "Peso          51\n",
       "Ingresos      51\n",
       "dtype: int64"
      ]
     },
     "execution_count": 99,
     "metadata": {},
     "output_type": "execute_result"
    }
   ],
   "source": [
    "data.nunique()"
   ]
  },
  {
   "cell_type": "code",
   "execution_count": 100,
   "id": "2627469c",
   "metadata": {},
   "outputs": [
    {
     "data": {
      "text/plain": [
       "ID            0\n",
       "Nombre        0\n",
       "Edad        409\n",
       "Puntaje       0\n",
       "Ciudad        0\n",
       "Genero        0\n",
       "Altura      417\n",
       "Peso        416\n",
       "Ingresos    419\n",
       "dtype: int64"
      ]
     },
     "execution_count": 100,
     "metadata": {},
     "output_type": "execute_result"
    }
   ],
   "source": [
    "data.isnull().sum()"
   ]
  },
  {
   "cell_type": "code",
   "execution_count": 101,
   "id": "545cd3e4",
   "metadata": {},
   "outputs": [
    {
     "data": {
      "text/plain": [
       "ID           0.00\n",
       "Nombre       0.00\n",
       "Edad        20.45\n",
       "Puntaje      0.00\n",
       "Ciudad       0.00\n",
       "Genero       0.00\n",
       "Altura      20.85\n",
       "Peso        20.80\n",
       "Ingresos    20.95\n",
       "dtype: float64"
      ]
     },
     "execution_count": 101,
     "metadata": {},
     "output_type": "execute_result"
    }
   ],
   "source": [
    "(data.isnull().sum()/(len(data)))*100"
   ]
  },
  {
   "cell_type": "code",
   "execution_count": 102,
   "id": "402d9b87",
   "metadata": {},
   "outputs": [],
   "source": [
    "data[\"Peso\"] = data[\"Peso\"] * 0.453592"
   ]
  },
  {
   "cell_type": "code",
   "execution_count": 103,
   "id": "250e3874",
   "metadata": {},
   "outputs": [],
   "source": [
    "genero_moda_altura = data.groupby(\"Genero\")[\"Altura\"].apply(lambda x:x.mode().iloc[0])"
   ]
  },
  {
   "cell_type": "code",
   "execution_count": 104,
   "id": "b6e176da",
   "metadata": {},
   "outputs": [
    {
     "data": {
      "text/plain": [
       "Genero\n",
       "F    177.0\n",
       "M    157.0\n",
       "Name: Altura, dtype: float64"
      ]
     },
     "execution_count": 104,
     "metadata": {},
     "output_type": "execute_result"
    }
   ],
   "source": [
    "ingresos_moda_edad"
   ]
  },
  {
   "cell_type": "code",
   "execution_count": 105,
   "id": "41e0b734",
   "metadata": {},
   "outputs": [],
   "source": [
    "data[\"Altura\"].fillna(data[\"Genero\"].map(genero_moda_altura),inplace=True)"
   ]
  },
  {
   "cell_type": "code",
   "execution_count": 106,
   "id": "1d0e2821",
   "metadata": {},
   "outputs": [],
   "source": [
    "def calcular_peso_imc(altura,genero):\n",
    "    if genero == \"M\":\n",
    "        return 23 * ((altura/100)**2)\n",
    "    else:\n",
    "        return 21 * ((altura/100)**2)"
   ]
  },
  {
   "cell_type": "code",
   "execution_count": 107,
   "id": "e4021636",
   "metadata": {},
   "outputs": [],
   "source": [
    "data[\"Genero\"]= data[\"Genero\"].astype(str)"
   ]
  },
  {
   "cell_type": "code",
   "execution_count": 108,
   "id": "ca302432",
   "metadata": {},
   "outputs": [],
   "source": [
    "data[\"Peso\"].fillna(data.apply(lambda row: calcular_peso_imc(row[\"Altura\"],row[\"Genero\"]),axis=1),inplace = True)"
   ]
  },
  {
   "cell_type": "code",
   "execution_count": 109,
   "id": "f6da81d3",
   "metadata": {},
   "outputs": [
    {
     "data": {
      "text/html": [
       "<div>\n",
       "<style scoped>\n",
       "    .dataframe tbody tr th:only-of-type {\n",
       "        vertical-align: middle;\n",
       "    }\n",
       "\n",
       "    .dataframe tbody tr th {\n",
       "        vertical-align: top;\n",
       "    }\n",
       "\n",
       "    .dataframe thead th {\n",
       "        text-align: right;\n",
       "    }\n",
       "</style>\n",
       "<table border=\"1\" class=\"dataframe\">\n",
       "  <thead>\n",
       "    <tr style=\"text-align: right;\">\n",
       "      <th></th>\n",
       "      <th>ID</th>\n",
       "      <th>Nombre</th>\n",
       "      <th>Edad</th>\n",
       "      <th>Puntaje</th>\n",
       "      <th>Ciudad</th>\n",
       "      <th>Genero</th>\n",
       "      <th>Altura</th>\n",
       "      <th>Peso</th>\n",
       "      <th>Ingresos</th>\n",
       "    </tr>\n",
       "  </thead>\n",
       "  <tbody>\n",
       "    <tr>\n",
       "      <th>0</th>\n",
       "      <td>514</td>\n",
       "      <td>Juan</td>\n",
       "      <td>63.0</td>\n",
       "      <td>77</td>\n",
       "      <td>Ciudad D</td>\n",
       "      <td>M</td>\n",
       "      <td>196.0</td>\n",
       "      <td>76.203456</td>\n",
       "      <td>150.0</td>\n",
       "    </tr>\n",
       "    <tr>\n",
       "      <th>1</th>\n",
       "      <td>76</td>\n",
       "      <td>Juan</td>\n",
       "      <td>63.0</td>\n",
       "      <td>71</td>\n",
       "      <td>Ciudad A</td>\n",
       "      <td>F</td>\n",
       "      <td>187.0</td>\n",
       "      <td>68.038800</td>\n",
       "      <td>186.0</td>\n",
       "    </tr>\n",
       "    <tr>\n",
       "      <th>2</th>\n",
       "      <td>548</td>\n",
       "      <td>Ana</td>\n",
       "      <td>19.0</td>\n",
       "      <td>99</td>\n",
       "      <td>Ciudad A</td>\n",
       "      <td>F</td>\n",
       "      <td>199.0</td>\n",
       "      <td>73.935496</td>\n",
       "      <td>158.0</td>\n",
       "    </tr>\n",
       "    <tr>\n",
       "      <th>3</th>\n",
       "      <td>48</td>\n",
       "      <td>María</td>\n",
       "      <td>27.0</td>\n",
       "      <td>93</td>\n",
       "      <td>Ciudad A</td>\n",
       "      <td>F</td>\n",
       "      <td>164.0</td>\n",
       "      <td>80.285784</td>\n",
       "      <td>151.0</td>\n",
       "    </tr>\n",
       "    <tr>\n",
       "      <th>4</th>\n",
       "      <td>681</td>\n",
       "      <td>Luis</td>\n",
       "      <td>NaN</td>\n",
       "      <td>86</td>\n",
       "      <td>Ciudad C</td>\n",
       "      <td>M</td>\n",
       "      <td>164.0</td>\n",
       "      <td>61.860800</td>\n",
       "      <td>NaN</td>\n",
       "    </tr>\n",
       "    <tr>\n",
       "      <th>...</th>\n",
       "      <td>...</td>\n",
       "      <td>...</td>\n",
       "      <td>...</td>\n",
       "      <td>...</td>\n",
       "      <td>...</td>\n",
       "      <td>...</td>\n",
       "      <td>...</td>\n",
       "      <td>...</td>\n",
       "      <td>...</td>\n",
       "    </tr>\n",
       "    <tr>\n",
       "      <th>2195</th>\n",
       "      <td>888</td>\n",
       "      <td>María</td>\n",
       "      <td>64.0</td>\n",
       "      <td>59</td>\n",
       "      <td>Ciudad A</td>\n",
       "      <td>M</td>\n",
       "      <td>171.0</td>\n",
       "      <td>67.254300</td>\n",
       "      <td>183.0</td>\n",
       "    </tr>\n",
       "    <tr>\n",
       "      <th>2196</th>\n",
       "      <td>68</td>\n",
       "      <td>Luis</td>\n",
       "      <td>56.0</td>\n",
       "      <td>72</td>\n",
       "      <td>Ciudad A</td>\n",
       "      <td>F</td>\n",
       "      <td>187.0</td>\n",
       "      <td>73.434900</td>\n",
       "      <td>193.0</td>\n",
       "    </tr>\n",
       "    <tr>\n",
       "      <th>2197</th>\n",
       "      <td>559</td>\n",
       "      <td>Juan</td>\n",
       "      <td>40.0</td>\n",
       "      <td>83</td>\n",
       "      <td>Ciudad B</td>\n",
       "      <td>F</td>\n",
       "      <td>153.0</td>\n",
       "      <td>74.842680</td>\n",
       "      <td>162.0</td>\n",
       "    </tr>\n",
       "    <tr>\n",
       "      <th>2198</th>\n",
       "      <td>816</td>\n",
       "      <td>Luis</td>\n",
       "      <td>41.0</td>\n",
       "      <td>82</td>\n",
       "      <td>Ciudad E</td>\n",
       "      <td>M</td>\n",
       "      <td>157.0</td>\n",
       "      <td>69.399576</td>\n",
       "      <td>NaN</td>\n",
       "    </tr>\n",
       "    <tr>\n",
       "      <th>2199</th>\n",
       "      <td>983</td>\n",
       "      <td>Luis</td>\n",
       "      <td>49.0</td>\n",
       "      <td>67</td>\n",
       "      <td>Ciudad D</td>\n",
       "      <td>F</td>\n",
       "      <td>177.0</td>\n",
       "      <td>70.306760</td>\n",
       "      <td>161.0</td>\n",
       "    </tr>\n",
       "  </tbody>\n",
       "</table>\n",
       "<p>2000 rows × 9 columns</p>\n",
       "</div>"
      ],
      "text/plain": [
       "       ID Nombre  Edad  Puntaje    Ciudad Genero  Altura       Peso  Ingresos\n",
       "0     514   Juan  63.0       77  Ciudad D      M   196.0  76.203456     150.0\n",
       "1      76   Juan  63.0       71  Ciudad A      F   187.0  68.038800     186.0\n",
       "2     548    Ana  19.0       99  Ciudad A      F   199.0  73.935496     158.0\n",
       "3      48  María  27.0       93  Ciudad A      F   164.0  80.285784     151.0\n",
       "4     681   Luis   NaN       86  Ciudad C      M   164.0  61.860800       NaN\n",
       "...   ...    ...   ...      ...       ...    ...     ...        ...       ...\n",
       "2195  888  María  64.0       59  Ciudad A      M   171.0  67.254300     183.0\n",
       "2196   68   Luis  56.0       72  Ciudad A      F   187.0  73.434900     193.0\n",
       "2197  559   Juan  40.0       83  Ciudad B      F   153.0  74.842680     162.0\n",
       "2198  816   Luis  41.0       82  Ciudad E      M   157.0  69.399576       NaN\n",
       "2199  983   Luis  49.0       67  Ciudad D      F   177.0  70.306760     161.0\n",
       "\n",
       "[2000 rows x 9 columns]"
      ]
     },
     "execution_count": 109,
     "metadata": {},
     "output_type": "execute_result"
    }
   ],
   "source": [
    "data"
   ]
  },
  {
   "cell_type": "code",
   "execution_count": null,
   "id": "2fa57ef8",
   "metadata": {},
   "outputs": [],
   "source": []
  }
 ],
 "metadata": {
  "kernelspec": {
   "display_name": "Python 3 (ipykernel)",
   "language": "python",
   "name": "python3"
  },
  "language_info": {
   "codemirror_mode": {
    "name": "ipython",
    "version": 3
   },
   "file_extension": ".py",
   "mimetype": "text/x-python",
   "name": "python",
   "nbconvert_exporter": "python",
   "pygments_lexer": "ipython3",
   "version": "3.11.3"
  }
 },
 "nbformat": 4,
 "nbformat_minor": 5
}
