{
 "cells": [
  {
   "cell_type": "code",
   "execution_count": 2,
   "id": "b9db247f",
   "metadata": {},
   "outputs": [
    {
     "name": "stdout",
     "output_type": "stream",
     "text": [
      "Coeficientes: [0.8526971  2.68775934 0.45124481]\n",
      "Intercepto: 53.05497925311201\n",
      "Error cuadrático medio: 6.64260472443657\n",
      "Estadístico R^2: 0.8154832020989842\n"
     ]
    }
   ],
   "source": [
    "import numpy as np\n",
    "from sklearn.linear_model import LinearRegression\n",
    "from sklearn.metrics import mean_squared_error, r2_score\n",
    "\n",
    "# Datos de ejemplo\n",
    "horas_estudio = [10, 8, 6, 9, 7, 6, 8, 7, 5, 9]\n",
    "horas_sueño = [7, 8, 6, 7, 6, 5, 8, 7, 6, 9]\n",
    "horas_extracurriculares = [2, 1, 3, 2, 1, 0, 1, 2, 3, 2]\n",
    "promedio_calificaciones = [80, 85, 75, 82, 78, 70, 82, 79, 73, 85]\n",
    "\n",
    "# Convertir las listas en matrices numpy\n",
    "X = np.array([horas_estudio, horas_sueño, horas_extracurriculares]).T\n",
    "y = np.array(promedio_calificaciones)\n",
    "\n",
    "# Dividir los datos en conjuntos de entrenamiento y prueba\n",
    "# Puedes ajustar el parámetro test_size y random_state según tus necesidades\n",
    "from sklearn.model_selection import train_test_split\n",
    "X_train, X_test, y_train, y_test = train_test_split(X, y, test_size=0.2, random_state=42)\n",
    "\n",
    "# Construir el modelo de regresión lineal múltiple\n",
    "regression_model = LinearRegression()\n",
    "regression_model.fit(X_train, y_train)\n",
    "\n",
    "# Realizar predicciones\n",
    "y_pred = regression_model.predict(X_test)\n",
    "\n",
    "# Evaluar el modelo\n",
    "mse = mean_squared_error(y_test, y_pred)\n",
    "r2 = r2_score(y_test, y_pred)\n",
    "\n",
    "# Imprimir los coeficientes del modelo\n",
    "print('Coeficientes:', regression_model.coef_)\n",
    "print('Intercepto:', regression_model.intercept_)\n",
    "print('Error cuadrático medio:', mse)\n",
    "print('Estadístico R^2:', r2)\n"
   ]
  },
  {
   "cell_type": "markdown",
   "id": "58fdad66",
   "metadata": {},
   "source": [
    "\"Coeficientes\": Los coeficientes corresponden a las variables independientes en el modelo de regresión lineal múltiple. En este caso, hay tres variables independientes. Los coeficientes son [0.8526971, 2.68775934, 0.45124481]. Estos coeficientes indican cómo cada variable independiente contribuye al modelo y se interpreta como el cambio esperado en la variable dependiente por cada unidad de cambio en la variable independiente correspondiente, manteniendo las demás variables constantes. Por ejemplo, un aumento de una unidad en la primera variable independiente se asociaría con un aumento de aproximadamente 0.8526971 en la variable dependiente.\n",
    "\n",
    "\"Intercepto\": El intercepto es el valor constante en el modelo de regresión lineal múltiple. En este caso, el intercepto es 53.05497925311201. Representa el valor esperado de la variable dependiente cuando todas las variables independientes son cero.\n",
    "\n",
    "\"Error cuadrático medio (MSE)\": El error cuadrático medio mide la diferencia cuadrada promedio entre los valores observados y los valores predichos por el modelo. En este caso, el valor del MSE es 6.64260472443657. Un valor bajo de MSE indica que el modelo tiene un buen ajuste a los datos.\n",
    "\n",
    "\"Estadístico R^2\": El coeficiente de determinación (R^2) es una medida de qué tan bien el modelo se ajusta a los datos. Varía entre 0 y 1, donde 1 indica un ajuste perfecto. En este caso, el valor de R^2 es 0.8154832020989842, lo que indica que aproximadamente el 81.5% de la varianza en la variable dependiente se explica por el modelo de regresión lineal múltiple. Esto indica que el modelo tiene un buen ajuste a los datos y puede explicar una gran parte de la variabilidad en la variable dependiente."
   ]
  }
 ],
 "metadata": {
  "kernelspec": {
   "display_name": "Python 3 (ipykernel)",
   "language": "python",
   "name": "python3"
  },
  "language_info": {
   "codemirror_mode": {
    "name": "ipython",
    "version": 3
   },
   "file_extension": ".py",
   "mimetype": "text/x-python",
   "name": "python",
   "nbconvert_exporter": "python",
   "pygments_lexer": "ipython3",
   "version": "3.11.3"
  }
 },
 "nbformat": 4,
 "nbformat_minor": 5
}
