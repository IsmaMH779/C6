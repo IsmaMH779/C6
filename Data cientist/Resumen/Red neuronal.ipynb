{
 "cells": [
  {
   "cell_type": "code",
   "execution_count": 6,
   "id": "068e52c2",
   "metadata": {},
   "outputs": [],
   "source": [
    "import numpy as np\n",
    "import pandas as pd\n",
    "from sklearn.model_selection import train_test_split\n",
    "from sklearn.preprocessing import StandardScaler\n",
    "import tensorflow as tf\n",
    "from tensorflow.keras.models import Sequential\n",
    "from tensorflow.keras.layers import Dense\n",
    "from sklearn.datasets import load_wine\n",
    "from sklearn.metrics import accuracy_score"
   ]
  },
  {
   "cell_type": "code",
   "execution_count": 7,
   "id": "ccaf28f8",
   "metadata": {},
   "outputs": [],
   "source": [
    "wine_data = load_wine()\n",
    "X = wine_data.data\n",
    "y = wine_data.target"
   ]
  },
  {
   "cell_type": "code",
   "execution_count": 8,
   "id": "d49674f7",
   "metadata": {},
   "outputs": [],
   "source": [
    "X_train, X_test, y_train, y_test = train_test_split(X, y, test_size=0.2, random_state=42)"
   ]
  },
  {
   "cell_type": "code",
   "execution_count": 9,
   "id": "8369991b",
   "metadata": {},
   "outputs": [],
   "source": [
    "scaler = StandardScaler()\n",
    "X_train_scaled = scaler.fit_transform(X_train)\n",
    "X_test_scaled = scaler.transform(X_test)"
   ]
  },
  {
   "cell_type": "code",
   "execution_count": 10,
   "id": "1a5bdf1e",
   "metadata": {},
   "outputs": [],
   "source": [
    "model = Sequential()\n",
    "model.add(Dense(64, activation='relu', input_shape=(X_train_scaled.shape[1],)))\n",
    "model.add(Dense(32, activation='relu'))\n",
    "model.add(Dense(1, activation='linear'))"
   ]
  },
  {
   "cell_type": "code",
   "execution_count": 11,
   "id": "d6b6efef",
   "metadata": {},
   "outputs": [],
   "source": [
    "model.compile(optimizer='adam', loss='mean_squared_error')"
   ]
  },
  {
   "cell_type": "code",
   "execution_count": 12,
   "id": "2ec8fb2e",
   "metadata": {},
   "outputs": [
    {
     "name": "stdout",
     "output_type": "stream",
     "text": [
      "Epoch 1/50\n",
      "4/4 - 2s - loss: 0.4929 - val_loss: 0.5304 - 2s/epoch - 500ms/step\n",
      "Epoch 2/50\n",
      "4/4 - 0s - loss: 0.2470 - val_loss: 0.2956 - 80ms/epoch - 20ms/step\n",
      "Epoch 3/50\n",
      "4/4 - 0s - loss: 0.1466 - val_loss: 0.1728 - 89ms/epoch - 22ms/step\n",
      "Epoch 4/50\n",
      "4/4 - 0s - loss: 0.1195 - val_loss: 0.1250 - 80ms/epoch - 20ms/step\n",
      "Epoch 5/50\n",
      "4/4 - 0s - loss: 0.1085 - val_loss: 0.1059 - 69ms/epoch - 17ms/step\n",
      "Epoch 6/50\n",
      "4/4 - 0s - loss: 0.0922 - val_loss: 0.0939 - 84ms/epoch - 21ms/step\n",
      "Epoch 7/50\n",
      "4/4 - 0s - loss: 0.0751 - val_loss: 0.0843 - 92ms/epoch - 23ms/step\n",
      "Epoch 8/50\n",
      "4/4 - 0s - loss: 0.0624 - val_loss: 0.0780 - 76ms/epoch - 19ms/step\n",
      "Epoch 9/50\n",
      "4/4 - 0s - loss: 0.0557 - val_loss: 0.0712 - 89ms/epoch - 22ms/step\n",
      "Epoch 10/50\n",
      "4/4 - 0s - loss: 0.0489 - val_loss: 0.0638 - 75ms/epoch - 19ms/step\n",
      "Epoch 11/50\n",
      "4/4 - 0s - loss: 0.0431 - val_loss: 0.0589 - 89ms/epoch - 22ms/step\n",
      "Epoch 12/50\n",
      "4/4 - 0s - loss: 0.0381 - val_loss: 0.0567 - 75ms/epoch - 19ms/step\n",
      "Epoch 13/50\n",
      "4/4 - 0s - loss: 0.0360 - val_loss: 0.0548 - 80ms/epoch - 20ms/step\n",
      "Epoch 14/50\n",
      "4/4 - 0s - loss: 0.0330 - val_loss: 0.0534 - 80ms/epoch - 20ms/step\n",
      "Epoch 15/50\n",
      "4/4 - 0s - loss: 0.0303 - val_loss: 0.0525 - 89ms/epoch - 22ms/step\n",
      "Epoch 16/50\n",
      "4/4 - 0s - loss: 0.0282 - val_loss: 0.0524 - 88ms/epoch - 22ms/step\n",
      "Epoch 17/50\n",
      "4/4 - 0s - loss: 0.0268 - val_loss: 0.0520 - 93ms/epoch - 23ms/step\n",
      "Epoch 18/50\n",
      "4/4 - 0s - loss: 0.0253 - val_loss: 0.0521 - 85ms/epoch - 21ms/step\n",
      "Epoch 19/50\n",
      "4/4 - 0s - loss: 0.0236 - val_loss: 0.0519 - 80ms/epoch - 20ms/step\n",
      "Epoch 20/50\n",
      "4/4 - 0s - loss: 0.0224 - val_loss: 0.0522 - 74ms/epoch - 18ms/step\n",
      "Epoch 21/50\n",
      "4/4 - 0s - loss: 0.0213 - val_loss: 0.0521 - 86ms/epoch - 22ms/step\n",
      "Epoch 22/50\n",
      "4/4 - 0s - loss: 0.0202 - val_loss: 0.0524 - 92ms/epoch - 23ms/step\n",
      "Epoch 23/50\n",
      "4/4 - 0s - loss: 0.0190 - val_loss: 0.0529 - 98ms/epoch - 25ms/step\n",
      "Epoch 24/50\n",
      "4/4 - 0s - loss: 0.0181 - val_loss: 0.0531 - 80ms/epoch - 20ms/step\n",
      "Epoch 25/50\n",
      "4/4 - 0s - loss: 0.0171 - val_loss: 0.0535 - 71ms/epoch - 18ms/step\n",
      "Epoch 26/50\n",
      "4/4 - 0s - loss: 0.0164 - val_loss: 0.0536 - 90ms/epoch - 22ms/step\n",
      "Epoch 27/50\n",
      "4/4 - 0s - loss: 0.0158 - val_loss: 0.0539 - 95ms/epoch - 24ms/step\n",
      "Epoch 28/50\n",
      "4/4 - 0s - loss: 0.0149 - val_loss: 0.0545 - 115ms/epoch - 29ms/step\n",
      "Epoch 29/50\n",
      "4/4 - 0s - loss: 0.0145 - val_loss: 0.0552 - 84ms/epoch - 21ms/step\n",
      "Epoch 30/50\n",
      "4/4 - 0s - loss: 0.0137 - val_loss: 0.0547 - 70ms/epoch - 17ms/step\n",
      "Epoch 31/50\n",
      "4/4 - 0s - loss: 0.0130 - val_loss: 0.0550 - 80ms/epoch - 20ms/step\n",
      "Epoch 32/50\n",
      "4/4 - 0s - loss: 0.0125 - val_loss: 0.0554 - 100ms/epoch - 25ms/step\n",
      "Epoch 33/50\n",
      "4/4 - 0s - loss: 0.0120 - val_loss: 0.0555 - 88ms/epoch - 22ms/step\n",
      "Epoch 34/50\n",
      "4/4 - 0s - loss: 0.0115 - val_loss: 0.0550 - 90ms/epoch - 22ms/step\n",
      "Epoch 35/50\n",
      "4/4 - 0s - loss: 0.0110 - val_loss: 0.0552 - 78ms/epoch - 20ms/step\n",
      "Epoch 36/50\n",
      "4/4 - 0s - loss: 0.0105 - val_loss: 0.0559 - 82ms/epoch - 20ms/step\n",
      "Epoch 37/50\n",
      "4/4 - 0s - loss: 0.0100 - val_loss: 0.0563 - 85ms/epoch - 21ms/step\n",
      "Epoch 38/50\n",
      "4/4 - 0s - loss: 0.0096 - val_loss: 0.0561 - 84ms/epoch - 21ms/step\n",
      "Epoch 39/50\n",
      "4/4 - 0s - loss: 0.0092 - val_loss: 0.0561 - 74ms/epoch - 19ms/step\n",
      "Epoch 40/50\n",
      "4/4 - 0s - loss: 0.0087 - val_loss: 0.0565 - 64ms/epoch - 16ms/step\n",
      "Epoch 41/50\n",
      "4/4 - 0s - loss: 0.0083 - val_loss: 0.0566 - 64ms/epoch - 16ms/step\n",
      "Epoch 42/50\n",
      "4/4 - 0s - loss: 0.0080 - val_loss: 0.0567 - 83ms/epoch - 21ms/step\n",
      "Epoch 43/50\n",
      "4/4 - 0s - loss: 0.0076 - val_loss: 0.0564 - 66ms/epoch - 17ms/step\n",
      "Epoch 44/50\n",
      "4/4 - 0s - loss: 0.0073 - val_loss: 0.0568 - 71ms/epoch - 18ms/step\n",
      "Epoch 45/50\n",
      "4/4 - 0s - loss: 0.0071 - val_loss: 0.0570 - 90ms/epoch - 22ms/step\n",
      "Epoch 46/50\n",
      "4/4 - 0s - loss: 0.0068 - val_loss: 0.0573 - 82ms/epoch - 21ms/step\n",
      "Epoch 47/50\n",
      "4/4 - 0s - loss: 0.0067 - val_loss: 0.0575 - 80ms/epoch - 20ms/step\n",
      "Epoch 48/50\n",
      "4/4 - 0s - loss: 0.0064 - val_loss: 0.0568 - 92ms/epoch - 23ms/step\n",
      "Epoch 49/50\n",
      "4/4 - 0s - loss: 0.0064 - val_loss: 0.0577 - 78ms/epoch - 20ms/step\n",
      "Epoch 50/50\n",
      "4/4 - 0s - loss: 0.0057 - val_loss: 0.0581 - 90ms/epoch - 22ms/step\n"
     ]
    },
    {
     "data": {
      "text/plain": [
       "<keras.src.callbacks.History at 0x2e956630b10>"
      ]
     },
     "execution_count": 12,
     "metadata": {},
     "output_type": "execute_result"
    }
   ],
   "source": [
    "model.fit(X_train_scaled, y_train, epochs=50, batch_size=32, verbose=2, validation_split=0.2)"
   ]
  },
  {
   "cell_type": "code",
   "execution_count": 14,
   "id": "d4cface5",
   "metadata": {},
   "outputs": [
    {
     "name": "stdout",
     "output_type": "stream",
     "text": [
      "2/2 [==============================] - 0s 0s/step - loss: 0.0434\n",
      "Loss: 0.043404918164014816\n"
     ]
    }
   ],
   "source": [
    "loss = model.evaluate(X_test_scaled, y_test)\n",
    "print(f'Loss: {loss}')"
   ]
  },
  {
   "cell_type": "code",
   "execution_count": null,
   "id": "eea02f09",
   "metadata": {},
   "outputs": [],
   "source": []
  }
 ],
 "metadata": {
  "kernelspec": {
   "display_name": "Python 3 (ipykernel)",
   "language": "python",
   "name": "python3"
  },
  "language_info": {
   "codemirror_mode": {
    "name": "ipython",
    "version": 3
   },
   "file_extension": ".py",
   "mimetype": "text/x-python",
   "name": "python",
   "nbconvert_exporter": "python",
   "pygments_lexer": "ipython3",
   "version": "3.11.3"
  }
 },
 "nbformat": 4,
 "nbformat_minor": 5
}
