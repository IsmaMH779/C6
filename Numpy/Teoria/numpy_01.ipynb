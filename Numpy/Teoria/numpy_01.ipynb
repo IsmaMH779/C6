{
 "cells": [
  {
   "cell_type": "markdown",
   "metadata": {
    "cell_id": "1ac2a0a2a3f2403fadc0e865b58623fc",
    "deepnote_app_coordinates": {
     "h": 5,
     "w": 24,
     "x": 0,
     "y": null
    },
    "deepnote_cell_height": 432.609375,
    "deepnote_cell_type": "markdown"
   },
   "source": [
    "# Tutorial de NumPy en Español\n"
   ]
  },
  {
   "cell_type": "code",
   "execution_count": 2,
   "metadata": {
    "cell_id": "24dcfb807b3d4d7eb06c206720b3894f",
    "deepnote_app_coordinates": {
     "h": 4,
     "w": 24,
     "x": 0,
     "y": 972
    },
    "deepnote_cell_type": "code",
    "deepnote_to_be_reexecuted": false,
    "execution_millis": 1,
    "execution_start": 1645371697642,
    "source_hash": "c2602aa8",
    "tags": []
   },
   "outputs": [],
   "source": [
    "import numpy as np"
   ]
  },
  {
   "cell_type": "markdown",
   "metadata": {
    "cell_id": "ff160406693a40bda75c1fc25c8aec9a",
    "deepnote_app_coordinates": {
     "h": 5,
     "w": 24,
     "x": 0,
     "y": 24
    },
    "deepnote_cell_height": 581.453125,
    "deepnote_cell_type": "markdown"
   },
   "source": [
    "## Arrays de NumPy \n",
    "\n",
    "- 1D: Vector\n",
    "- 2D: Matriz\n",
    "- 3D+: Tensor\n",
    "\n",
    "<img src=\"nd_array.png\" />\n"
   ]
  },
  {
   "cell_type": "code",
   "execution_count": 3,
   "metadata": {
    "cell_id": "2cf0757fe5ec465bb927eee33894f587",
    "deepnote_app_coordinates": {
     "h": 7,
     "w": 24,
     "x": 0,
     "y": 977
    },
    "deepnote_cell_type": "code",
    "deepnote_to_be_reexecuted": false,
    "execution_millis": 303,
    "execution_start": 1645371697686,
    "source_hash": "6e8a7dbb",
    "tags": []
   },
   "outputs": [
    {
     "data": {
      "text/plain": [
       "array([0, 1, 2, 3, 4])"
      ]
     },
     "execution_count": 3,
     "metadata": {},
     "output_type": "execute_result"
    }
   ],
   "source": [
    "import numpy as np\n",
    "\n",
    "vector = np.arange(5)\n",
    "vector"
   ]
  },
  {
   "cell_type": "code",
   "execution_count": 4,
   "metadata": {
    "cell_id": "38259b15154b474ea990cea3d249117c",
    "deepnote_app_coordinates": {
     "h": 7,
     "w": 24,
     "x": 0,
     "y": 985
    },
    "deepnote_cell_type": "code",
    "deepnote_to_be_reexecuted": false,
    "execution_millis": 259,
    "execution_start": 1645371697731,
    "source_hash": "40639ca2",
    "tags": []
   },
   "outputs": [
    {
     "data": {
      "text/plain": [
       "array([[0, 1, 2],\n",
       "       [3, 4, 5],\n",
       "       [6, 7, 8]])"
      ]
     },
     "execution_count": 4,
     "metadata": {},
     "output_type": "execute_result"
    }
   ],
   "source": [
    "matrix = np.arange(9).reshape(3, 3)\n",
    "matrix"
   ]
  },
  {
   "cell_type": "code",
   "execution_count": 5,
   "metadata": {
    "cell_id": "cc7e1d433b904491a8a418cffbc729c3",
    "deepnote_app_coordinates": {
     "h": 11,
     "w": 24,
     "x": 0,
     "y": 993
    },
    "deepnote_cell_type": "code",
    "deepnote_to_be_reexecuted": false,
    "execution_millis": 258,
    "execution_start": 1645371697732,
    "source_hash": "c8303b2c",
    "tags": []
   },
   "outputs": [
    {
     "data": {
      "text/plain": [
       "array([[[ 0,  1],\n",
       "        [ 2,  3]],\n",
       "\n",
       "       [[ 4,  5],\n",
       "        [ 6,  7]],\n",
       "\n",
       "       [[ 8,  9],\n",
       "        [10, 11]]])"
      ]
     },
     "execution_count": 5,
     "metadata": {},
     "output_type": "execute_result"
    }
   ],
   "source": [
    "tensor = np.arange(12).reshape(3, 2, 2)\n",
    "tensor"
   ]
  },
  {
   "cell_type": "markdown",
   "metadata": {
    "cell_id": "a4314d54027e4783922081b5b47bf679",
    "deepnote_app_coordinates": {
     "h": 5,
     "w": 24,
     "x": 0,
     "y": 30
    },
    "deepnote_cell_height": 450.96875,
    "deepnote_cell_type": "markdown"
   },
   "source": [
    "### Propiedades de los arrays\n",
    "\n",
    "- Deben tener un único tipo de dato\n",
    "- Siempre del mismo tamaño \"rectangular\"\n",
    " \n",
    "#### Correcto ✅\n",
    " \n",
    "```text\n",
    " [0 0 0]  \n",
    " [0 0 0]  \n",
    " [0 0 0]\n",
    "```\n",
    "**Tamaño**: (3, 3); **tipo**: enteros\n",
    " \n",
    "#### Incorrecto ❌   \n",
    " \n",
    "```text\n",
    " [1.7 2.5 5]  \n",
    " [0.0 '3.5']  \n",
    " [7.3 2.3 4 1.1]  \n",
    "```\n",
    "**Tamaño**: (???), **tipo**: float, int & str (?)"
   ]
  },
  {
   "cell_type": "markdown",
   "metadata": {
    "cell_id": "2e33fb194a8e425d9ad06affeed5b681",
    "deepnote_app_coordinates": {
     "h": 5,
     "w": 24,
     "x": 0,
     "y": 60
    },
    "deepnote_cell_height": 130.78125,
    "deepnote_cell_type": "markdown"
   },
   "source": [
    "## ¿Cómo crear un array en NumPy?\n",
    "\n",
    "La forma más directa de crearlo es con `np.array(tu_lista)`. Y al igual que las listas, puedes acceder a sus valores por medio de sus índices."
   ]
  },
  {
   "cell_type": "code",
   "execution_count": 6,
   "metadata": {
    "cell_id": "432d54713ab74828bef91cca18b0e401",
    "deepnote_app_coordinates": {
     "h": 5,
     "w": 24,
     "x": 0,
     "y": 66
    },
    "deepnote_cell_type": "code",
    "deepnote_to_be_reexecuted": false,
    "execution_millis": 215,
    "execution_start": 1645371697776,
    "source_hash": "e6a73769"
   },
   "outputs": [
    {
     "name": "stdout",
     "output_type": "stream",
     "text": [
      "[ 2  5  6 23]\n"
     ]
    }
   ],
   "source": [
    "my_first_vector = np.array([2, 5, 6, 23])\n",
    "print(my_first_vector)"
   ]
  },
  {
   "cell_type": "code",
   "execution_count": 7,
   "metadata": {
    "cell_id": "a53b1f4616cf4c4d857bccad07cfd9c9",
    "deepnote_app_coordinates": {
     "h": 6,
     "w": 24,
     "x": 0,
     "y": 1005
    },
    "deepnote_cell_type": "code",
    "deepnote_to_be_reexecuted": false,
    "execution_millis": 252212195,
    "execution_start": 1645371697816,
    "source_hash": "47171d2c",
    "tags": []
   },
   "outputs": [
    {
     "name": "stdout",
     "output_type": "stream",
     "text": [
      "[[2 4]\n",
      " [6 8]]\n"
     ]
    }
   ],
   "source": [
    "my_first_matrix = np.array([[2, 4,], [6, 8]])\n",
    "print(my_first_matrix)"
   ]
  },
  {
   "cell_type": "code",
   "execution_count": 8,
   "metadata": {
    "cell_id": "9636e433557542d8a10f12ba6e61fae9",
    "deepnote_app_coordinates": {
     "h": 6,
     "w": 24,
     "x": 0,
     "y": 1012
    },
    "deepnote_cell_type": "code",
    "deepnote_to_be_reexecuted": false,
    "execution_millis": 95,
    "execution_start": 1645371697897,
    "source_hash": "e14d7c0e",
    "tags": []
   },
   "outputs": [
    {
     "name": "stdout",
     "output_type": "stream",
     "text": [
      "[0 1 2 3 4]\n"
     ]
    }
   ],
   "source": [
    "my_list = [0, 1, 2, 3, 4]\n",
    "print(np.array(my_list))"
   ]
  },
  {
   "cell_type": "markdown",
   "metadata": {
    "cell_id": "c30d013fef4542fb8ae1ab4688250a63",
    "deepnote_app_coordinates": {
     "h": 5,
     "w": 24,
     "x": 0,
     "y": 390
    },
    "deepnote_cell_height": 100.390625,
    "deepnote_cell_type": "markdown"
   },
   "source": [
    "### Secuencias  \n",
    "\n",
    "También puedes crear rápidamente un array con secuencias de números:"
   ]
  },
  {
   "cell_type": "markdown",
   "metadata": {
    "cell_id": "52d2fbce84c9453696c2e402190d88d7",
    "deepnote_app_coordinates": {
     "h": 5,
     "w": 24,
     "x": 0,
     "y": 396
    },
    "deepnote_cell_height": 147.90625,
    "deepnote_cell_type": "markdown"
   },
   "source": [
    "#### `np.arange()`  \n",
    "\n",
    "Funciona parecido a `range` en Python, solo que en lugar de regresar un generador, retorna un *ndarray*. Sus argumentos principales son: `start`, `stop` y `step`. Con lo que puedes dar un rango de valores y cada cuánto quieres que aparezcan.\n",
    "\n",
    "Toma en cuenta que `start` es inclusivo y `stop` es exclusivo. Igual que al hacer slicing en una lista."
   ]
  },
  {
   "cell_type": "code",
   "execution_count": 9,
   "metadata": {
    "cell_id": "3c9b654791244817bcb1e60b048d8ddd",
    "deepnote_app_coordinates": {
     "h": 5,
     "w": 24,
     "x": 0,
     "y": 1019
    },
    "deepnote_cell_type": "code",
    "deepnote_to_be_reexecuted": false,
    "execution_millis": 252212295,
    "execution_start": 1645371697995,
    "source_hash": "f707b52d",
    "tags": []
   },
   "outputs": [
    {
     "name": "stdout",
     "output_type": "stream",
     "text": [
      "[2 4 6 8]\n"
     ]
    }
   ],
   "source": [
    "print(np.arange(start=2, stop=10, step=2))"
   ]
  },
  {
   "cell_type": "code",
   "execution_count": 10,
   "metadata": {
    "cell_id": "c707e2d1699d4a6fa980c13511b8125b",
    "deepnote_app_coordinates": {
     "h": 5,
     "w": 24,
     "x": 0,
     "y": 1025
    },
    "deepnote_cell_type": "code",
    "deepnote_to_be_reexecuted": false,
    "execution_millis": 252212310,
    "execution_start": 1645371698014,
    "source_hash": "587e1687",
    "tags": []
   },
   "outputs": [
    {
     "name": "stdout",
     "output_type": "stream",
     "text": [
      "[11  9  7  5  3]\n"
     ]
    }
   ],
   "source": [
    "print(np.arange(11, 1, -2))"
   ]
  },
  {
   "cell_type": "markdown",
   "metadata": {
    "cell_id": "bfc9ed74d4fb44fabdf56b926f15a978",
    "deepnote_app_coordinates": {
     "h": 5,
     "w": 24,
     "x": 0,
     "y": 438
    },
    "deepnote_cell_height": 133.90625,
    "deepnote_cell_type": "markdown"
   },
   "source": [
    "#### `np.linspace()`  \n",
    "\n",
    "Con `np.arange()` puedes decir cada cuánto genere los elementos y con ello te dará un tamaño de array. En cambio con `np.linspace()` puedes decir el tamaño del array y los *steps* se calcularán automáticamente. Y aquí tanto `start` como `stop` son inclusivos."
   ]
  },
  {
   "cell_type": "code",
   "execution_count": 11,
   "metadata": {
    "cell_id": "fe0077a155664a15be171760f68e09f9",
    "deepnote_app_coordinates": {
     "h": 5,
     "w": 24,
     "x": 0,
     "y": 456
    },
    "deepnote_cell_type": "code",
    "deepnote_to_be_reexecuted": false,
    "execution_millis": 252212353,
    "execution_start": 1645371698098,
    "source_hash": "ec07bdd8"
   },
   "outputs": [
    {
     "name": "stdout",
     "output_type": "stream",
     "text": [
      "[11.         11.05882353 11.11764706 11.17647059 11.23529412 11.29411765\n",
      " 11.35294118 11.41176471 11.47058824 11.52941176 11.58823529 11.64705882\n",
      " 11.70588235 11.76470588 11.82352941 11.88235294 11.94117647 12.        ]\n"
     ]
    }
   ],
   "source": [
    "print(np.linspace(start=11, stop=12, num=18))"
   ]
  },
  {
   "cell_type": "code",
   "execution_count": 12,
   "metadata": {
    "cell_id": "9b3ccf581c41441786225ac5ecd56c59",
    "deepnote_app_coordinates": {
     "h": 5,
     "w": 24,
     "x": 0,
     "y": 1031
    },
    "deepnote_cell_type": "code",
    "deepnote_to_be_reexecuted": false,
    "execution_millis": 252212357,
    "execution_start": 1645371698143,
    "source_hash": "ad92ec5a",
    "tags": []
   },
   "outputs": [
    {
     "name": "stdout",
     "output_type": "stream",
     "text": [
      "[0.  0.1 0.2 0.3 0.4 0.5 0.6 0.7 0.8 0.9 1. ]\n"
     ]
    }
   ],
   "source": [
    "print(np.linspace(0, 1, 11))"
   ]
  },
  {
   "cell_type": "markdown",
   "metadata": {
    "cell_id": "40bd8f3c5c8d4826a4e3b6ea965f0917",
    "deepnote_app_coordinates": {
     "h": 5,
     "w": 24,
     "x": 0,
     "y": 222
    },
    "deepnote_cell_height": 100.390625,
    "deepnote_cell_type": "markdown"
   },
   "source": [
    "### Arreglos vacíos y predefinidos\n",
    "\n",
    "Es posible que necesites crear arreglos \"vacíos\" o con valores pre-definidos."
   ]
  },
  {
   "cell_type": "markdown",
   "metadata": {
    "cell_id": "34d0aaada8de452e98386e1aa626870c",
    "deepnote_app_coordinates": {
     "h": 5,
     "w": 24,
     "x": 0,
     "y": 228
    },
    "deepnote_cell_height": 54.71875,
    "deepnote_cell_type": "markdown"
   },
   "source": [
    "#### `np.zeros()` y `np.ones()`"
   ]
  },
  {
   "cell_type": "code",
   "execution_count": 13,
   "metadata": {
    "cell_id": "a2452f608d92457aac3d3639e0d27bd6",
    "deepnote_app_coordinates": {
     "h": 5,
     "w": 24,
     "x": 0,
     "y": 1037
    },
    "deepnote_cell_type": "code",
    "deepnote_to_be_reexecuted": false,
    "execution_millis": 252212318,
    "execution_start": 1645371698188,
    "source_hash": "41078569",
    "tags": []
   },
   "outputs": [
    {
     "name": "stdout",
     "output_type": "stream",
     "text": [
      "[0. 0. 0. 0.]\n"
     ]
    }
   ],
   "source": [
    "print(np.zeros(4))"
   ]
  },
  {
   "cell_type": "code",
   "execution_count": 14,
   "metadata": {
    "cell_id": "25e5f7f9af374f2d968266ccc27dd2c6",
    "deepnote_app_coordinates": {
     "h": 5,
     "w": 24,
     "x": 0,
     "y": 240
    },
    "deepnote_cell_type": "code",
    "deepnote_to_be_reexecuted": false,
    "execution_millis": 252212326,
    "execution_start": 1645371698233,
    "source_hash": "24ab649b"
   },
   "outputs": [
    {
     "name": "stdout",
     "output_type": "stream",
     "text": [
      "[[0. 0.]\n",
      " [0. 0.]]\n"
     ]
    }
   ],
   "source": [
    "print(np.zeros((2, 2)))"
   ]
  },
  {
   "cell_type": "code",
   "execution_count": 15,
   "metadata": {
    "cell_id": "1533a79063da4a67b77482bab740bb5c",
    "deepnote_app_coordinates": {
     "h": 5,
     "w": 24,
     "x": 0,
     "y": 264
    },
    "deepnote_cell_type": "code",
    "deepnote_to_be_reexecuted": false,
    "execution_millis": 252212331,
    "execution_start": 1645371698240,
    "source_hash": "c7297481"
   },
   "outputs": [
    {
     "name": "stdout",
     "output_type": "stream",
     "text": [
      "[1. 1. 1. 1. 1. 1.]\n"
     ]
    }
   ],
   "source": [
    "print(np.ones(6))"
   ]
  },
  {
   "cell_type": "markdown",
   "metadata": {
    "cell_id": "741f8d093fdf4dcf8d218db035888b1e",
    "deepnote_app_coordinates": {
     "h": 5,
     "w": 24,
     "x": 0,
     "y": 270
    },
    "deepnote_cell_height": 111.515625,
    "deepnote_cell_type": "markdown"
   },
   "source": [
    "#### `np.full()`\n",
    "\n",
    "Crea un array con un valor en específico. Tiene 2 argumentos principales: `shape` que tiene que ser pasado como una tupla con las dimensiones y `fill_value` con el valor que queramos."
   ]
  },
  {
   "cell_type": "code",
   "execution_count": 16,
   "metadata": {
    "cell_id": "8b5d11efcc6442ccb24bc76d4de70dc0",
    "deepnote_app_coordinates": {
     "h": 6,
     "w": 24,
     "x": 0,
     "y": 1043
    },
    "deepnote_cell_type": "code",
    "deepnote_to_be_reexecuted": false,
    "execution_millis": 252212332,
    "execution_start": 1645371698307,
    "source_hash": "77590d8e",
    "tags": []
   },
   "outputs": [
    {
     "name": "stdout",
     "output_type": "stream",
     "text": [
      "[[5 5]\n",
      " [5 5]]\n"
     ]
    }
   ],
   "source": [
    "print(np.full(shape=(2, 2), fill_value=5))"
   ]
  },
  {
   "cell_type": "code",
   "execution_count": 17,
   "metadata": {
    "cell_id": "ceed847cfa4746528a025c74f2554342",
    "deepnote_app_coordinates": {
     "h": 5,
     "w": 24,
     "x": 0,
     "y": 276
    },
    "deepnote_cell_type": "code",
    "deepnote_to_be_reexecuted": false,
    "execution_millis": 252212332,
    "execution_start": 1645371698352,
    "source_hash": "b254e7c5"
   },
   "outputs": [
    {
     "name": "stdout",
     "output_type": "stream",
     "text": [
      "[[[0.55 0.55 0.55 0.55]\n",
      "  [0.55 0.55 0.55 0.55]\n",
      "  [0.55 0.55 0.55 0.55]]\n",
      "\n",
      " [[0.55 0.55 0.55 0.55]\n",
      "  [0.55 0.55 0.55 0.55]\n",
      "  [0.55 0.55 0.55 0.55]]]\n"
     ]
    }
   ],
   "source": [
    "print(np.full((2, 3, 4), 0.55))"
   ]
  },
  {
   "cell_type": "markdown",
   "metadata": {
    "cell_id": "c3212e367cb04d61859383dac2b28fc7",
    "deepnote_app_coordinates": {
     "h": 5,
     "w": 24,
     "x": 0,
     "y": 282
    },
    "deepnote_cell_height": 89.125,
    "deepnote_cell_type": "markdown"
   },
   "source": [
    "#### `np.full_like()`\n",
    "\n",
    "Sirve si ya tienes un array y quieres tomarlo como base para crear otro con el mismo tamaño, pero con un mismo valor."
   ]
  },
  {
   "cell_type": "code",
   "execution_count": 18,
   "metadata": {
    "cell_id": "69ea66a28b2444b58d86d331d6ec7f43",
    "deepnote_app_coordinates": {
     "h": 5,
     "w": 24,
     "x": 0,
     "y": 300
    },
    "deepnote_cell_type": "code",
    "deepnote_to_be_reexecuted": false,
    "execution_millis": 252212378,
    "execution_start": 1645371698395,
    "source_hash": "5a73800f"
   },
   "outputs": [
    {
     "name": "stdout",
     "output_type": "stream",
     "text": [
      "[3.14159265 3.14159265 3.14159265 3.14159265]\n"
     ]
    }
   ],
   "source": [
    "base = np.linspace(2, 6, 4)\n",
    "print(np.full_like(base, np.pi))"
   ]
  },
  {
   "cell_type": "markdown",
   "metadata": {
    "cell_id": "5b0e98bb8e6d4b88b3d1f411af71a6b4",
    "deepnote_app_coordinates": {
     "h": 5,
     "w": 24,
     "x": 0,
     "y": 306
    },
    "deepnote_cell_height": 62,
    "deepnote_cell_type": "markdown"
   },
   "source": [
    "### Arreglos aleatorios  "
   ]
  },
  {
   "cell_type": "code",
   "execution_count": 19,
   "metadata": {
    "cell_id": "b6e4d96a2db0431691356880761e72f6",
    "deepnote_app_coordinates": {
     "h": 24,
     "w": 24,
     "x": 0,
     "y": 1050
    },
    "deepnote_cell_type": "code",
    "deepnote_to_be_reexecuted": false,
    "execution_millis": 6886,
    "execution_start": 1645371698400,
    "source_hash": "29c6258c",
    "tags": []
   },
   "outputs": [
    {
     "data": {
      "image/png": "[encoded data removed]",
      "text/plain": [
       "<Figure size 1200x500 with 2 Axes>"
      ]
     },
     "metadata": {},
     "output_type": "display_data"
    }
   ],
   "source": [
    "import matplotlib.pyplot as plt\n",
    "\n",
    "uniform = np.random.uniform(0, 10, 10000)\n",
    "normal = np.random.normal(0, 3, 10000)\n",
    "\n",
    "plt.figure(figsize=(12,5))\n",
    "plt.subplot(1, 2, 1)\n",
    "plt.hist(uniform, bins=50)\n",
    "plt.title('Distribución uniforme')\n",
    "\n",
    "plt.subplot(1, 2, 2)\n",
    "plt.hist(normal, bins=50)\n",
    "plt.title('Distribución normal')\n",
    "\n",
    "plt.show()"
   ]
  },
  {
   "cell_type": "markdown",
   "metadata": {
    "cell_id": "6e5d43e7861942e180d4d989398a98d0",
    "deepnote_app_coordinates": {
     "h": 5,
     "w": 24,
     "x": 0,
     "y": 330
    },
    "deepnote_cell_height": 128.515625,
    "deepnote_cell_type": "markdown"
   },
   "source": [
    "\n",
    "#### `.rand()` y `.uniform()`\n",
    "- `.rand()`: números aleatorios en una distribución uniforme. Permite crear ndarrays.\n",
    "- `.uniform()`: igual que `rand`, pero permite ingresar los límites de la muestra."
   ]
  },
  {
   "cell_type": "code",
   "execution_count": 20,
   "metadata": {
    "cell_id": "d867f3cab1e44e0b8551c9e5d6520db9",
    "deepnote_app_coordinates": {
     "h": 5,
     "w": 24,
     "x": 0,
     "y": 336
    },
    "deepnote_cell_type": "code",
    "deepnote_to_be_reexecuted": false,
    "execution_millis": 375,
    "execution_start": 1645371705026,
    "jupyter": {
     "outputs_hidden": false
    },
    "source_hash": "d1e162c"
   },
   "outputs": [
    {
     "name": "stdout",
     "output_type": "stream",
     "text": [
      "[[0.93239298 0.48988954]\n",
      " [0.55128398 0.51615417]]\n"
     ]
    }
   ],
   "source": [
    "print(np.random.rand(2, 2))"
   ]
  },
  {
   "cell_type": "code",
   "execution_count": 21,
   "metadata": {
    "cell_id": "d2ee696c9c32439ea91de9fda42998b3",
    "deepnote_app_coordinates": {
     "h": 15,
     "w": 24,
     "x": 0,
     "y": 1075
    },
    "deepnote_cell_type": "code",
    "deepnote_to_be_reexecuted": false,
    "execution_millis": 612,
    "execution_start": 1645371705320,
    "source_hash": "e5147ce",
    "tags": []
   },
   "outputs": [
    {
     "data": {
      "image/png": "[encoded data removed]",
      "text/plain": [
       "<Figure size 640x480 with 1 Axes>"
      ]
     },
     "metadata": {},
     "output_type": "display_data"
    }
   ],
   "source": [
    "rand = np.random.rand(10000)\n",
    "plt.hist(rand, bins=50)\n",
    "plt.show()"
   ]
  },
  {
   "cell_type": "code",
   "execution_count": 22,
   "metadata": {
    "cell_id": "ecb6f75ebbe747808cebc7cf1597208e",
    "deepnote_app_coordinates": {
     "h": 5,
     "w": 24,
     "x": 0,
     "y": 1091
    },
    "deepnote_cell_type": "code",
    "deepnote_to_be_reexecuted": false,
    "execution_millis": 0,
    "execution_start": 1645371705946,
    "source_hash": "7bcc422",
    "tags": []
   },
   "outputs": [
    {
     "name": "stdout",
     "output_type": "stream",
     "text": [
      "[0.52008507 0.89710158 0.60984926 0.93547131 0.86055843 0.10449049]\n"
     ]
    }
   ],
   "source": [
    "print(np.random.uniform(low=0, high=1, size=6))"
   ]
  },
  {
   "cell_type": "code",
   "execution_count": 23,
   "metadata": {
    "cell_id": "15a506252cb64f648bc8150e11323e3c",
    "deepnote_app_coordinates": {
     "h": 15,
     "w": 24,
     "x": 0,
     "y": 1097
    },
    "deepnote_cell_type": "code",
    "deepnote_to_be_reexecuted": false,
    "execution_millis": 862,
    "execution_start": 1645371706014,
    "source_hash": "e4a58e85",
    "tags": []
   },
   "outputs": [
    {
     "data": {
      "image/png": "[encoded data removed]",
      "text/plain": [
       "<Figure size 640x480 with 1 Axes>"
      ]
     },
     "metadata": {},
     "output_type": "display_data"
    }
   ],
   "source": [
    "uniform = np.random.uniform(low=0, high=1, size=10000)\n",
    "plt.hist(uniform, bins=50)\n",
    "plt.show()"
   ]
  },
  {
   "cell_type": "markdown",
   "metadata": {
    "cell_id": "6a59fba1039644749b234b13c7a06e72",
    "deepnote_app_coordinates": {
     "h": 5,
     "w": 24,
     "x": 0,
     "y": 348
    },
    "deepnote_cell_height": 128.515625,
    "deepnote_cell_type": "markdown"
   },
   "source": [
    "#### `.randn()` y `.normal()`\n",
    "\n",
    "- `.randn()`: números aleatorios en una distribución \"normal estándar\". Permite crear ndarrays.\n",
    "- `.normal()`: igual que `randn`, pero permite escalar los límites de la muestra."
   ]
  },
  {
   "cell_type": "code",
   "execution_count": 24,
   "metadata": {
    "cell_id": "0e2c44a46ed44fb5b9e6d5d4575d255b",
    "deepnote_app_coordinates": {
     "h": 5,
     "w": 24,
     "x": 0,
     "y": 354
    },
    "deepnote_cell_type": "code",
    "deepnote_to_be_reexecuted": false,
    "execution_millis": 53,
    "execution_start": 1645371706887,
    "jupyter": {
     "outputs_hidden": false
    },
    "source_hash": "85b7c90"
   },
   "outputs": [
    {
     "name": "stdout",
     "output_type": "stream",
     "text": [
      "[[-1.28082068 -0.75980969]\n",
      " [-1.36551279 -1.07402813]]\n"
     ]
    }
   ],
   "source": [
    "print(np.random.randn(2, 2))"
   ]
  },
  {
   "cell_type": "code",
   "execution_count": 25,
   "metadata": {
    "cell_id": "379b3b2d89264cc2990de0bb2c111ae0",
    "deepnote_app_coordinates": {
     "h": 15,
     "w": 24,
     "x": 0,
     "y": 1113
    },
    "deepnote_cell_type": "code",
    "deepnote_to_be_reexecuted": false,
    "execution_millis": 990,
    "execution_start": 1645371706939,
    "source_hash": "6d13b254",
    "tags": []
   },
   "outputs": [
    {
     "data": {
      "image/png": "[encoded data removed]",
      "text/plain": [
       "<Figure size 640x480 with 1 Axes>"
      ]
     },
     "metadata": {},
     "output_type": "display_data"
    }
   ],
   "source": [
    "normal = np.random.randn(10000)\n",
    "plt.hist(normal, bins=50)\n",
    "plt.show()"
   ]
  },
  {
   "cell_type": "code",
   "execution_count": 26,
   "metadata": {
    "cell_id": "448915b65740468390bda2df82e5616b",
    "deepnote_app_coordinates": {
     "h": 6,
     "w": 24,
     "x": 0,
     "y": 1129
    },
    "deepnote_cell_type": "code",
    "deepnote_to_be_reexecuted": false,
    "execution_millis": 44,
    "execution_start": 1645371707939,
    "source_hash": "ecadf9ab",
    "tags": []
   },
   "outputs": [
    {
     "name": "stdout",
     "output_type": "stream",
     "text": [
      "[-1.10006786 -0.66160886  2.64959316 -1.08574995 -2.29218907 -1.72372396]\n"
     ]
    }
   ],
   "source": [
    "print(np.random.normal(loc=0, scale=2, size=6))"
   ]
  },
  {
   "cell_type": "code",
   "execution_count": 27,
   "metadata": {
    "cell_id": "7efffcb00d3b460592eb5aa2e61b4dca",
    "deepnote_app_coordinates": {
     "h": 15,
     "w": 24,
     "x": 0,
     "y": 1136
    },
    "deepnote_cell_type": "code",
    "deepnote_to_be_reexecuted": false,
    "execution_millis": 835,
    "execution_start": 1645371707998,
    "source_hash": "8d9a8c3c",
    "tags": []
   },
   "outputs": [
    {
     "data": {
      "image/png": "[encoded data removed]",
      "text/plain": [
       "<Figure size 640x480 with 1 Axes>"
      ]
     },
     "metadata": {},
     "output_type": "display_data"
    }
   ],
   "source": [
    "normal2 = np.random.normal(0, 1, 10000)\n",
    "plt.hist(normal2, bins=50)\n",
    "plt.show()"
   ]
  },
  {
   "cell_type": "markdown",
   "metadata": {
    "cell_id": "b1d7991262e841df826c2395ec6d9c06",
    "deepnote_app_coordinates": {
     "h": 5,
     "w": 24,
     "x": 0,
     "y": 366
    },
    "deepnote_cell_height": 89.125,
    "deepnote_cell_type": "markdown"
   },
   "source": [
    "#### `.randint()`\n",
    "\n",
    "Números enteros aleatorios entre un rango dado."
   ]
  },
  {
   "cell_type": "code",
   "execution_count": 28,
   "metadata": {
    "cell_id": "cda8868c58364ed2bbe7578e0a3e1179",
    "deepnote_app_coordinates": {
     "h": 5,
     "w": 24,
     "x": 0,
     "y": 312
    },
    "deepnote_cell_type": "code",
    "deepnote_to_be_reexecuted": false,
    "execution_millis": 30,
    "execution_start": 1645371708841,
    "source_hash": "36dc1193"
   },
   "outputs": [
    {
     "name": "stdout",
     "output_type": "stream",
     "text": [
      "[[1 5 9]\n",
      " [5 7 8]\n",
      " [8 8 5]]\n"
     ]
    }
   ],
   "source": [
    "print(np.random.randint(low=0, high=10, size=(3, 3)))"
   ]
  },
  {
   "cell_type": "code",
   "execution_count": 29,
   "metadata": {
    "cell_id": "d0cb7d4597eb42eaabacbbcbdb83f9ac",
    "deepnote_app_coordinates": {
     "h": 5,
     "w": 24,
     "x": 0,
     "y": 384
    },
    "deepnote_cell_type": "code",
    "deepnote_to_be_reexecuted": false,
    "execution_millis": 28,
    "execution_start": 1645371708885,
    "source_hash": "bec6b398"
   },
   "outputs": [
    {
     "name": "stdout",
     "output_type": "stream",
     "text": [
      "[28 99 22 60 47 36 75 78 90 63]\n"
     ]
    }
   ],
   "source": [
    "print(np.random.randint(1,100,10))"
   ]
  },
  {
   "cell_type": "markdown",
   "metadata": {
    "cell_id": "3b87ed4c7abe4c448d8a9924e650ac8f",
    "deepnote_app_coordinates": {
     "h": 3,
     "w": 24,
     "x": 0,
     "y": 1152
    },
    "deepnote_cell_height": 70,
    "deepnote_cell_type": "markdown",
    "tags": []
   },
   "source": [
    "## Tamaño de los arrays"
   ]
  },
  {
   "cell_type": "markdown",
   "metadata": {
    "cell_id": "587cc212afa24d12b5ae2527db83da0e",
    "deepnote_app_coordinates": {
     "h": 5,
     "w": 24,
     "x": 0,
     "y": 498
    },
    "deepnote_cell_height": 111.515625,
    "deepnote_cell_type": "markdown"
   },
   "source": [
    "#### `.reshape()`\n",
    "\n",
    "Redimensiona un array, es decir, te permite crear matrices o tensores a partir de vectores y viceversa.\n",
    "Para un array de 2 dimensiones, el primer valor son las filas y el segundo las columnas."
   ]
  },
  {
   "cell_type": "code",
   "execution_count": 30,
   "metadata": {
    "cell_id": "5b57ee0c91b44fbdab5d9cbd10018a88",
    "deepnote_app_coordinates": {
     "h": 5,
     "w": 24,
     "x": 0,
     "y": 510
    },
    "deepnote_cell_type": "code",
    "deepnote_to_be_reexecuted": false,
    "execution_millis": 6,
    "execution_start": 1645371708934,
    "source_hash": "2c6e510b"
   },
   "outputs": [
    {
     "name": "stdout",
     "output_type": "stream",
     "text": [
      "[[1 2 3]\n",
      " [4 5 6]\n",
      " [7 8 9]]\n"
     ]
    }
   ],
   "source": [
    "a = np.arange(1,10)\n",
    "B = np.reshape(a, [3,3])\n",
    "print(B)"
   ]
  },
  {
   "cell_type": "markdown",
   "metadata": {
    "cell_id": "230a570204ba48f18df49a518ea4c83b",
    "deepnote_app_coordinates": {
     "h": 3,
     "w": 24,
     "x": 0,
     "y": 1156
    },
    "deepnote_cell_height": 52.390625,
    "deepnote_cell_type": "markdown",
    "tags": []
   },
   "source": [
    "También se lo puede usar como método:"
   ]
  },
  {
   "cell_type": "code",
   "execution_count": 31,
   "metadata": {
    "cell_id": "54f69aeff8fe4dd99fc23d88c0e5108f",
    "deepnote_app_coordinates": {
     "h": 5,
     "w": 24,
     "x": 0,
     "y": 516
    },
    "deepnote_cell_type": "code",
    "deepnote_to_be_reexecuted": false,
    "execution_millis": 252217204,
    "execution_start": 1645371709010,
    "source_hash": "59c5717f"
   },
   "outputs": [
    {
     "name": "stdout",
     "output_type": "stream",
     "text": [
      "[[[1 2]\n",
      "  [3 4]]\n",
      "\n",
      " [[5 6]\n",
      "  [7 8]]]\n"
     ]
    }
   ],
   "source": [
    "C = np.arange(1, 9).reshape(2, 2, 2)\n",
    "print(C)"
   ]
  },
  {
   "cell_type": "markdown",
   "metadata": {
    "cell_id": "a79faa25aa904c249c9868908b67cfbb",
    "deepnote_app_coordinates": {
     "h": 4,
     "w": 24,
     "x": 0,
     "y": 1160
    },
    "deepnote_cell_height": 89.125,
    "deepnote_cell_type": "markdown",
    "tags": []
   },
   "source": [
    "#### `.shape`\n",
    "\n",
    "Devuelve las dimensiones del array."
   ]
  },
  {
   "cell_type": "code",
   "execution_count": 32,
   "metadata": {
    "cell_id": "7b834a5ef7cf4f63af5b389f8705b5e8",
    "deepnote_app_coordinates": {
     "h": 5,
     "w": 24,
     "x": 0,
     "y": 1165
    },
    "deepnote_cell_type": "code",
    "deepnote_to_be_reexecuted": false,
    "execution_millis": 252217211,
    "execution_start": 1645371709063,
    "source_hash": "2f391f65",
    "tags": []
   },
   "outputs": [
    {
     "name": "stdout",
     "output_type": "stream",
     "text": [
      "(3, 3)\n"
     ]
    }
   ],
   "source": [
    "print(B.shape)"
   ]
  },
  {
   "cell_type": "markdown",
   "metadata": {
    "cell_id": "70ae295517b04e1db85cc65fa5f82eb2",
    "deepnote_app_coordinates": {
     "h": 5,
     "w": 24,
     "x": 0,
     "y": 528
    },
    "deepnote_cell_height": 70,
    "deepnote_cell_type": "markdown"
   },
   "source": [
    "<img src=\"elsp_0105.png\" width=\"500px\">"
   ]
  },
  {
   "cell_type": "markdown",
   "metadata": {
    "cell_id": "4254d1cbc44e498088951f14b8cf7af0",
    "deepnote_app_coordinates": {
     "h": 4,
     "w": 24,
     "x": 0,
     "y": 1171
    },
    "deepnote_cell_height": 89.125,
    "deepnote_cell_type": "markdown",
    "tags": []
   },
   "source": [
    "#### `.dtype`\n",
    "\n",
    "Devuelve el tipo de dato de un array."
   ]
  },
  {
   "cell_type": "code",
   "execution_count": 33,
   "metadata": {
    "cell_id": "befaab0eaef44f19b5546c15357e2e77",
    "deepnote_app_coordinates": {
     "h": 5,
     "w": 24,
     "x": 0,
     "y": 1176
    },
    "deepnote_cell_type": "code",
    "deepnote_to_be_reexecuted": false,
    "execution_millis": 252217198,
    "execution_start": 1645371709151,
    "source_hash": "94c74897",
    "tags": []
   },
   "outputs": [
    {
     "name": "stdout",
     "output_type": "stream",
     "text": [
      "int32\n"
     ]
    }
   ],
   "source": [
    "print(B.dtype)"
   ]
  },
  {
   "cell_type": "markdown",
   "metadata": {
    "cell_id": "fd03823bad9e4645935a5f7df9c3f43b",
    "deepnote_app_coordinates": {
     "h": 5,
     "w": 24,
     "x": 0,
     "y": 522
    },
    "deepnote_cell_height": 108.390625,
    "deepnote_cell_type": "markdown"
   },
   "source": [
    "## Manipulando arrays \n",
    "\n",
    "De manera muy parecida a las listas, los ndarrays permiten hacer slicing con `[]`. Sus índices empiezan en `0`."
   ]
  },
  {
   "cell_type": "code",
   "execution_count": 41,
   "metadata": {
    "cell_id": "01e537756ee64d8a90f5b26bc40bf075",
    "deepnote_app_coordinates": {
     "h": 5,
     "w": 24,
     "x": 0,
     "y": 534
    },
    "deepnote_cell_type": "code",
    "deepnote_to_be_reexecuted": false,
    "execution_millis": 252217180,
    "execution_start": 1645371709199,
    "source_hash": "516459b8"
   },
   "outputs": [
    {
     "name": "stdout",
     "output_type": "stream",
     "text": [
      "[[0 1 2]\n",
      " [3 4 5]\n",
      " [6 7 8]]\n"
     ]
    }
   ],
   "source": [
    "matrix_cool = np.arange(9).reshape(3, 3)\n",
    "print(matrix_cool)"
   ]
  },
  {
   "cell_type": "code",
   "execution_count": 42,
   "metadata": {
    "cell_id": "638295a00b2848e6a7b6a77407e3559a",
    "deepnote_app_coordinates": {
     "h": 5,
     "w": 24,
     "x": 0,
     "y": 552
    },
    "deepnote_cell_type": "code",
    "deepnote_to_be_reexecuted": false,
    "execution_millis": 252217193,
    "execution_start": 1645371709200,
    "source_hash": "90e10c47"
   },
   "outputs": [
    {
     "name": "stdout",
     "output_type": "stream",
     "text": [
      "5\n"
     ]
    }
   ],
   "source": [
    "print(matrix_cool[1, 2])"
   ]
  },
  {
   "cell_type": "code",
   "execution_count": 43,
   "metadata": {
    "allow_embed": false,
    "cell_id": "15e9a5d4bccb4083b08bb382722357c4",
    "deepnote_app_coordinates": {
     "h": 5,
     "w": 24,
     "x": 0,
     "y": 552
    },
    "deepnote_cell_type": "code",
    "deepnote_to_be_reexecuted": false,
    "execution_millis": 252217179,
    "execution_start": 1645371709243,
    "source_hash": "2b0e4ad6"
   },
   "outputs": [
    {
     "name": "stdout",
     "output_type": "stream",
     "text": [
      "[0 1 2]\n"
     ]
    }
   ],
   "source": [
    "print(matrix_cool[0, :])"
   ]
  },
  {
   "cell_type": "code",
   "execution_count": 48,
   "metadata": {
    "allow_embed": false,
    "cell_id": "2206b3bf1f904e5d9fd2367a1ff7bf75",
    "deepnote_app_coordinates": {
     "h": 5,
     "w": 24,
     "x": 0,
     "y": 552
    },
    "deepnote_cell_type": "code",
    "deepnote_to_be_reexecuted": false,
    "execution_millis": 252217191,
    "execution_start": 1645371709250,
    "source_hash": "a06e7840"
   },
   "outputs": [
    {
     "name": "stdout",
     "output_type": "stream",
     "text": [
      "[1 4 7]\n"
     ]
    }
   ],
   "source": [
    "print(matrix_cool[:, 1])"
   ]
  },
  {
   "cell_type": "code",
   "execution_count": 49,
   "metadata": {
    "allow_embed": false,
    "cell_id": "8e8f0bac27ae44cfb66d9abb4f2c1163",
    "deepnote_app_coordinates": {
     "h": 5,
     "w": 24,
     "x": 0,
     "y": 552
    },
    "deepnote_cell_type": "code",
    "deepnote_to_be_reexecuted": false,
    "execution_millis": 252217231,
    "execution_start": 1645371709319,
    "source_hash": "cde65692"
   },
   "outputs": [
    {
     "name": "stdout",
     "output_type": "stream",
     "text": [
      "[[1 2]\n",
      " [4 5]\n",
      " [7 8]]\n"
     ]
    }
   ],
   "source": [
    "print(matrix_cool[:, 1:])"
   ]
  },
  {
   "cell_type": "code",
   "execution_count": 50,
   "metadata": {
    "allow_embed": false,
    "cell_id": "3dd6e6aababd4eb2b99c1083ad126412",
    "deepnote_app_coordinates": {
     "h": 5,
     "w": 24,
     "x": 0,
     "y": 552
    },
    "deepnote_cell_type": "code",
    "deepnote_to_be_reexecuted": false,
    "execution_millis": 13,
    "execution_start": 1645371709362,
    "source_hash": "1e6813a1"
   },
   "outputs": [
    {
     "name": "stdout",
     "output_type": "stream",
     "text": [
      "[[0 1]\n",
      " [3 4]]\n"
     ]
    }
   ],
   "source": [
    "print(matrix_cool[0:2, 0:2])"
   ]
  },
  {
   "cell_type": "code",
   "execution_count": 51,
   "metadata": {
    "cell_id": "a89e22ac58a543cfb0bc921b82c26102",
    "deepnote_app_coordinates": {
     "h": 5,
     "w": 24,
     "x": 0,
     "y": 564
    },
    "deepnote_cell_type": "code",
    "deepnote_to_be_reexecuted": false,
    "execution_millis": 20,
    "execution_start": 1645371709388,
    "source_hash": "240ad78f"
   },
   "outputs": [
    {
     "name": "stdout",
     "output_type": "stream",
     "text": [
      "[[0 1 2]\n",
      " [3 4 5]\n",
      " [6 7 8]]\n"
     ]
    }
   ],
   "source": [
    "print(matrix_cool[:, :])"
   ]
  },
  {
   "cell_type": "markdown",
   "metadata": {
    "cell_id": "c9e4372f6b0649a8b6d74ff5e996d1f3",
    "deepnote_app_coordinates": {
     "h": 5,
     "w": 24,
     "x": 0,
     "y": 1182
    },
    "deepnote_cell_height": 144.78125,
    "deepnote_cell_type": "markdown",
    "tags": []
   },
   "source": [
    "## Copiar un array de NumPy\n",
    "\n",
    "Debes usar `array1.copy()` o nuevamente `np.array(array1)`\n",
    "\n",
    "❌ Incorrecto"
   ]
  },
  {
   "cell_type": "code",
   "execution_count": 52,
   "metadata": {
    "cell_id": "3b98d7a746414e27bef98e8624d3fa97",
    "deepnote_app_coordinates": {
     "h": 8,
     "w": 24,
     "x": 0,
     "y": 1188
    },
    "deepnote_cell_type": "code",
    "deepnote_to_be_reexecuted": false,
    "execution_millis": 16,
    "execution_start": 1645371709429,
    "source_hash": "c8be2a74",
    "tags": []
   },
   "outputs": [
    {
     "name": "stdout",
     "output_type": "stream",
     "text": [
      "[8 4 6]\n",
      "[8 4 6]\n"
     ]
    }
   ],
   "source": [
    "a1 = np.array([2, 4, 6])\n",
    "a2 = a1\n",
    "a1[0] = 8\n",
    "print(a1)\n",
    "print(a2)"
   ]
  },
  {
   "cell_type": "markdown",
   "metadata": {
    "cell_id": "e8062340573a467387afa6fc8709558d",
    "deepnote_app_coordinates": {
     "h": 3,
     "w": 24,
     "x": 0,
     "y": 1206
    },
    "deepnote_cell_height": 52.390625,
    "deepnote_cell_type": "markdown",
    "tags": []
   },
   "source": [
    "✅ Correcto"
   ]
  },
  {
   "cell_type": "code",
   "execution_count": null,
   "metadata": {
    "cell_id": "f5ea5aea2e05437e8c3f7a7a9d29b0f6",
    "deepnote_app_coordinates": {
     "h": 8,
     "w": 24,
     "x": 0,
     "y": 1197
    },
    "deepnote_cell_type": "code",
    "deepnote_to_be_reexecuted": false,
    "execution_millis": 252217481,
    "execution_start": 1645371709515,
    "source_hash": "658b4943",
    "tags": []
   },
   "outputs": [
    {
     "name": "stdout",
     "output_type": "stream",
     "text": [
      "[8 4 6]\n",
      "[2 4 6]\n"
     ]
    }
   ],
   "source": [
    "a1 = np.array([2, 4, 6])\n",
    "a2 = a1.copy()\n",
    "a1[0] = 8\n",
    "print(a1)\n",
    "print(a2)"
   ]
  },
  {
   "cell_type": "markdown",
   "metadata": {
    "cell_id": "aaeb35ffbeb444d5935e40a8aa016aca",
    "deepnote_app_coordinates": {
     "h": 5,
     "w": 24,
     "x": 0,
     "y": 672
    },
    "deepnote_cell_height": 118,
    "deepnote_cell_type": "markdown"
   },
   "source": [
    "## Funciones matemáticas\n",
    "\n",
    "### Operaciones básicas"
   ]
  },
  {
   "cell_type": "code",
   "execution_count": null,
   "metadata": {
    "cell_id": "344e5d5708054f4a8ca84512eec882ec",
    "deepnote_app_coordinates": {
     "h": 5,
     "w": 24,
     "x": 0,
     "y": 678
    },
    "deepnote_cell_type": "code",
    "deepnote_to_be_reexecuted": false,
    "execution_millis": 252217481,
    "execution_start": 1645371709559,
    "source_hash": "93967166"
   },
   "outputs": [
    {
     "name": "stdout",
     "output_type": "stream",
     "text": [
      "[ 5  6  7  8  9 10]\n",
      "[15 16 17 18 19 20]\n"
     ]
    }
   ],
   "source": [
    "# Suma\n",
    "A = np.arange(5, 11)\n",
    "print(A)\n",
    "print(A + 10)"
   ]
  },
  {
   "cell_type": "code",
   "execution_count": null,
   "metadata": {
    "cell_id": "b0eba815660d4786ba5ccf050cd78ff8",
    "deepnote_app_coordinates": {
     "h": 10,
     "w": 24,
     "x": 0,
     "y": 1210
    },
    "deepnote_cell_type": "code",
    "deepnote_to_be_reexecuted": false,
    "execution_millis": 252217514,
    "execution_start": 1645371709603,
    "source_hash": "43cf0232",
    "tags": []
   },
   "outputs": [
    {
     "name": "stdout",
     "output_type": "stream",
     "text": [
      "[3 3 3 3]\n",
      "[1 1 1 1]\n",
      "[2 2 2 2]\n"
     ]
    }
   ],
   "source": [
    "# Resta\n",
    "B = np.full(4, 3)\n",
    "C = np.ones(4, dtype='int')\n",
    "print(B)\n",
    "print(C)\n",
    "print(B - C)"
   ]
  },
  {
   "cell_type": "code",
   "execution_count": null,
   "metadata": {
    "cell_id": "5d05368b1f404506a13190a3afa90572",
    "deepnote_app_coordinates": {
     "h": 5,
     "w": 24,
     "x": 0,
     "y": 684
    },
    "deepnote_cell_type": "code",
    "deepnote_to_be_reexecuted": false,
    "execution_millis": 252217457,
    "execution_start": 1645371709624,
    "source_hash": "9802158b"
   },
   "outputs": [
    {
     "name": "stdout",
     "output_type": "stream",
     "text": [
      "[ 50  60  70  80  90 100]\n",
      "[0.5 0.6 0.7 0.8 0.9 1. ]\n"
     ]
    }
   ],
   "source": [
    "# Multiplicación y división\n",
    "print(A * 10)\n",
    "print(A / 10)"
   ]
  },
  {
   "cell_type": "markdown",
   "metadata": {
    "cell_id": "113eaed074df4d41a9067e3cb96b2330",
    "deepnote_app_coordinates": {
     "h": 5,
     "w": 24,
     "x": 0,
     "y": 864
    },
    "deepnote_cell_height": 62,
    "deepnote_cell_type": "markdown"
   },
   "source": [
    "### Estadística "
   ]
  },
  {
   "cell_type": "code",
   "execution_count": null,
   "metadata": {
    "cell_id": "b4067b7c102f471ab047e6d481aaaaf7",
    "deepnote_app_coordinates": {
     "h": 5,
     "w": 24,
     "x": 0,
     "y": 870
    },
    "deepnote_cell_type": "code",
    "deepnote_to_be_reexecuted": false,
    "execution_millis": 252217501,
    "execution_start": 1645371709702,
    "source_hash": "18aa9d61"
   },
   "outputs": [
    {
     "name": "stdout",
     "output_type": "stream",
     "text": [
      "73.1923076923077\n",
      "73.0\n",
      "2.572326554954764\n"
     ]
    }
   ],
   "source": [
    "height_list = [74, 74, 72, 72, 73, 69, 69, 71, 76, 71, 73, 73, 74, 74, 69, 70, 73, 75, 78, 79, 76, 74, 76, 72, 71, 75]\n",
    "print(np.mean(height_list))\n",
    "print(np.median(height_list))\n",
    "print(np.std(height_list))"
   ]
  },
  {
   "cell_type": "markdown",
   "metadata": {
    "cell_id": "eb3efd7c3bba47d28636db4a6627e6c2",
    "deepnote_app_coordinates": {
     "h": 5,
     "w": 24,
     "x": 0,
     "y": 876
    },
    "deepnote_cell_height": 54,
    "deepnote_cell_type": "markdown"
   },
   "source": [
    "#### Mínimos y máximos"
   ]
  },
  {
   "cell_type": "code",
   "execution_count": null,
   "metadata": {
    "cell_id": "1af51a4a1d6f4a46a83492cfa171db7b",
    "deepnote_app_coordinates": {
     "h": 5,
     "w": 24,
     "x": 0,
     "y": 882
    },
    "deepnote_cell_type": "code",
    "deepnote_to_be_reexecuted": false,
    "execution_millis": 252217457,
    "execution_start": 1645371709750,
    "source_hash": "37264390"
   },
   "outputs": [
    {
     "name": "stdout",
     "output_type": "stream",
     "text": [
      "79\n",
      "69\n"
     ]
    }
   ],
   "source": [
    "print(np.max(height_list))\n",
    "print(np.min(height_list))"
   ]
  },
  {
   "cell_type": "markdown",
   "metadata": {
    "cell_id": "15767a6840d4414f9143798ea55a851e",
    "deepnote_app_coordinates": {
     "h": 3,
     "w": 24,
     "x": 0,
     "y": 1221
    },
    "deepnote_cell_height": 82,
    "deepnote_cell_type": "markdown",
    "tags": []
   },
   "source": [
    "# Ejercicios"
   ]
  },
  {
   "cell_type": "markdown",
   "metadata": {
    "cell_id": "6dfd302cb7304c03a741ab966de96074",
    "deepnote_app_coordinates": {
     "h": 3,
     "w": 24,
     "x": 0,
     "y": 1225
    },
    "deepnote_cell_height": 62,
    "deepnote_cell_type": "markdown",
    "tags": []
   },
   "source": [
    "### Base de datos"
   ]
  },
  {
   "cell_type": "code",
   "execution_count": 56,
   "metadata": {
    "cell_id": "16777a20266d49ca9809248aa051cffe",
    "deepnote_app_coordinates": {
     "h": 6,
     "w": 24,
     "x": 0,
     "y": 1229
    },
    "deepnote_cell_type": "code",
    "deepnote_to_be_reexecuted": false,
    "execution_millis": 252217554,
    "execution_start": 1645371709815,
    "source_hash": "ba9a3bad",
    "tags": []
   },
   "outputs": [],
   "source": [
    "import pandas as pd\n",
    "\n",
    "df = pd.read_csv('Baseball_Players.csv')\n",
    "height = df['Height(inches)'].to_numpy(dtype='int64')\n",
    "weight = df['Weight(pounds)'].to_numpy(dtype='int64')"
   ]
  },
  {
   "cell_type": "code",
   "execution_count": 57,
   "metadata": {
    "cell_id": "fd6f1b149e6647f0b65c35cea60280a5",
    "deepnote_app_coordinates": {
     "h": 7,
     "w": 24,
     "x": 0,
     "y": 1236
    },
    "deepnote_cell_type": "code",
    "deepnote_to_be_reexecuted": false,
    "execution_millis": 252217521,
    "execution_start": 1645371709815,
    "source_hash": "641f1975",
    "tags": []
   },
   "outputs": [
    {
     "name": "stdout",
     "output_type": "stream",
     "text": [
      "[74 74 72 ... 75 75 73]\n"
     ]
    },
    {
     "data": {
      "text/plain": [
       "(1034,)"
      ]
     },
     "execution_count": 57,
     "metadata": {},
     "output_type": "execute_result"
    }
   ],
   "source": [
    "print(height)\n",
    "height.shape"
   ]
  },
  {
   "cell_type": "code",
   "execution_count": 58,
   "metadata": {
    "cell_id": "c8b62a99c7214366a30a63496fc4e859",
    "deepnote_app_coordinates": {
     "h": 7,
     "w": 24,
     "x": 0,
     "y": 1244
    },
    "deepnote_cell_type": "code",
    "deepnote_to_be_reexecuted": false,
    "execution_millis": 252217566,
    "execution_start": 1645371709864,
    "source_hash": "5032d5f8",
    "tags": []
   },
   "outputs": [
    {
     "name": "stdout",
     "output_type": "stream",
     "text": [
      "[180 215 210 ... 205 190 195]\n"
     ]
    },
    {
     "data": {
      "text/plain": [
       "(1034,)"
      ]
     },
     "execution_count": 58,
     "metadata": {},
     "output_type": "execute_result"
    }
   ],
   "source": [
    "print(weight)\n",
    "weight.shape"
   ]
  },
  {
   "cell_type": "markdown",
   "metadata": {
    "cell_id": "255a9b4a399b47598c61b96551d8c37b",
    "deepnote_app_coordinates": {
     "h": 20,
     "w": 24,
     "x": 0,
     "y": 1252
    },
    "deepnote_cell_height": 373.375,
    "deepnote_cell_type": "markdown",
    "tags": []
   },
   "source": [
    "### Retos\n",
    "\n",
    "Deja en los comentarios del [blog](https://platzi.com/blog/numpy) tus respuestas y código para cada uno de estos ejercicios:\n",
    "\n",
    "1. Crea un nuevo array en el que transformes las unidades de las alturas a metros *(pista: multiplica por 0.0254).*\n",
    "2. Crea un nuevo array en el que transformes las unidades de los pesos a kilogramos *(pista: multiplica por 0.453592)*.\n",
    "3. Ahora vas a crear un nuevo array en el que calcules el IMC (Índice de Masa Corporal) de los jugadores a partir de los 2 vectores que creaste *(pista: la fórmula es `peso / altura²`).*\n",
    "4. ¿Cuál es el máximo IMC? ¿Y el mínimo?\n",
    "5. ¿Cuál es la media y la mediana del IMC? ¿Los valores son cercanos o hay un sesgo en los datos?\n",
    "6. ¿Qué hay de la desviación estándar?\n",
    "7. ¿Cuál es el peso y altura del jugador #734? ¿Es posible unificar los vectores en una matriz para obtener este resultado?\n",
    "8. Esto último no lo vimos en el tutorial, así que será un reto para ti. Vas a intentar filtrar los datos para obtener cuántos jugadores tienen un IMC por debajo de 21 *(pista: es posible hacerlo en una línea).*"
   ]
  },
  {
   "cell_type": "code",
   "execution_count": 59,
   "metadata": {
    "cell_id": "f01e74658b74446f8f8112aa7e4e5e59",
    "deepnote_app_coordinates": {
     "h": 4,
     "w": 24,
     "x": 0,
     "y": 1273
    },
    "deepnote_cell_type": "code",
    "deepnote_to_be_reexecuted": false,
    "execution_millis": 252217567,
    "execution_start": 1645371709950,
    "source_hash": "b4302205",
    "tags": []
   },
   "outputs": [],
   "source": [
    "# Hora de resolver los ejercicios"
   ]
  },
  {
   "cell_type": "code",
   "execution_count": 61,
   "metadata": {
    "cell_id": "f6fe6fc4a8194d5cb699154844394fec",
    "deepnote_app_coordinates": {
     "h": 5,
     "w": 12,
     "x": 0,
     "y": 0
    },
    "deepnote_cell_type": "code",
    "deepnote_to_be_reexecuted": false,
    "execution_millis": 252217624,
    "execution_start": 1645371710012,
    "source_hash": "8ffed63a",
    "tags": []
   },
   "outputs": [],
   "source": [
    "weight = weight * 0.453592\n",
    "height = height * 0.0254"
   ]
  },
  {
   "cell_type": "code",
   "execution_count": 62,
   "metadata": {
    "cell_id": "a26fb4fd060c4338b495dbe02918cc3e",
    "deepnote_app_coordinates": {
     "h": 5,
     "w": 12,
     "x": 0,
     "y": 0
    },
    "deepnote_cell_type": "code",
    "deepnote_to_be_reexecuted": false,
    "execution_millis": 252217592,
    "execution_start": 1645371710013,
    "source_hash": "5e9bd319",
    "tags": []
   },
   "outputs": [
    {
     "data": {
      "text/plain": [
       "array([[ 0.04774184, 37.03422644],\n",
       "       [ 0.04774184, 44.23532603],\n",
       "       [ 0.04645152, 43.20659752],\n",
       "       ...,\n",
       "       [ 0.048387  , 42.17786901],\n",
       "       [ 0.048387  , 39.09168347],\n",
       "       [ 0.04709668, 40.12041198]])"
      ]
     },
     "execution_count": 62,
     "metadata": {},
     "output_type": "execute_result"
    }
   ],
   "source": [
    "array_2d = np.array([height, weight]).T\n",
    "array_2d"
   ]
  },
  {
   "cell_type": "code",
   "execution_count": 64,
   "metadata": {},
   "outputs": [
    {
     "data": {
      "text/plain": [
       "array([ 0.04580636, 39.09168347])"
      ]
     },
     "execution_count": 64,
     "metadata": {},
     "output_type": "execute_result"
    }
   ],
   "source": [
    "array_2d[733]"
   ]
  },
  {
   "cell_type": "markdown",
   "metadata": {},
   "source": [
    "La transposición (.T) se utiliza para intercambiar las filas y columnas de la matriz, de modo que las alturas y los pesos se almacenan como pares (altura, peso) en filas consecutivas.\n",
    "El código accede al elemento de la matriz en la fila 733"
   ]
  },
  {
   "cell_type": "code",
   "execution_count": 65,
   "metadata": {
    "cell_id": "be2c9aff2e394f9e97d2ecaa8083e4c7",
    "deepnote_app_coordinates": {
     "h": 5,
     "w": 12,
     "x": 0,
     "y": 0
    },
    "deepnote_cell_type": "code",
    "deepnote_to_be_reexecuted": false,
    "execution_millis": 252217636,
    "execution_start": 1645371710013,
    "source_hash": "a6d88b32",
    "tags": []
   },
   "outputs": [
    {
     "name": "stdout",
     "output_type": "stream",
     "text": [
      "[ 0.04580636 39.09168347]\n"
     ]
    }
   ],
   "source": [
    "array_2d = np.array([height, weight])\n",
    "print(array_2d[:, 733])"
   ]
  },
  {
   "cell_type": "code",
   "execution_count": 67,
   "metadata": {
    "cell_id": "faf42ee98ccc440aae0c6fe6ad38bfa9",
    "deepnote_app_coordinates": {
     "h": 5,
     "w": 12,
     "x": 0,
     "y": 0
    },
    "deepnote_cell_type": "code",
    "deepnote_to_be_reexecuted": false,
    "execution_millis": 252217633,
    "execution_start": 1645371710014,
    "source_hash": "9cb5fcc4",
    "tags": []
   },
   "outputs": [
    {
     "data": {
      "text/plain": [
       "array([16248.18935912, 19407.55951228, 20023.97101703, ...,\n",
       "       18014.70855384, 16696.55914746, 18087.76043187])"
      ]
     },
     "execution_count": 67,
     "metadata": {},
     "output_type": "execute_result"
    }
   ],
   "source": [
    "imc = weight/(height**2)\n",
    "imc"
   ]
  },
  {
   "cell_type": "code",
   "execution_count": 68,
   "metadata": {
    "cell_id": "5ae7defe28bb40ddba62dae56538d245",
    "deepnote_app_coordinates": {
     "h": 5,
     "w": 12,
     "x": 0,
     "y": 0
    },
    "deepnote_cell_type": "code",
    "deepnote_to_be_reexecuted": false,
    "execution_millis": 252217641,
    "execution_start": 1645371710044,
    "source_hash": "6e1144d7",
    "tags": []
   },
   "outputs": [
    {
     "name": "stdout",
     "output_type": "stream",
     "text": [
      "(0,)\n"
     ]
    }
   ],
   "source": [
    "print(imc[imc<21].shape)"
   ]
  },
  {
   "cell_type": "code",
   "execution_count": 69,
   "metadata": {
    "cell_id": "8a182780db1742b792fe92dabfd3292e",
    "deepnote_app_coordinates": {
     "h": 5,
     "w": 12,
     "x": 0,
     "y": 0
    },
    "deepnote_cell_type": "code",
    "deepnote_to_be_reexecuted": false,
    "execution_millis": 287,
    "execution_start": 1645371710045,
    "source_hash": "4d2b0a38",
    "tags": []
   },
   "outputs": [
    {
     "data": {
      "text/plain": [
       "array([ 5.        ,  5.61538462,  6.23076923,  6.84615385,  7.46153846,\n",
       "        8.07692308,  8.69230769,  9.30769231,  9.92307692, 10.53846154,\n",
       "       11.15384615, 11.76923077, 12.38461538, 13.        ])"
      ]
     },
     "execution_count": 69,
     "metadata": {},
     "output_type": "execute_result"
    }
   ],
   "source": [
    "np.linspace(start=5, stop=13, num=14)"
   ]
  },
  {
   "cell_type": "code",
   "execution_count": 70,
   "metadata": {
    "cell_id": "27beebc351e348b5b3a208e8c1f72813",
    "deepnote_app_coordinates": {
     "h": 5,
     "w": 12,
     "x": 0,
     "y": 0
    },
    "deepnote_cell_type": "code",
    "deepnote_to_be_reexecuted": false,
    "execution_millis": 252217670,
    "execution_start": 1645371710046,
    "source_hash": "e5ff7e0c",
    "tags": []
   },
   "outputs": [
    {
     "data": {
      "text/plain": [
       "0.6153846153846154"
      ]
     },
     "execution_count": 70,
     "metadata": {},
     "output_type": "execute_result"
    }
   ],
   "source": [
    "# (stop-start) / (num-1)\n",
    "(13-5) / (14-1)"
   ]
  },
  {
   "cell_type": "code",
   "execution_count": 71,
   "metadata": {
    "cell_id": "a5bcdae29ab14f659491deadf06af8e3",
    "deepnote_app_coordinates": {
     "h": 5,
     "w": 12,
     "x": 0,
     "y": 0
    },
    "deepnote_cell_type": "code",
    "deepnote_to_be_reexecuted": false,
    "execution_millis": 252217716,
    "execution_start": 1645371710047,
    "source_hash": "5bbbcf20",
    "tags": []
   },
   "outputs": [
    {
     "data": {
      "text/plain": [
       "array([ 5.        ,  5.61538462,  6.23076923,  6.84615385,  7.46153846,\n",
       "        8.07692308,  8.69230769,  9.30769231,  9.92307692, 10.53846154,\n",
       "       11.15384615, 11.76923077, 12.38461538, 13.        ])"
      ]
     },
     "execution_count": 71,
     "metadata": {},
     "output_type": "execute_result"
    }
   ],
   "source": [
    "np.arange(5, 13 + (13-5) / (14-1), step=(13-5) / (14-1))"
   ]
  }
 ],
 "metadata": {
  "deepnote": {},
  "deepnote_app_layout": "article",
  "deepnote_execution_queue": [],
  "deepnote_notebook_id": "0a67558bea9c4d94a6b0450b6584adc9",
  "interpreter": {
   "hash": "2db524e06e9f5f4ffedc911c917cb75e12dbc923643829bf417064a77eb14d37"
  },
  "kernelspec": {
   "display_name": "Python 3 (ipykernel)",
   "language": "python",
   "name": "python3"
  },
  "language_info": {
   "codemirror_mode": {
    "name": "ipython",
    "version": 3
   },
   "file_extension": ".py",
   "mimetype": "text/x-python",
   "name": "python",
   "nbconvert_exporter": "python",
   "pygments_lexer": "ipython3",
   "version": "3.11.3"
  }
 },
 "nbformat": 4,
 "nbformat_minor": 1
}
