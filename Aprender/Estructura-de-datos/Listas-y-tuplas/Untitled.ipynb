{
 "cells": [
  {
   "cell_type": "code",
   "execution_count": 12,
   "id": "8a0aa56d",
   "metadata": {},
   "outputs": [
    {
     "name": "stdout",
     "output_type": "stream",
     "text": [
      "historia\n",
      "['mates', 'historia']\n"
     ]
    }
   ],
   "source": [
    "# ejercicio 1\n",
    "\n",
    "asignaturas = ['Matemáticas','Física', 'Química', 'Historia','Lengua']\n",
    "\n",
    "print(asignaturas)"
   ]
  },
  {
   "cell_type": "code",
   "execution_count": 13,
   "id": "deb6be05",
   "metadata": {},
   "outputs": [
    {
     "name": "stdout",
     "output_type": "stream",
     "text": [
      "Yo estudio Matemáticas\n",
      "Yo estudio Física\n",
      "Yo estudio Química\n",
      "Yo estudio Historia\n",
      "Yo estudio Lengua\n"
     ]
    }
   ],
   "source": [
    "#ejercicio 2\n",
    "\n",
    "asignaturas = ['Matemáticas','Física', 'Química', 'Historia','Lengua']\n",
    "\n",
    "for i in asignaturas:\n",
    "    print(f\"Yo estudio {i}\")"
   ]
  },
  {
   "cell_type": "code",
   "execution_count": 15,
   "id": "d1d72dcf",
   "metadata": {},
   "outputs": [
    {
     "name": "stdout",
     "output_type": "stream",
     "text": [
      "intoduce la nota que has sacado en Matemáticas10\n",
      "En Matemáticas has sacado 10 \n",
      "intoduce la nota que has sacado en Física5\n",
      "En Física has sacado 5 \n",
      "intoduce la nota que has sacado en Química2\n",
      "En Química has sacado 2 \n",
      "intoduce la nota que has sacado en Historia8\n",
      "En Historia has sacado 8 \n",
      "intoduce la nota que has sacado en Lengua9\n",
      "En Lengua has sacado 9 \n"
     ]
    }
   ],
   "source": [
    "#ejercicio 3\n",
    "asignaturas = ['Matemáticas','Física', 'Química', 'Historia','Lengua']\n",
    "\n",
    "notas=[]\n",
    "\n",
    "for i in asignaturas:\n",
    "    n = input(f\"intoduce la nota que has sacado en {i}\")\n",
    "    print(f\"En {i} has sacado {n} \")"
   ]
  },
  {
   "cell_type": "code",
   "execution_count": 19,
   "id": "67db9bb9",
   "metadata": {},
   "outputs": [
    {
     "name": "stdout",
     "output_type": "stream",
     "text": [
      "num de la loteria586\n",
      "terminar? si/nono\n",
      "num de la loteria5369\n",
      "terminar? si/nono\n",
      "num de la loteria7896\n",
      "terminar? si/nono\n",
      "num de la loteria479\n",
      "terminar? si/nosi\n",
      "['479', '5369', '586', '7896']\n"
     ]
    }
   ],
   "source": [
    "#ejercicio 4\n",
    "i = \"\"\n",
    "nums = []\n",
    "while \"si\" != i:\n",
    "    n = input(\"num de la loteria\")\n",
    "    nums.append(n)\n",
    "    nums.sort()\n",
    "    i= input(\"terminar? si/no\")\n",
    "print(nums)"
   ]
  },
  {
   "cell_type": "code",
   "execution_count": 1,
   "id": "443b833e",
   "metadata": {
    "scrolled": true
   },
   "outputs": [
    {
     "data": {
      "text/plain": [
       "[10, 9, 8, 7, 6, 5, 4, 3, 2, 1]"
      ]
     },
     "execution_count": 1,
     "metadata": {},
     "output_type": "execute_result"
    }
   ],
   "source": [
    "#ejercicio 5\n",
    "\n",
    "arr = [1,2,3,4,5,6,7,8,9,10]\n",
    "\n",
    "arr[::-1]"
   ]
  },
  {
   "cell_type": "code",
   "execution_count": 4,
   "id": "90af19f6",
   "metadata": {},
   "outputs": [
    {
     "name": "stdout",
     "output_type": "stream",
     "text": [
      "introduce nota de mates : 5\n",
      "introduce nota de fisica : 3\n",
      "introduce nota de Quimica : 6\n",
      "introduce nota de Historia : 4\n",
      "introduce nota de Lengua : 2\n",
      "['fisica', 'Historia', 'Lengua']\n"
     ]
    }
   ],
   "source": [
    "#ejercicio 6\n",
    "\n",
    "asignaturas = [\"mates\", \"fisica\", \"Quimica\", \"Historia\", \"Lengua\"]\n",
    "notas = []\n",
    "\n",
    "for i in asignaturas:\n",
    "    val = int(input(f\"introduce nota de {i} : \"))\n",
    "    if val < 5:\n",
    "        notas.append(i)\n",
    "print(notas)"
   ]
  },
  {
   "cell_type": "code",
   "execution_count": 3,
   "id": "4a848f86",
   "metadata": {},
   "outputs": [
    {
     "name": "stdout",
     "output_type": "stream",
     "text": [
      "['b', 'c', 'e', 'f', 'h', 'i', 'k', 'l', 'n', 'o', 'q', 'r', 't', 'u', 'w', 'x', 'z']\n"
     ]
    }
   ],
   "source": [
    "# ejercicio 7\n",
    "\n",
    "abc = ['a', 'b', 'c', 'd', 'e', 'f', 'g', 'h', 'i', 'j', 'k', 'l', 'm', 'n', 'o', 'p', 'q', 'r', 's', 't', 'u', 'v', 'w', 'x', 'y', 'z']\n",
    "\n",
    "new_abc = [i for index,i in enumerate(abc) if index % 3 != 0]\n",
    "print(new_abc)"
   ]
  },
  {
   "cell_type": "code",
   "execution_count": 5,
   "id": "27cb2ea5",
   "metadata": {},
   "outputs": [
    {
     "name": "stdout",
     "output_type": "stream",
     "text": [
      "pepe\n",
      "pepe no es un palindromo\n"
     ]
    }
   ],
   "source": [
    "# ejercicio 8\n",
    "\n",
    "palabra = input()\n",
    "\n",
    "if palabra == palabra[::-1]:\n",
    "    print(f'{palabra} es un palindromo')\n",
    "else:\n",
    "    print(f'{palabra} no es un palindromo')"
   ]
  },
  {
   "cell_type": "code",
   "execution_count": 9,
   "id": "58b074dd",
   "metadata": {},
   "outputs": [
    {
     "name": "stdout",
     "output_type": "stream",
     "text": [
      "mario\n",
      "mario tiene 3 palabras\n"
     ]
    }
   ],
   "source": [
    "# ejercicio 9\n",
    "\n",
    "palabra = input()\n",
    "contador = 0\n",
    "\n",
    "for index,p in enumerate(palabra):\n",
    "    if palabra[index] == 'a' or palabra[index] == 'e' or palabra[index] == 'i' or palabra[index] == 'o' or palabra[index] == 'u':\n",
    "        contador += 1\n",
    "print(f'{palabra} tiene {contador} palabras')"
   ]
  },
  {
   "cell_type": "code",
   "execution_count": 16,
   "id": "e6ed992c",
   "metadata": {},
   "outputs": [
    {
     "name": "stdout",
     "output_type": "stream",
     "text": [
      "8\n",
      "80\n"
     ]
    }
   ],
   "source": [
    "#ejercicio 10\n",
    "\n",
    "precios = [50,75,46,22,80,65,8]\n",
    "\n",
    "precios.sort()\n",
    "print(precios[0])\n",
    "print(precios[len(precios)-1])"
   ]
  },
  {
   "cell_type": "code",
   "execution_count": 18,
   "id": "d0c9a5e2",
   "metadata": {},
   "outputs": [
    {
     "name": "stdout",
     "output_type": "stream",
     "text": [
      "5\n"
     ]
    }
   ],
   "source": [
    "#ejercicio 11\n",
    "\n",
    "------------"
   ]
  },
  {
   "cell_type": "code",
   "execution_count": 20,
   "id": "4d15f899",
   "metadata": {},
   "outputs": [
    {
     "name": "stdout",
     "output_type": "stream",
     "text": [
      "2\n",
      "0\n",
      "1\n"
     ]
    }
   ],
   "source": [
    "#ejercicio 12\n",
    "\n",
    "matriz1 = [[2,0,1],[3,0,0],[5,1,1]]\n",
    "matriz2 = [[1,0,1],[1,2,1],[1,1,0]]\n",
    "\n",
    "result[]\n",
    "\n",
    "for i,m1 in enumerate(matriz1):\n",
    "    for i,m2 in enumerate(matriz2):\n",
    "        m1[i] * "
   ]
  },
  {
   "cell_type": "code",
   "execution_count": null,
   "id": "3cdc2fcc",
   "metadata": {},
   "outputs": [],
   "source": []
  }
 ],
 "metadata": {
  "kernelspec": {
   "display_name": "Python 3 (ipykernel)",
   "language": "python",
   "name": "python3"
  },
  "language_info": {
   "codemirror_mode": {
    "name": "ipython",
    "version": 3
   },
   "file_extension": ".py",
   "mimetype": "text/x-python",
   "name": "python",
   "nbconvert_exporter": "python",
   "pygments_lexer": "ipython3",
   "version": "3.11.3"
  }
 },
 "nbformat": 4,
 "nbformat_minor": 5
}
