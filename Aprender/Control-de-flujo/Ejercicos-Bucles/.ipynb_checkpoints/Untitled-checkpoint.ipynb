{
 "cells": [
  {
   "cell_type": "code",
   "execution_count": 3,
   "id": "8134dc1a",
   "metadata": {},
   "outputs": [
    {
     "name": "stdout",
     "output_type": "stream",
     "text": [
      "intoduce una palabrapalabra\n",
      "palabra\n",
      "palabra\n",
      "palabra\n",
      "palabra\n",
      "palabra\n",
      "palabra\n",
      "palabra\n",
      "palabra\n",
      "palabra\n",
      "palabra\n"
     ]
    }
   ],
   "source": [
    "# ejercicio 1\n",
    "\n",
    "char = input(\"intoduce una palabra\")\n",
    "i = 1;\n",
    "while i <=10:\n",
    "    print(char)\n",
    "    i += 1"
   ]
  },
  {
   "cell_type": "code",
   "execution_count": 2,
   "id": "6194c45e",
   "metadata": {},
   "outputs": [
    {
     "name": "stdout",
     "output_type": "stream",
     "text": [
      "introduce tu edad : 20\n",
      "1\n",
      "2\n",
      "3\n",
      "4\n",
      "5\n",
      "6\n",
      "7\n",
      "8\n",
      "9\n",
      "10\n",
      "11\n",
      "12\n",
      "13\n",
      "14\n",
      "15\n",
      "16\n",
      "17\n",
      "18\n",
      "19\n",
      "20\n"
     ]
    }
   ],
   "source": [
    "# ejercicio 2\n",
    "\n",
    "edad = int(input('introduce tu edad : '))\n",
    "i = 1\n",
    "\n",
    "while i <= edad:\n",
    "    print(i)\n",
    "    i += 1\n",
    "\n",
    "\n",
    "\n"
   ]
  },
  {
   "cell_type": "code",
   "execution_count": 2,
   "id": "cffe20e3",
   "metadata": {},
   "outputs": [
    {
     "name": "stdout",
     "output_type": "stream",
     "text": [
      "introduce un numero entero positivo : 20\n",
      "[1, 3, 5, 7, 9, 11, 13, 15, 17, 19]\n"
     ]
    }
   ],
   "source": [
    "# ejercicio 3\n",
    "\n",
    "n = int(input(\"introduce un numero entero positivo : \"))\n",
    "i= 1\n",
    "a = []\n",
    "while i <= n:\n",
    "    if i % 2 != 0:\n",
    "        a.append(i)\n",
    "        i += 1\n",
    "    else:\n",
    "        i+= 1\n",
    "print(a)"
   ]
  },
  {
   "cell_type": "code",
   "execution_count": 3,
   "id": "abe2bb7d",
   "metadata": {},
   "outputs": [
    {
     "name": "stdout",
     "output_type": "stream",
     "text": [
      "introduce un entero positivo : 20\n",
      "20\n",
      "19\n",
      "18\n",
      "17\n",
      "16\n",
      "15\n",
      "14\n",
      "13\n",
      "12\n",
      "11\n",
      "10\n",
      "9\n",
      "8\n",
      "7\n",
      "6\n",
      "5\n",
      "4\n",
      "3\n",
      "2\n",
      "1\n",
      "0\n"
     ]
    }
   ],
   "source": [
    "# ejercicio 4\n",
    "\n",
    "n = int(input(\"introduce un entero positivo : \"))\n",
    "\n",
    "while n >=0:\n",
    "    print(n)\n",
    "    n -= 1"
   ]
  },
  {
   "cell_type": "code",
   "execution_count": 1,
   "id": "54a929b9",
   "metadata": {},
   "outputs": [
    {
     "name": "stdout",
     "output_type": "stream",
     "text": [
      "cantidad a invertir : 1000\n",
      "Interes anual : 5\n",
      "años : 3\n",
      "Ganancia en el año 1: 6000\n",
      "Ganancia en el año 2: 36000\n",
      "Ganancia en el año 3: 216000\n"
     ]
    }
   ],
   "source": [
    "# ejercicio 5\n",
    "\n",
    "inversion = int(input(\"cantidad a invertir : \"))\n",
    "inAnual = int(input(\"Interes anual : \"))\n",
    "years= int(input(\"años : \"))\n",
    "i = 1\n",
    "\n",
    "ganancia = inversion * (1 + inAnual)**years\n",
    "\n",
    "while i <= years:\n",
    "    ganancia = inversion * (1 + inAnual)**i\n",
    "    print(f\"Ganancia en el año {i}: {ganancia}\")\n",
    "    i += 1\n",
    "    "
   ]
  },
  {
   "cell_type": "code",
   "execution_count": 8,
   "id": "4fff4eff",
   "metadata": {},
   "outputs": [
    {
     "name": "stdout",
     "output_type": "stream",
     "text": [
      "introduce un numero : 10\n",
      "*\n",
      "**\n",
      "***\n",
      "****\n",
      "*****\n",
      "******\n",
      "*******\n",
      "********\n",
      "*********\n",
      "**********\n"
     ]
    }
   ],
   "source": [
    "# ejercicio 6\n",
    "\n",
    "n = int(input(\"introduce un numero : \"))\n",
    "i= 1\n",
    "\n",
    "while i <= n:\n",
    "    print('*'*i)\n",
    "    i += 1"
   ]
  },
  {
   "cell_type": "code",
   "execution_count": 2,
   "id": "f2fdfc74",
   "metadata": {},
   "outputs": [
    {
     "name": "stdout",
     "output_type": "stream",
     "text": [
      "1x10 = 10\n",
      "2x10 = 20\n",
      "3x10 = 30\n",
      "4x10 = 40\n",
      "5x10 = 50\n",
      "6x10 = 60\n",
      "7x10 = 70\n",
      "8x10 = 80\n",
      "9x10 = 90\n",
      "10x10 = 100\n"
     ]
    }
   ],
   "source": [
    "# ejercicio 7\n",
    "i = 1\n",
    "while i <= 10:\n",
    "    print(f'{i}x10 = {i*10}')\n",
    "    i+=1"
   ]
  },
  {
   "cell_type": "code",
   "execution_count": 7,
   "id": "5b937ba3",
   "metadata": {},
   "outputs": [
    {
     "name": "stdout",
     "output_type": "stream",
     "text": [
      "introduce un numero : 9\n",
      "1 \n",
      "3 1 \n",
      "5 3 1 \n",
      "7 5 3 1 \n",
      "9 7 5 3 1 \n"
     ]
    }
   ],
   "source": [
    "# ejercicio 8\n",
    "\n",
    "n = int(input('introduce un numero : '))\n",
    "\n",
    "for i in range(1,n+1,2):\n",
    "    for j in range(i,0,-2):\n",
    "        print(j,end= \" \")\n",
    "    print()"
   ]
  },
  {
   "cell_type": "code",
   "execution_count": 4,
   "id": "2cc19058",
   "metadata": {},
   "outputs": [
    {
     "name": "stdout",
     "output_type": "stream",
     "text": [
      "vuelve a inciar sesion123\n",
      "Contraseña incorrecta\n",
      "vuelve a inciar sesion12345\n",
      "has inciaido sesion\n"
     ]
    }
   ],
   "source": [
    "# ejercicio 9\n",
    "cont = \"12345\"\n",
    "i = 0\n",
    "\n",
    "while i == 0:\n",
    "    inpC = input(\"vuelve a inciar sesion\")\n",
    "    if inpC == cont:\n",
    "        print(\"has inciaido sesion\")\n",
    "        i += 1\n",
    "    else:\n",
    "        print(\"Contraseña incorrecta\")"
   ]
  },
  {
   "cell_type": "code",
   "execution_count": 8,
   "id": "cb118b70",
   "metadata": {},
   "outputs": [
    {
     "name": "stdout",
     "output_type": "stream",
     "text": [
      "Introduce un numero : 5\n"
     ]
    },
    {
     "ename": "TypeError",
     "evalue": "'float' object cannot be interpreted as an integer",
     "output_type": "error",
     "traceback": [
      "\u001b[1;31m---------------------------------------------------------------------------\u001b[0m",
      "\u001b[1;31mTypeError\u001b[0m                                 Traceback (most recent call last)",
      "Cell \u001b[1;32mIn[8], line 9\u001b[0m\n\u001b[0;32m      6\u001b[0m     \u001b[38;5;28mprint\u001b[39m(\u001b[38;5;124m\"\u001b[39m\u001b[38;5;124mno es un numero primo\u001b[39m\u001b[38;5;124m\"\u001b[39m)\n\u001b[0;32m      8\u001b[0m \u001b[38;5;28;01melse\u001b[39;00m:\n\u001b[1;32m----> 9\u001b[0m     \u001b[38;5;28;01mfor\u001b[39;00m i \u001b[38;5;129;01min\u001b[39;00m \u001b[38;5;28mrange\u001b[39m(\u001b[38;5;241m2\u001b[39m,n\u001b[38;5;241m*\u001b[39m\u001b[38;5;241m*\u001b[39m\u001b[38;5;241m0.5\u001b[39m \u001b[38;5;241m+\u001b[39m\u001b[38;5;241m1\u001b[39m):\n\u001b[0;32m     10\u001b[0m         \u001b[38;5;28;01mif\u001b[39;00m n \u001b[38;5;241m%\u001b[39m \u001b[38;5;28mfloat\u001b[39m(i) \u001b[38;5;241m==\u001b[39m \u001b[38;5;241m0\u001b[39m:\n\u001b[0;32m     11\u001b[0m             \u001b[38;5;28mprint\u001b[39m(\u001b[38;5;124m\"\u001b[39m\u001b[38;5;124mno es primo\u001b[39m\u001b[38;5;124m\"\u001b[39m)\n",
      "\u001b[1;31mTypeError\u001b[0m: 'float' object cannot be interpreted as an integer"
     ]
    }
   ],
   "source": [
    "# ejercicio 10\n",
    "\n"
   ]
  },
  {
   "cell_type": "code",
   "execution_count": 4,
   "id": "caea2c2e",
   "metadata": {},
   "outputs": [
    {
     "name": "stdout",
     "output_type": "stream",
     "text": [
      "Introduce una palabra : ola\n",
      "a\n",
      "l\n",
      "o\n"
     ]
    }
   ],
   "source": [
    "# ejercicio 11\n",
    "\n",
    "l = input(\"Introduce una palabra : \")\n",
    "\n",
    "for i in l[::-1]:\n",
    "    print(i)"
   ]
  },
  {
   "cell_type": "code",
   "execution_count": 6,
   "id": "4031a0ec",
   "metadata": {},
   "outputs": [
    {
     "name": "stdout",
     "output_type": "stream",
     "text": [
      "introduce el nombre : marioma\n",
      "introducir la letra : m\n",
      "marioma tiene 2 veces la letra m\n"
     ]
    }
   ],
   "source": [
    "# ejercicio 12\n",
    "name = input(\"introduce el nombre : \")\n",
    "l = input(\"introducir la letra : \")\n",
    "count = 0\n",
    "\n",
    "for i in name:\n",
    "    if l == i:\n",
    "        count += 1\n",
    "print(f\"{name} tiene {count} veces la letra {l}\")\n"
   ]
  },
  {
   "cell_type": "code",
   "execution_count": 7,
   "id": "025dd41e",
   "metadata": {},
   "outputs": [
    {
     "name": "stdout",
     "output_type": "stream",
     "text": [
      "ola\n",
      "ola\n",
      "que tal\n",
      "que tal\n",
      "bien?\n",
      "bien?\n",
      "si?\n",
      "si?\n",
      "salir\n",
      "salir\n"
     ]
    }
   ],
   "source": [
    "# ejercicio 13 \n",
    "p=''\n",
    "while p != \"salir\":\n",
    "    p = input()\n",
    "    print(p)"
   ]
  },
  {
   "cell_type": "code",
   "execution_count": null,
   "id": "58de52d5",
   "metadata": {},
   "outputs": [],
   "source": []
  }
 ],
 "metadata": {
  "kernelspec": {
   "display_name": "Python 3 (ipykernel)",
   "language": "python",
   "name": "python3"
  },
  "language_info": {
   "codemirror_mode": {
    "name": "ipython",
    "version": 3
   },
   "file_extension": ".py",
   "mimetype": "text/x-python",
   "name": "python",
   "nbconvert_exporter": "python",
   "pygments_lexer": "ipython3",
   "version": "3.11.3"
  }
 },
 "nbformat": 4,
 "nbformat_minor": 5
}
