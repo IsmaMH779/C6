{
 "cells": [
  {
   "cell_type": "code",
   "execution_count": 3,
   "id": "8134dc1a",
   "metadata": {},
   "outputs": [
    {
     "name": "stdout",
     "output_type": "stream",
     "text": [
      "intoduce una palabrapalabra\n",
      "palabra\n",
      "palabra\n",
      "palabra\n",
      "palabra\n",
      "palabra\n",
      "palabra\n",
      "palabra\n",
      "palabra\n",
      "palabra\n",
      "palabra\n"
     ]
    }
   ],
   "source": [
    "# ejercicio 1\n",
    "\n",
    "char = input(\"intoduce una palabra\")\n",
    "i = 1;\n",
    "while i <=10:\n",
    "    print(char)\n",
    "    i += 1"
   ]
  },
  {
   "cell_type": "code",
   "execution_count": 2,
   "id": "6194c45e",
   "metadata": {},
   "outputs": [
    {
     "name": "stdout",
     "output_type": "stream",
     "text": [
      "introduce tu edad : 20\n",
      "1\n",
      "2\n",
      "3\n",
      "4\n",
      "5\n",
      "6\n",
      "7\n",
      "8\n",
      "9\n",
      "10\n",
      "11\n",
      "12\n",
      "13\n",
      "14\n",
      "15\n",
      "16\n",
      "17\n",
      "18\n",
      "19\n",
      "20\n"
     ]
    }
   ],
   "source": [
    "# ejercicio 2\n",
    "\n",
    "edad = int(input('introduce tu edad : '))\n",
    "i = 1\n",
    "\n",
    "while i <= edad:\n",
    "    print(i)\n",
    "    i += 1\n",
    "\n",
    "\n",
    "\n"
   ]
  },
  {
   "cell_type": "code",
   "execution_count": 2,
   "id": "cffe20e3",
   "metadata": {},
   "outputs": [
    {
     "name": "stdout",
     "output_type": "stream",
     "text": [
      "introduce un numero entero positivo : 20\n",
      "[1, 3, 5, 7, 9, 11, 13, 15, 17, 19]\n"
     ]
    }
   ],
   "source": [
    "# ejercicio 3\n",
    "\n",
    "n = int(input(\"introduce un numero entero positivo : \"))\n",
    "i= 1\n",
    "a = []\n",
    "while i <= n:\n",
    "    if i % 2 != 0:\n",
    "        a.append(i)\n",
    "        i += 1\n",
    "    else:\n",
    "        i+= 1\n",
    "print(a)"
   ]
  },
  {
   "cell_type": "code",
   "execution_count": 3,
   "id": "abe2bb7d",
   "metadata": {},
   "outputs": [
    {
     "name": "stdout",
     "output_type": "stream",
     "text": [
      "introduce un entero positivo : 20\n",
      "20\n",
      "19\n",
      "18\n",
      "17\n",
      "16\n",
      "15\n",
      "14\n",
      "13\n",
      "12\n",
      "11\n",
      "10\n",
      "9\n",
      "8\n",
      "7\n",
      "6\n",
      "5\n",
      "4\n",
      "3\n",
      "2\n",
      "1\n",
      "0\n"
     ]
    }
   ],
   "source": [
    "# ejercicio 4\n",
    "\n",
    "n = int(input(\"introduce un entero positivo : \"))\n",
    "\n",
    "while n >=0:\n",
    "    print(n)\n",
    "    n -= 1"
   ]
  },
  {
   "cell_type": "code",
   "execution_count": 1,
   "id": "54a929b9",
   "metadata": {},
   "outputs": [
    {
     "name": "stdout",
     "output_type": "stream",
     "text": [
      "cantidad a invertir : 1000\n",
      "Interes anual : 5\n",
      "años : 3\n",
      "Ganancia en el año 1: 6000\n",
      "Ganancia en el año 2: 36000\n",
      "Ganancia en el año 3: 216000\n"
     ]
    }
   ],
   "source": [
    "# ejercicio 5\n",
    "\n",
    "inversion = int(input(\"cantidad a invertir : \"))\n",
    "inAnual = int(input(\"Interes anual : \"))\n",
    "years= int(input(\"años : \"))\n",
    "i = 1\n",
    "\n",
    "ganancia = inversion * (1 + inAnual)**years\n",
    "\n",
    "while i <= years:\n",
    "    ganancia = inversion * (1 + inAnual)**i\n",
    "    print(f\"Ganancia en el año {i}: {ganancia}\")\n",
    "    i += 1\n",
    "    "
   ]
  },
  {
   "cell_type": "code",
   "execution_count": null,
   "id": "4fff4eff",
   "metadata": {},
   "outputs": [],
   "source": [
    "# ejercicio 6\n",
    "\n"
   ]
  }
 ],
 "metadata": {
  "kernelspec": {
   "display_name": "Python 3 (ipykernel)",
   "language": "python",
   "name": "python3"
  },
  "language_info": {
   "codemirror_mode": {
    "name": "ipython",
    "version": 3
   },
   "file_extension": ".py",
   "mimetype": "text/x-python",
   "name": "python",
   "nbconvert_exporter": "python",
   "pygments_lexer": "ipython3",
   "version": "3.11.3"
  }
 },
 "nbformat": 4,
 "nbformat_minor": 5
}
