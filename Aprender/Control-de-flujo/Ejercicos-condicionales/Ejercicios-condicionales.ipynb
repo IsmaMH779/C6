{
 "cells": [
  {
   "cell_type": "code",
   "execution_count": 1,
   "id": "181a6033",
   "metadata": {},
   "outputs": [
    {
     "name": "stdout",
     "output_type": "stream",
     "text": [
      "Escrbe tu edad15\n",
      "eres menor de edad\n"
     ]
    }
   ],
   "source": [
    "# Ejercicio 1\n",
    "\n",
    "edad = int(input('Escrbe tu edad'))\n",
    "if edad >= 18:\n",
    "    print('Eres mayor de edad')\n",
    "else:\n",
    "    print('eres menor de edad')"
   ]
  },
  {
   "cell_type": "code",
   "execution_count": 2,
   "id": "3267201f",
   "metadata": {},
   "outputs": [
    {
     "name": "stdout",
     "output_type": "stream",
     "text": [
      "Contraseña : 1Pepe\n",
      "Sesion iniciada\n"
     ]
    }
   ],
   "source": [
    "# Ejercicio 2\n",
    "\n",
    "password = \"1Pepe\"\n",
    "log = input(\"Contraseña : \")\n",
    "\n",
    "if password.lower() == log.lower():\n",
    "    print(\"Sesion iniciada\")\n",
    "else:\n",
    "    print(\"Error\")"
   ]
  },
  {
   "cell_type": "code",
   "execution_count": 5,
   "id": "c6f0df18",
   "metadata": {},
   "outputs": [
    {
     "name": "stdout",
     "output_type": "stream",
     "text": [
      "escribe un numero : 3\n",
      "escibe un divisor : 0\n",
      "no se puede dividir entre 0\n"
     ]
    }
   ],
   "source": [
    "# Ejercicio 3\n",
    "\n",
    "val1 = int(input(\"escribe un numero : \"))\n",
    "val2 = int(input(\"escibe un divisor : \"))\n",
    "\n",
    "if val2 != 0:\n",
    "    print(val1 / val2)\n",
    "else:\n",
    "    print(\"no se puede dividir entre 0\")"
   ]
  },
  {
   "cell_type": "code",
   "execution_count": 12,
   "id": "96225ef8",
   "metadata": {},
   "outputs": [
    {
     "name": "stdout",
     "output_type": "stream",
     "text": [
      "escribe un numero : 2\n",
      "2 es par\n"
     ]
    }
   ],
   "source": [
    "# ejercicio 4\n",
    "\n",
    "n = int(input(\"escribe un numero : \"))\n",
    "\n",
    "\n",
    "if n % 2 == 0:\n",
    "    print(f\"{n} es par\")\n",
    "else:\n",
    "    print(f\"{n} no es par\")\n"
   ]
  },
  {
   "cell_type": "code",
   "execution_count": 16,
   "id": "4123f62a",
   "metadata": {},
   "outputs": [
    {
     "name": "stdout",
     "output_type": "stream",
     "text": [
      "introduce tu edad : 16 \n",
      "introduce tu sueldo mensual : 1000\n",
      "no necesitas tributar\n"
     ]
    }
   ],
   "source": [
    "# Ejercicio 5\n",
    "\n",
    "edad = int(input(\"introduce tu edad : \"))\n",
    "sueldo = int(input(\"introduce tu sueldo mensual : \"))\n",
    "\n",
    "if edad > 16 and sueldo >= 1000:\n",
    "    print(\"tienes que tribuar\")\n",
    "else:\n",
    "    print(\"no necesitas tributar\")"
   ]
  },
  {
   "cell_type": "code",
   "execution_count": 26,
   "id": "d182f6d7",
   "metadata": {},
   "outputs": [
    {
     "name": "stdout",
     "output_type": "stream",
     "text": [
      "introduce tu nombre : zebro\n",
      "introduce tu genero : hombre\n",
      "Grupo asignado: A\n"
     ]
    }
   ],
   "source": [
    "# ejercicio 6\n",
    "\n",
    "name = input(\"introduce tu nombre : \")\n",
    "genero = input(\"introduce tu genero : \")\n",
    "\n",
    "if name[0] == 'a' or name[0] == 'b' or name[0] == 'c' or name[0] == 'd' or name[0] == 'e'or name[0] == 'f'or name[0] == 'g' or name[0] == 'h' or name[0] == 'i' or name[0] == 'j' or name[0] == 'k' or name[0] == 'l' or name[0] == 'm':\n",
    "    if genero == 'mujer':\n",
    "        print(\"Grupo asignado: A\")\n",
    "    else:\n",
    "        print(\"Grupo asignado: B\")\n",
    "else:\n",
    "    if genero == 'hombre':\n",
    "        print(\"Grupo asignado: A\")\n",
    "    else:\n",
    "        print(\"Grupo asignado; B\")\n",
    "    "
   ]
  },
  {
   "cell_type": "code",
   "execution_count": 31,
   "id": "7ecd1f6e",
   "metadata": {},
   "outputs": [
    {
     "name": "stdout",
     "output_type": "stream",
     "text": [
      "introduce tu sueldo anual : 35600\n",
      "Tipo impositivo : 30%\n"
     ]
    }
   ],
   "source": [
    "# Ejercicio 7\n",
    "\n",
    "sueldo = int(input(\"introduce tu sueldo anual : \"))\n",
    "\n",
    "if sueldo < 10000:\n",
    "    print('Tipo impositivo : 5%')\n",
    "elif sueldo >= 10000 and sueldo < 20000:\n",
    "    print('Tipo impositivo : 15%')\n",
    "elif sueldo >= 20000 and sueldo < 35000:\n",
    "    print('Tipo impositivo : 20%')\n",
    "elif sueldo >= 35000 and sueldo < 60000:\n",
    "    print('Tipo impositivo : 30%')\n",
    "else:\n",
    "    print('Tipo impositivo : 45%')\n",
    "        \n",
    "    "
   ]
  },
  {
   "cell_type": "code",
   "execution_count": 35,
   "id": "f2efd635",
   "metadata": {},
   "outputs": [
    {
     "name": "stdout",
     "output_type": "stream",
     "text": [
      "Escribe tu puntuacion : 0.6\n",
      "Tu nivel es MERITORIO\n",
      "Dinero que te toca: 1440.0\n"
     ]
    }
   ],
   "source": [
    "# Ejercicio 8\n",
    "\n",
    "puntos = float(input(\"Escribe tu puntuacion : \"))\n",
    "\n",
    "match puntos:\n",
    "    case 0.0:\n",
    "        print(\"Tu nivel es INACEPTABLE\")\n",
    "        n = 2400 * 0.0\n",
    "        print(f\"Dinero que te toca: {n}\")\n",
    "    case 0.4:\n",
    "        print(\"Tu nivel es ACEPTABLE\")\n",
    "        n = 2400 * 0.4\n",
    "        print(f\"Dinero que te toca: {n}\")\n",
    "    case 0.6:\n",
    "        print(\"Tu nivel es MERITORIO\")\n",
    "        n = 2400 * 0.6\n",
    "        print(f\"Dinero que te toca: {n}\")\n",
    "    case _:\n",
    "        print(\"introduce un valor correcto\")"
   ]
  },
  {
   "cell_type": "code",
   "execution_count": 41,
   "id": "6b1a7f0c",
   "metadata": {},
   "outputs": [
    {
     "name": "stdout",
     "output_type": "stream",
     "text": [
      "introduce tu edad : 304\n",
      "coste de entrada: 10 euros\n"
     ]
    }
   ],
   "source": [
    "# ejercicio 9\n",
    "\n",
    "edad = int(input(\"introduce tu edad : \"))\n",
    "\n",
    "if edad < 4:\n",
    "    print(\"coste de entrada: gratis\")\n",
    "elif edad >= 4 and edad <= 18:\n",
    "    print(\"coste de entrada: 5 euros\")\n",
    "else:\n",
    "    print(\"coste de entrada: 10 euros\")"
   ]
  },
  {
   "cell_type": "code",
   "execution_count": 45,
   "id": "b28c31be",
   "metadata": {},
   "outputs": [
    {
     "name": "stdout",
     "output_type": "stream",
     "text": [
      "¿La quieres vegana? si/no : no\n",
      "elige un ingrediente para añadir: peperoni, jamon, salmonpeproni\n",
      "Su pizza NO vegetariana contiene peproni, tomate y mozzarella\n"
     ]
    }
   ],
   "source": [
    "# ejercicio 10\n",
    "\n",
    "tipo = input(\"¿La quieres vegana? si/no : \")\n",
    "\n",
    "if tipo == \"si\":\n",
    "    ingrediente = input(\"elige un ingrediente para añadir: pimiento, tofu\")\n",
    "    print(f'Su pizza vegetariana contiene {ingrediente}, tomate y mozzarella')\n",
    "else:\n",
    "    ingrediente = input(\"elige un ingrediente para añadir: peperoni, jamon, salmon\")\n",
    "    print(f'Su pizza NO vegetariana contiene {ingrediente}, tomate y mozzarella')"
   ]
  },
  {
   "cell_type": "code",
   "execution_count": null,
   "id": "015821d0",
   "metadata": {},
   "outputs": [],
   "source": []
  }
 ],
 "metadata": {
  "kernelspec": {
   "display_name": "Python 3 (ipykernel)",
   "language": "python",
   "name": "python3"
  },
  "language_info": {
   "codemirror_mode": {
    "name": "ipython",
    "version": 3
   },
   "file_extension": ".py",
   "mimetype": "text/x-python",
   "name": "python",
   "nbconvert_exporter": "python",
   "pygments_lexer": "ipython3",
   "version": "3.11.3"
  }
 },
 "nbformat": 4,
 "nbformat_minor": 5
}
