{
 "cells": [
  {
   "cell_type": "code",
   "execution_count": 1,
   "id": "776254dd",
   "metadata": {},
   "outputs": [
    {
     "name": "stdout",
     "output_type": "stream",
     "text": [
      "hola amiga\n"
     ]
    }
   ],
   "source": [
    "#1\n",
    "\n",
    "saludo = lambda x:print(x)\n",
    "\n",
    "saludo(\"hola amiga\")"
   ]
  },
  {
   "cell_type": "code",
   "execution_count": 2,
   "id": "35691983",
   "metadata": {},
   "outputs": [
    {
     "name": "stdout",
     "output_type": "stream",
     "text": [
      "Hola miguel\n"
     ]
    }
   ],
   "source": [
    "#2\n",
    "\n",
    "saludo2 = lambda x:print( f\"Hola {x}\")\n",
    "\n",
    "saludo2(\"miguel\")"
   ]
  },
  {
   "cell_type": "code",
   "execution_count": 23,
   "id": "6153571b",
   "metadata": {},
   "outputs": [
    {
     "ename": "SyntaxError",
     "evalue": "expression cannot contain assignment, perhaps you meant \"==\"? (4071469421.py, line 2)",
     "output_type": "error",
     "traceback": [
      "\u001b[1;36m  Cell \u001b[1;32mIn[23], line 2\u001b[1;36m\u001b[0m\n\u001b[1;33m    valor = list(map(lambda x: contador = contador * x,5))\u001b[0m\n\u001b[1;37m                     ^\u001b[0m\n\u001b[1;31mSyntaxError\u001b[0m\u001b[1;31m:\u001b[0m expression cannot contain assignment, perhaps you meant \"==\"?\n"
     ]
    }
   ],
   "source": [
    "#3\n",
    "\n",
    "\n"
   ]
  },
  {
   "cell_type": "code",
   "execution_count": 28,
   "id": "a1fed959",
   "metadata": {},
   "outputs": [
    {
     "data": {
      "text/plain": [
       "5.5"
      ]
     },
     "execution_count": 28,
     "metadata": {},
     "output_type": "execute_result"
    }
   ],
   "source": [
    "#4\n",
    "\n",
    "precio_total = lambda precio,iva = 21: ((iva/100) * precio)+precio\n",
    "\n",
    "precio_total(5,10)"
   ]
  },
  {
   "cell_type": "code",
   "execution_count": 35,
   "id": "12d73d78",
   "metadata": {},
   "outputs": [
    {
     "name": "stdout",
     "output_type": "stream",
     "text": [
      "78.53981633974483\n",
      "523.5987755982989\n"
     ]
    }
   ],
   "source": [
    "#5\n",
    "import math\n",
    "\n",
    "area = lambda radio: math.pi * (radio**2)\n",
    "volumen = lambda radio: (4/3)* math.pi * (radio**3)\n",
    "print(area(5))\n",
    "print(volumen(5))"
   ]
  },
  {
   "cell_type": "code",
   "execution_count": 39,
   "id": "81fb0fef",
   "metadata": {},
   "outputs": [
    {
     "data": {
      "text/plain": [
       "[1, 2, 3, 4, 5]"
      ]
     },
     "execution_count": 39,
     "metadata": {},
     "output_type": "execute_result"
    }
   ],
   "source": [
    "#6\n",
    "\n"
   ]
  },
  {
   "cell_type": "code",
   "execution_count": 41,
   "id": "2e0a53aa",
   "metadata": {},
   "outputs": [
    {
     "data": {
      "text/plain": [
       "[1, 4, 9, 16, 25]"
      ]
     },
     "execution_count": 41,
     "metadata": {},
     "output_type": "execute_result"
    }
   ],
   "source": [
    "#7\n",
    "\n",
    "num =[1, 2, 3, 4, 5]\n",
    "\n",
    "new_list = list(map(lambda n: n**2,num))\n",
    "new_list"
   ]
  },
  {
   "cell_type": "code",
   "execution_count": null,
   "id": "50cec06f",
   "metadata": {},
   "outputs": [],
   "source": [
    "#8\n",
    "\n",
    "\n"
   ]
  },
  {
   "cell_type": "code",
   "execution_count": null,
   "id": "84202f5d",
   "metadata": {},
   "outputs": [],
   "source": [
    "#9\n",
    "\n"
   ]
  }
 ],
 "metadata": {
  "kernelspec": {
   "display_name": "Python 3 (ipykernel)",
   "language": "python",
   "name": "python3"
  },
  "language_info": {
   "codemirror_mode": {
    "name": "ipython",
    "version": 3
   },
   "file_extension": ".py",
   "mimetype": "text/x-python",
   "name": "python",
   "nbconvert_exporter": "python",
   "pygments_lexer": "ipython3",
   "version": "3.11.3"
  }
 },
 "nbformat": 4,
 "nbformat_minor": 5
}
