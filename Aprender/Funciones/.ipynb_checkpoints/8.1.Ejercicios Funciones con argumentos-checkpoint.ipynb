{
 "cells": [
  {
   "cell_type": "code",
   "execution_count": 18,
   "id": "817f175a",
   "metadata": {},
   "outputs": [
    {
     "name": "stdout",
     "output_type": "stream",
     "text": [
      "Hola me llamo Mario tengo 18 años y vivio en barcelona mi profesion es programador y tengo aficiones como futbol, gaming y surf.\n"
     ]
    }
   ],
   "source": [
    "#1\n",
    "\n",
    "def user(nombre,edad,ciudad,profesion,hobbies):\n",
    "    aficiones = ''\n",
    "    for index,i in enumerate(hobbies):\n",
    "        if index +1 == len(hobbies):\n",
    "            aficiones += (i)\n",
    "        elif index + 1 == len(hobbies) -1:\n",
    "            aficiones += (i + \" y \")\n",
    "        else:\n",
    "            aficiones += (i + \", \") \n",
    "    return f\"Hola me llamo {nombre} tengo {edad} años y vivio en {ciudad} mi profesion es {profesion} y tengo aficiones como {aficiones}.\"\n",
    "\n",
    "Datos = user('Mario',18,'barcelona','programador',['futbol','gaming','surf'])\n",
    "print(Datos)"
   ]
  },
  {
   "cell_type": "code",
   "execution_count": 36,
   "id": "3612ed51",
   "metadata": {},
   "outputs": [
    {
     "name": "stdout",
     "output_type": "stream",
     "text": [
      "5\n"
     ]
    }
   ],
   "source": [
    "#2\n",
    "\n",
    "def suma(a = 0,b = 0,*,c = 0,d = 0):\n",
    "    if c and d:\n",
    "        return c + d\n",
    "    else:\n",
    "        return a + b\n",
    "\n",
    "operacion = suma(4, 4,c = 3,d = 2)\n",
    "print(operacion)"
   ]
  },
  {
   "cell_type": "code",
   "execution_count": 43,
   "id": "3a6ee88b",
   "metadata": {},
   "outputs": [
    {
     "data": {
      "text/plain": [
       "10.0"
      ]
     },
     "execution_count": 43,
     "metadata": {},
     "output_type": "execute_result"
    }
   ],
   "source": [
    "#3\n",
    "\n",
    "def triangulo(base,altura,tipo = 'escaleno'):\n",
    "    \n",
    "    if tipo == 'isosceles':\n",
    "        return base * altura\n",
    "    elif tipo == 'equilatero':\n",
    "        return (base*altura)/2\n",
    "    elif tipo == 'escaleno':\n",
    "        return (base*altura)/2\n",
    "    \n",
    "triangulo(4,5)"
   ]
  },
  {
   "cell_type": "code",
   "execution_count": 51,
   "id": "dbdefb0d",
   "metadata": {},
   "outputs": [
    {
     "data": {
      "text/plain": [
       "'hola como estas (12, 34, 56, 78)'"
      ]
     },
     "execution_count": 51,
     "metadata": {},
     "output_type": "execute_result"
    }
   ],
   "source": [
    "#4 \n",
    "\n",
    "def algo(a,b,*,c,d):\n",
    "    return f'hola como estas {a,b,c,d}'\n",
    "algo(12,34,c=56,d=78)"
   ]
  },
  {
   "cell_type": "code",
   "execution_count": 62,
   "id": "d24be908",
   "metadata": {},
   "outputs": [
    {
     "data": {
      "text/plain": [
       "5"
      ]
     },
     "execution_count": 62,
     "metadata": {},
     "output_type": "execute_result"
    }
   ],
   "source": [
    "#5\n",
    "\n",
    "def nom(n = 1, /,a = 0,b = 0,c = 0):\n",
    "    return a + b + c\n",
    "nom(1,b=2,c=3)"
   ]
  },
  {
   "cell_type": "code",
   "execution_count": 65,
   "id": "b2d0376d",
   "metadata": {},
   "outputs": [
    {
     "data": {
      "text/plain": [
       "6"
      ]
     },
     "execution_count": 65,
     "metadata": {},
     "output_type": "execute_result"
    }
   ],
   "source": [
    "#6\n",
    "\n",
    "def abc(n= 1, *,a = 0,b = 0,c = 0):\n",
    "    return a+b+c\n",
    "abc(a = 1,b = 2,c = 3)"
   ]
  },
  {
   "cell_type": "code",
   "execution_count": null,
   "id": "7569f39b",
   "metadata": {},
   "outputs": [],
   "source": []
  }
 ],
 "metadata": {
  "kernelspec": {
   "display_name": "Python 3 (ipykernel)",
   "language": "python",
   "name": "python3"
  },
  "language_info": {
   "codemirror_mode": {
    "name": "ipython",
    "version": 3
   },
   "file_extension": ".py",
   "mimetype": "text/x-python",
   "name": "python",
   "nbconvert_exporter": "python",
   "pygments_lexer": "ipython3",
   "version": "3.11.3"
  }
 },
 "nbformat": 4,
 "nbformat_minor": 5
}
